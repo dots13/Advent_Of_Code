{
 "cells": [
  {
   "cell_type": "markdown",
   "id": "a145568d",
   "metadata": {},
   "source": [
    "# DAY 1"
   ]
  },
  {
   "cell_type": "markdown",
   "id": "f6fe9756",
   "metadata": {},
   "source": [
    "## Task 1"
   ]
  },
  {
   "cell_type": "code",
   "execution_count": 1,
   "id": "ac0acc4f",
   "metadata": {},
   "outputs": [],
   "source": [
    "from typing import Tuple"
   ]
  },
  {
   "cell_type": "code",
   "execution_count": 2,
   "id": "0b8208ba",
   "metadata": {},
   "outputs": [
    {
     "name": "stdout",
     "output_type": "stream",
     "text": [
      "55834\n"
     ]
    }
   ],
   "source": [
    "count = 0\n",
    "with open('Day_1_data/input.txt') as fp:\n",
    "    for line in fp:\n",
    "        digit_list = [x for x in line if x.isdigit()]\n",
    "        count+=int(digit_list[0] + digit_list[-1])\n",
    "print(count)"
   ]
  },
  {
   "cell_type": "markdown",
   "id": "45ed1f84",
   "metadata": {},
   "source": [
    "## Task 2"
   ]
  },
  {
   "cell_type": "code",
   "execution_count": 3,
   "id": "af7f87b3",
   "metadata": {},
   "outputs": [],
   "source": [
    "digit_map = {'one': '1',\n",
    "             'two' : '2', \n",
    "             'three' : '3', \n",
    "             'four' : '4', \n",
    "             'five' : '5', \n",
    "             'six' : '6', \n",
    "             'seven' : '7', \n",
    "             'eight' : '8',\n",
    "             'nine' : '9' \n",
    "            }"
   ]
  },
  {
   "cell_type": "code",
   "execution_count": 4,
   "id": "51c1e9f7",
   "metadata": {},
   "outputs": [],
   "source": [
    "def check_and_replace(string: str) -> Tuple[str, bool]:\n",
    "    input_string = string\n",
    "    for key in digit_map.keys():\n",
    "        string = string.replace(key, digit_map[key])\n",
    "    return string, input_string==string"
   ]
  },
  {
   "cell_type": "code",
   "execution_count": 5,
   "id": "52aea620",
   "metadata": {},
   "outputs": [],
   "source": [
    "def replace_to_digits(string: str) -> str:\n",
    "    digit = ''\n",
    "    len_str = len(string)\n",
    "    for i in range(len_str):\n",
    "        if string[i].isdigit():\n",
    "            digit = string[i]\n",
    "            break\n",
    "        else:\n",
    "            new_str, flag = check_and_replace(string[:i + 1])\n",
    "            if not flag:\n",
    "                digit = new_str[-1]\n",
    "                break\n",
    "\n",
    "    return digit"
   ]
  },
  {
   "cell_type": "code",
   "execution_count": 6,
   "id": "6854c47e",
   "metadata": {},
   "outputs": [],
   "source": [
    "def replace_to_digits_rev(string: str) -> str:\n",
    "    digit = ''\n",
    "    len_str = len(string)\n",
    "    for i in range(len_str):\n",
    "        if string[-i - 1].isdigit():\n",
    "            digit = string[-i - 1]\n",
    "            break\n",
    "        else:\n",
    "            new_str, flag = check_and_replace(string[-i - 1:])\n",
    "            if not flag:\n",
    "                digit = new_str[0]\n",
    "                break\n",
    "\n",
    "    return digit"
   ]
  },
  {
   "cell_type": "code",
   "execution_count": 7,
   "id": "8e98e2d8",
   "metadata": {},
   "outputs": [
    {
     "name": "stdout",
     "output_type": "stream",
     "text": [
      "53221\n"
     ]
    }
   ],
   "source": [
    "list_out = []\n",
    "count = 0\n",
    "with open('Day_1_data/input.txt') as fp:\n",
    "    for line in fp:\n",
    "        list_out.append(\n",
    "            int(replace_to_digits(line) + replace_to_digits_rev(line)))\n",
    "        count += int(replace_to_digits(line) + replace_to_digits_rev(line))\n",
    "print(count)"
   ]
  },
  {
   "cell_type": "markdown",
   "id": "e191b7be",
   "metadata": {},
   "source": [
    "# Day 2"
   ]
  },
  {
   "cell_type": "markdown",
   "id": "ab062c03",
   "metadata": {},
   "source": [
    "## Task 1"
   ]
  },
  {
   "cell_type": "code",
   "execution_count": 8,
   "id": "c45571c8",
   "metadata": {},
   "outputs": [],
   "source": [
    "import pandas as pd"
   ]
  },
  {
   "cell_type": "code",
   "execution_count": 9,
   "id": "fa8de6fe",
   "metadata": {},
   "outputs": [],
   "source": [
    "game_1_red = pd.Series()\n",
    "game_1_blue = pd.Series()\n",
    "game_1_green = pd.Series()\n",
    "\n",
    "game_2_red = pd.Series()\n",
    "game_2_blue = pd.Series()\n",
    "game_2_green = pd.Series()\n",
    "\n",
    "game_3_red = pd.Series()\n",
    "game_3_blue = pd.Series()\n",
    "game_3_green = pd.Series()\n",
    "\n",
    "with open('Day_2_data/input.txt') as fp:\n",
    "    for line in fp:\n",
    "        split_1 = line.split(':')\n",
    "        split_2 = split_1[1].split(';')\n",
    "        game_index = int(split_1[0].split(' ')[-1])\n",
    "        k=0\n",
    "        for i in split_2:\n",
    "            split_3 = i.split(',')\n",
    "            k = k+1\n",
    "            for j in split_3:\n",
    "                jj = j.split(' ')\n",
    "                val_color = jj[-1]\n",
    "                val = int(jj[-2])\n",
    "                if k==1 and val_color=='red':\n",
    "                    game_1_red.at[game_index] = val\n",
    "                elif k==1 and val_color=='blue':\n",
    "                    game_1_blue.at[game_index] = val\n",
    "                elif k==1 and val_color=='green':\n",
    "                    game_1_green.at[game_index] = val\n",
    "                elif k==2 and val_color=='red':\n",
    "                    game_2_red.at[game_index] = val\n",
    "                elif k==2 and val_color=='blue':\n",
    "                    game_2_blue.at[game_index] = val\n",
    "                elif k==2 and val_color=='green':\n",
    "                    game_2_green.at[game_index] = val\n",
    "                if k==3 and val_color=='red':\n",
    "                    game_3_red.at[game_index] = val\n",
    "                elif k==3 and val_color=='blue':\n",
    "                    game_3_blue.at[game_index] = val\n",
    "                elif k==3 and val_color=='green':\n",
    "                    game_3_green.at[game_index] = int(val)\n"
   ]
  },
  {
   "cell_type": "code",
   "execution_count": 10,
   "id": "425e6f11",
   "metadata": {},
   "outputs": [],
   "source": [
    "frame = {\n",
    "    'game_1_red': game_1_red,\n",
    "    'game_1_green': game_1_green,\n",
    "    'game_1_blue': game_1_blue,\n",
    "    'game_2_red': game_2_red,\n",
    "    'game_2_green': game_2_green,\n",
    "    'game_2_blue': game_2_blue,\n",
    "    'game_3_red': game_3_red,\n",
    "    'game_3_green': game_3_green,\n",
    "    'game_3_blue': game_3_blue\n",
    "}\n",
    "\n",
    "df = pd.DataFrame(frame)\n",
    "df.fillna(0, inplace=True)\n",
    "\n",
    "red_limit = 12\n",
    "green_limit = 13\n",
    "blue_limit = 14\n",
    "\n",
    "df = df.apply(pd.to_numeric)"
   ]
  },
  {
   "cell_type": "code",
   "execution_count": 11,
   "id": "b103da05",
   "metadata": {},
   "outputs": [],
   "source": [
    "df = df.apply(pd.to_numeric)"
   ]
  },
  {
   "cell_type": "code",
   "execution_count": 12,
   "id": "152228aa",
   "metadata": {},
   "outputs": [
    {
     "data": {
      "text/html": [
       "<div>\n",
       "<style scoped>\n",
       "    .dataframe tbody tr th:only-of-type {\n",
       "        vertical-align: middle;\n",
       "    }\n",
       "\n",
       "    .dataframe tbody tr th {\n",
       "        vertical-align: top;\n",
       "    }\n",
       "\n",
       "    .dataframe thead th {\n",
       "        text-align: right;\n",
       "    }\n",
       "</style>\n",
       "<table border=\"1\" class=\"dataframe\">\n",
       "  <thead>\n",
       "    <tr style=\"text-align: right;\">\n",
       "      <th></th>\n",
       "      <th>game_1_red</th>\n",
       "      <th>game_1_green</th>\n",
       "      <th>game_1_blue</th>\n",
       "      <th>game_2_red</th>\n",
       "      <th>game_2_green</th>\n",
       "      <th>game_2_blue</th>\n",
       "      <th>game_3_red</th>\n",
       "      <th>game_3_green</th>\n",
       "      <th>game_3_blue</th>\n",
       "    </tr>\n",
       "  </thead>\n",
       "  <tbody>\n",
       "    <tr>\n",
       "      <th>1</th>\n",
       "      <td>0.0</td>\n",
       "      <td>1.0</td>\n",
       "      <td>2.0</td>\n",
       "      <td>12.0</td>\n",
       "      <td>2.0</td>\n",
       "      <td>15.0</td>\n",
       "      <td>4.0</td>\n",
       "      <td>0.0</td>\n",
       "      <td>6.0</td>\n",
       "    </tr>\n",
       "    <tr>\n",
       "      <th>2</th>\n",
       "      <td>2.0</td>\n",
       "      <td>5.0</td>\n",
       "      <td>18.0</td>\n",
       "      <td>6.0</td>\n",
       "      <td>9.0</td>\n",
       "      <td>18.0</td>\n",
       "      <td>0.0</td>\n",
       "      <td>3.0</td>\n",
       "      <td>6.0</td>\n",
       "    </tr>\n",
       "    <tr>\n",
       "      <th>3</th>\n",
       "      <td>16.0</td>\n",
       "      <td>10.0</td>\n",
       "      <td>0.0</td>\n",
       "      <td>12.0</td>\n",
       "      <td>9.0</td>\n",
       "      <td>6.0</td>\n",
       "      <td>0.0</td>\n",
       "      <td>10.0</td>\n",
       "      <td>5.0</td>\n",
       "    </tr>\n",
       "    <tr>\n",
       "      <th>4</th>\n",
       "      <td>0.0</td>\n",
       "      <td>20.0</td>\n",
       "      <td>9.0</td>\n",
       "      <td>1.0</td>\n",
       "      <td>10.0</td>\n",
       "      <td>3.0</td>\n",
       "      <td>0.0</td>\n",
       "      <td>18.0</td>\n",
       "      <td>7.0</td>\n",
       "    </tr>\n",
       "    <tr>\n",
       "      <th>5</th>\n",
       "      <td>8.0</td>\n",
       "      <td>3.0</td>\n",
       "      <td>0.0</td>\n",
       "      <td>10.0</td>\n",
       "      <td>0.0</td>\n",
       "      <td>1.0</td>\n",
       "      <td>6.0</td>\n",
       "      <td>4.0</td>\n",
       "      <td>0.0</td>\n",
       "    </tr>\n",
       "  </tbody>\n",
       "</table>\n",
       "</div>"
      ],
      "text/plain": [
       "   game_1_red  game_1_green  game_1_blue  game_2_red  game_2_green  \\\n",
       "1         0.0           1.0          2.0        12.0           2.0   \n",
       "2         2.0           5.0         18.0         6.0           9.0   \n",
       "3        16.0          10.0          0.0        12.0           9.0   \n",
       "4         0.0          20.0          9.0         1.0          10.0   \n",
       "5         8.0           3.0          0.0        10.0           0.0   \n",
       "\n",
       "   game_2_blue  game_3_red  game_3_green  game_3_blue  \n",
       "1         15.0         4.0           0.0          6.0  \n",
       "2         18.0         0.0           3.0          6.0  \n",
       "3          6.0         0.0          10.0          5.0  \n",
       "4          3.0         0.0          18.0          7.0  \n",
       "5          1.0         6.0           4.0          0.0  "
      ]
     },
     "execution_count": 12,
     "metadata": {},
     "output_type": "execute_result"
    }
   ],
   "source": [
    "df.head()"
   ]
  },
  {
   "cell_type": "code",
   "execution_count": 13,
   "id": "6f1ad7ab",
   "metadata": {},
   "outputs": [],
   "source": [
    "red_condition = (df[['game_1_red', 'game_2_red', 'game_3_red']] <= red_limit).all(1)\n",
    "green_condition = (df[['game_1_green', 'game_2_green', 'game_3_green']] <= green_limit).all(1)\n",
    "blue_condition = (df[['game_1_blue', 'game_2_blue', 'game_3_blue']] <= blue_limit).all(1)\n",
    "\n",
    "filtered_indices = df[red_condition & green_condition & blue_condition].index\n",
    "total = sum(filtered_indices)"
   ]
  },
  {
   "cell_type": "code",
   "execution_count": 14,
   "id": "6f64db69",
   "metadata": {},
   "outputs": [
    {
     "data": {
      "text/plain": [
       "3105"
      ]
     },
     "execution_count": 14,
     "metadata": {},
     "output_type": "execute_result"
    }
   ],
   "source": [
    "total"
   ]
  },
  {
   "cell_type": "markdown",
   "id": "0bcd1511",
   "metadata": {},
   "source": [
    "## Task 2"
   ]
  },
  {
   "cell_type": "code",
   "execution_count": 17,
   "id": "5d6611ba",
   "metadata": {},
   "outputs": [],
   "source": [
    "count = 0\n",
    "with open('Day_2_data/input.txt') as fp:\n",
    "    for line in fp:\n",
    "        split_1 = line.split(':')\n",
    "        split_2 = split_1[1].split(';')\n",
    "        game_index = int(split_1[0].split(' ')[-1])\n",
    "        max_red = 1\n",
    "        max_green = 1\n",
    "        max_blue = 1\n",
    "        power = 1\n",
    "        for i in split_2:\n",
    "            split_3 = i.split(',')\n",
    "            k = k+1\n",
    "            for j in split_3:\n",
    "                jj = j.split(' ')\n",
    "                val_color = jj[-1].replace('\\n', '')\n",
    "                val = int(jj[-2].strip())\n",
    "                if (val_color == 'red'):\n",
    "                    max_red = max(max_red, val)\n",
    "                elif (val_color == 'green'):\n",
    "                    max_green = max(max_green, val)\n",
    "                elif (val_color == 'blue'):\n",
    "                    max_blue = max(max_blue, val)\n",
    "                else:\n",
    "                    pass\n",
    "        #print(max_red, max_green, max_blue)\n",
    "        power = max_red * max_green * max_blue\n",
    "        count += power"
   ]
  },
  {
   "cell_type": "code",
   "execution_count": 18,
   "id": "55ab742b",
   "metadata": {},
   "outputs": [
    {
     "data": {
      "text/plain": [
       "55593"
      ]
     },
     "execution_count": 18,
     "metadata": {},
     "output_type": "execute_result"
    }
   ],
   "source": [
    "count"
   ]
  },
  {
   "cell_type": "markdown",
   "id": "f9826e56",
   "metadata": {},
   "source": [
    "# Day 3"
   ]
  },
  {
   "cell_type": "markdown",
   "id": "e6e9cfe8",
   "metadata": {},
   "source": [
    "## Task 1 "
   ]
  },
  {
   "cell_type": "code",
   "execution_count": 19,
   "id": "8011f96f",
   "metadata": {},
   "outputs": [],
   "source": [
    "import re\n",
    "from typing import List"
   ]
  },
  {
   "cell_type": "code",
   "execution_count": 20,
   "id": "4f608efa",
   "metadata": {},
   "outputs": [],
   "source": [
    "def search_symbol_positions(string: str) -> List[int]:\n",
    "    pos_list = []\n",
    "    for i in range(len(string)):\n",
    "        if (string[i] != '.') & (not string[i].isdigit()):\n",
    "            pos_list.append(i)\n",
    "    return pos_list"
   ]
  },
  {
   "cell_type": "code",
   "execution_count": 21,
   "id": "a7f041aa",
   "metadata": {},
   "outputs": [],
   "source": [
    "def search_numbers(string_1: str, string_2: str, string_3: str) -> int:\n",
    "    sum_in_string = 0\n",
    "    symbol_positions = search_symbol_positions(string_1) + \\\n",
    "                        search_symbol_positions(string_2) + \\\n",
    "                        search_symbol_positions(string_3)\n",
    "    #drop duplicates\n",
    "    symbol_positions = list(set(symbol_positions))\n",
    "    symbol_positions.sort()\n",
    "    #search numbers in string 2\n",
    "    rep_str = re.sub(\"[^0-9]\", \" \", string_2)\n",
    "    num_list = rep_str.split(' ')\n",
    "    num_list = [i for i in num_list if i.isdigit()]\n",
    "    for num in num_list:\n",
    "        start_position = string_2.find(num)\n",
    "        number_len = len(num)\n",
    "        for idx in symbol_positions:\n",
    "            if (idx >= (start_position - 1)) & (idx <= (start_position + number_len)):\n",
    "                sum_in_string+=int(num)\n",
    "                break\n",
    "        string_2 = string_2.replace(num, '.'*number_len, 1)\n",
    "    return sum_in_string"
   ]
  },
  {
   "cell_type": "code",
   "execution_count": 22,
   "id": "72e50f4f",
   "metadata": {},
   "outputs": [
    {
     "name": "stdout",
     "output_type": "stream",
     "text": [
      "520135\n"
     ]
    }
   ],
   "source": [
    "count = 0\n",
    "string_1 = '.'\n",
    "string_2 = '.'\n",
    "string_3 = '.'\n",
    "with open('Day_3_data/input_nastya.txt') as fp:\n",
    "    for line in fp:\n",
    "        line = line.replace('\\n', '')\n",
    "        string_1 = string_2\n",
    "        string_2 = string_3\n",
    "        string_3 = line\n",
    "        line_sum = search_numbers(string_1, string_2, string_3)\n",
    "        count+=line_sum\n",
    "    count+=search_numbers(string_2, string_3, '.')\n",
    "print(count)"
   ]
  },
  {
   "cell_type": "markdown",
   "id": "fe845fd7",
   "metadata": {},
   "source": [
    "## Task 2"
   ]
  },
  {
   "cell_type": "code",
   "execution_count": 23,
   "id": "78336d06",
   "metadata": {},
   "outputs": [],
   "source": [
    "from typing import List, Tuple"
   ]
  },
  {
   "cell_type": "code",
   "execution_count": 24,
   "id": "0d1828e9",
   "metadata": {},
   "outputs": [],
   "source": [
    "def search_asterisk_positions(string: str) -> List[int]:\n",
    "    pos_list = []\n",
    "    for i in range(len(string)):\n",
    "        if (string[i] == '*'):\n",
    "            pos_list.append(i)\n",
    "    return pos_list"
   ]
  },
  {
   "cell_type": "code",
   "execution_count": 25,
   "id": "1de05cbd",
   "metadata": {},
   "outputs": [],
   "source": [
    "def search_number_positions(string_num: str) -> List[Tuple[int, Tuple[int, int]]]:\n",
    "    dic_pos = []\n",
    "    rep_str = re.sub(\"[^0-9]\", \" \", string_num)\n",
    "    num_list = rep_str.split(' ')\n",
    "    num_list = [i for i in num_list if i.isdigit()]\n",
    "    for num in num_list:\n",
    "        number_len = len(num)\n",
    "        start_position = string_num.find(num)\n",
    "        string_num = string_num.replace(num, '.'*number_len, 1)\n",
    "        dic_pos.append([int(num), [start_position, start_position+number_len-1]])\n",
    "    return dic_pos"
   ]
  },
  {
   "cell_type": "code",
   "execution_count": 23,
   "id": "fcb953b6",
   "metadata": {},
   "outputs": [
    {
     "name": "stdout",
     "output_type": "stream",
     "text": [
      "72514855\n"
     ]
    }
   ],
   "source": [
    "count = 0\n",
    "string_1 = '.'\n",
    "string_2 = '.'\n",
    "string_3 = '.'\n",
    "with open('Day_3_data/input.txt') as fp:\n",
    "    for line in fp:\n",
    "        number_list = []\n",
    "        line = line.replace('\\n', '')\n",
    "        string_1 = string_2\n",
    "        string_2 = string_3\n",
    "        string_3 = line\n",
    "        num_pos = []\n",
    "        prod_numbers = 0\n",
    "        if search_number_positions(string_1):\n",
    "            num_pos.append(search_number_positions(string_1))\n",
    "        if search_number_positions(string_2):\n",
    "            num_pos.append(search_number_positions(string_2))\n",
    "        if search_number_positions(string_3):\n",
    "            num_pos.append(search_number_positions(string_3))\n",
    "        flat_num_pos = [item for sublist in num_pos for item in sublist]\n",
    "        asterisk_pos = search_asterisk_positions(string_2)\n",
    "        for ast in asterisk_pos:\n",
    "            number_list = []\n",
    "            prod_numbers=0\n",
    "            for i in flat_num_pos:\n",
    "                if (ast>=i[1][0]-1) and (ast<=i[1][1]+1):\n",
    "                    number_list.append(i[0])\n",
    "            \n",
    "            if len(number_list)==2:\n",
    "                prod_numbers = number_list[0]*number_list[1]\n",
    "            count+=prod_numbers\n",
    "print(count)\n",
    "    "
   ]
  },
  {
   "cell_type": "markdown",
   "id": "2095a171",
   "metadata": {},
   "source": [
    "# Day 4"
   ]
  },
  {
   "cell_type": "markdown",
   "id": "c6062399",
   "metadata": {},
   "source": [
    "## Task 1\n"
   ]
  },
  {
   "cell_type": "code",
   "execution_count": 26,
   "id": "8abed44f",
   "metadata": {},
   "outputs": [],
   "source": [
    "def list_intersection(lst1: List[int], lst2: List[int]) -> List[int]:\n",
    "    lst3 = [value for value in lst1 if value in lst2]\n",
    "    return lst3"
   ]
  },
  {
   "cell_type": "code",
   "execution_count": 27,
   "id": "1d9c7ee1",
   "metadata": {},
   "outputs": [
    {
     "name": "stdout",
     "output_type": "stream",
     "text": [
      "COUNT:  28750\n"
     ]
    }
   ],
   "source": [
    "count = 0\n",
    "with open('Day_4_data/input.txt') as fp:\n",
    "    for line in fp:\n",
    "        interseptopns = 0\n",
    "        line = ' '.join(line.split())\n",
    "        subs = line.split('|')\n",
    "        win_num = subs[0].split(':')[1].strip().split(' ')\n",
    "        my_num = subs[1].split(':')[0].strip().split(' ')\n",
    "        interseptopns = list_intersection(win_num, my_num)\n",
    "        if  len(interseptopns) >= 1:\n",
    "            count+=(2**(len(interseptopns)-1))\n",
    "        else:\n",
    "            continue\n",
    "print('COUNT: ', count)"
   ]
  },
  {
   "cell_type": "markdown",
   "id": "b6c6a377",
   "metadata": {},
   "source": [
    " ## Task 2"
   ]
  },
  {
   "cell_type": "code",
   "execution_count": 28,
   "id": "997541ff",
   "metadata": {},
   "outputs": [
    {
     "name": "stdout",
     "output_type": "stream",
     "text": [
      "COUNT:  28750\n"
     ]
    }
   ],
   "source": [
    "count = 0\n",
    "game_dic = {}\n",
    "with open('Day_4_data/input_2.txt') as fp:\n",
    "    for line in fp:\n",
    "        interseptopns = 0\n",
    "        line = ' '.join(line.split())\n",
    "        subs = line.split('|')\n",
    "        game_num = int(subs[0].split(':')[0].split(' ')[1])\n",
    "        win_num = subs[0].split(':')[1].strip().split(' ')\n",
    "        my_num = subs[1].split(':')[0].strip().split(' ')\n",
    "        interseptopns = list_intersection(win_num, my_num)\n",
    "        game_dic[game_num] = len(interseptopns)\n",
    "        if  len(interseptopns) >= 1:\n",
    "            count+=(2**(len(interseptopns)-1))\n",
    "        else:\n",
    "            continue\n",
    "print('COUNT: ', count)"
   ]
  },
  {
   "cell_type": "code",
   "execution_count": 29,
   "id": "726f3e51",
   "metadata": {},
   "outputs": [],
   "source": [
    "dic_copies = {}\n",
    "for k,v in game_dic.items():\n",
    "      dic_copies[k] = 1 \n",
    "        \n",
    "for k,v in game_dic.items():\n",
    "    for i in range(0, v):\n",
    "        if (i+k+1) <= list(dic_copies)[-1]:\n",
    "            dic_copies[i+k+1] += dic_copies[k]\n",
    "        else:\n",
    "            pass"
   ]
  },
  {
   "cell_type": "code",
   "execution_count": 30,
   "id": "2c06a436",
   "metadata": {},
   "outputs": [
    {
     "data": {
      "text/plain": [
       "10212704"
      ]
     },
     "execution_count": 30,
     "metadata": {},
     "output_type": "execute_result"
    }
   ],
   "source": [
    "sum(dic_copies.values())"
   ]
  },
  {
   "cell_type": "markdown",
   "id": "9f677154",
   "metadata": {},
   "source": [
    "# Day 5"
   ]
  },
  {
   "cell_type": "markdown",
   "id": "3bddc06e",
   "metadata": {},
   "source": [
    "## Task 1"
   ]
  },
  {
   "cell_type": "code",
   "execution_count": 31,
   "id": "6e9a0a52",
   "metadata": {},
   "outputs": [],
   "source": [
    "import itertools\n",
    "from typing import Dict, List, Tuple"
   ]
  },
  {
   "cell_type": "code",
   "execution_count": 32,
   "id": "a31ba143",
   "metadata": {},
   "outputs": [],
   "source": [
    "names_list = open('Day_5_data/input.txt', \"r\").read().split('\\n')"
   ]
  },
  {
   "cell_type": "code",
   "execution_count": 33,
   "id": "60bf30cf",
   "metadata": {},
   "outputs": [],
   "source": [
    "list_group =  [[list(g)] for m, g in itertools.groupby(names_list, key=lambda x: x!='') if m]\n",
    "list_group = list(itertools.chain.from_iterable(list_group))\n",
    "list_of_maps = list_group[1:]\n",
    "\n",
    "seed_numbers = list_group[0][0].split(':')[1].strip().split(' ')\n",
    "seed_numbers = list(map(int, seed_numbers))\n",
    "seed_dictionary = dict(zip(seed_numbers, seed_numbers))"
   ]
  },
  {
   "cell_type": "code",
   "execution_count": 34,
   "id": "dae62616",
   "metadata": {},
   "outputs": [],
   "source": [
    "#[print(i, '\\n\\n') for i in list_of_maps]"
   ]
  },
  {
   "cell_type": "code",
   "execution_count": 35,
   "id": "7b97e06a",
   "metadata": {
    "code_folding": []
   },
   "outputs": [],
   "source": [
    "def seed_decoder(seed_num: int, seed_maps: Dict[int, int]) -> int:\n",
    "    for i in seed_maps:\n",
    "        map_line = i.split(' ')\n",
    "        map_line = list(map(int, map_line))\n",
    "        #print(seed_num)\n",
    "        #print(map_line)\n",
    "        if (seed_num >= map_line[1]) & (seed_num <= map_line[1] + map_line[2]):\n",
    "            map_delta =  map_line[0] - map_line[1]\n",
    "            return (seed_num + map_delta)\n",
    "        else:\n",
    "            continue\n",
    "    return seed_num"
   ]
  },
  {
   "cell_type": "code",
   "execution_count": 36,
   "id": "a96d342d",
   "metadata": {},
   "outputs": [],
   "source": [
    "for maps in list_of_maps:\n",
    "    current_map = maps[1:]\n",
    "    for key, val in seed_dictionary.items():\n",
    "        decode_seed = seed_decoder(val, current_map)\n",
    "        seed_dictionary[key] = decode_seed"
   ]
  },
  {
   "cell_type": "code",
   "execution_count": 38,
   "id": "f59affd9",
   "metadata": {},
   "outputs": [
    {
     "data": {
      "text/plain": [
       "309796150"
      ]
     },
     "execution_count": 38,
     "metadata": {},
     "output_type": "execute_result"
    }
   ],
   "source": [
    "min(seed_dictionary.values())"
   ]
  },
  {
   "cell_type": "markdown",
   "id": "5571500a",
   "metadata": {},
   "source": [
    "# Day 6"
   ]
  },
  {
   "cell_type": "markdown",
   "id": "5ec01e19",
   "metadata": {},
   "source": [
    "## Task 1"
   ]
  },
  {
   "cell_type": "code",
   "execution_count": 40,
   "id": "64e1080d",
   "metadata": {},
   "outputs": [],
   "source": [
    "import numpy"
   ]
  },
  {
   "cell_type": "code",
   "execution_count": 41,
   "id": "4bdaa740",
   "metadata": {},
   "outputs": [],
   "source": [
    "input_data = open('Day_6_data/test_1.txt', \"r\").read().split('\\n')"
   ]
  },
  {
   "cell_type": "code",
   "execution_count": 42,
   "id": "e8044716",
   "metadata": {},
   "outputs": [
    {
     "name": "stdout",
     "output_type": "stream",
     "text": [
      "[7, 15, 30]\n",
      "[9, 40, 200]\n"
     ]
    }
   ],
   "source": [
    "time_list = [' '.join(i.split()) for i in input_data[0].split(':')[1:]]\n",
    "time_list = list(map(int,time_list[0].split(' ')))\n",
    "dist_list = [' '.join(i.split()) for i in input_data[1].split(':')[1:]]\n",
    "dist_list = list(map(int,dist_list[0].split(' ')))\n",
    "print(time_list)\n",
    "print(dist_list)"
   ]
  },
  {
   "cell_type": "code",
   "execution_count": 43,
   "id": "66aadd41",
   "metadata": {},
   "outputs": [],
   "source": [
    "win_list=[]\n",
    "for i in range(len(time_list)):\n",
    "    win_comb = 0\n",
    "    for j in range(time_list[i]+1):\n",
    "        if (j*(time_list[i]-j)) > dist_list[i]:\n",
    "            win_comb+=1\n",
    "    win_list.append(win_comb)"
   ]
  },
  {
   "cell_type": "code",
   "execution_count": 44,
   "id": "009b6a93",
   "metadata": {},
   "outputs": [
    {
     "data": {
      "text/plain": [
       "288"
      ]
     },
     "execution_count": 44,
     "metadata": {},
     "output_type": "execute_result"
    }
   ],
   "source": [
    "np.prod(win_list)"
   ]
  },
  {
   "cell_type": "markdown",
   "id": "4cfc9c12",
   "metadata": {},
   "source": [
    "## Task 2"
   ]
  },
  {
   "cell_type": "code",
   "execution_count": 45,
   "id": "a42a9194",
   "metadata": {},
   "outputs": [],
   "source": [
    "input_data = open('Day_6_data/input.txt', \"r\").read().split('\\n')"
   ]
  },
  {
   "cell_type": "code",
   "execution_count": 46,
   "id": "c5328261",
   "metadata": {},
   "outputs": [
    {
     "data": {
      "text/plain": [
       "['59796575']"
      ]
     },
     "execution_count": 46,
     "metadata": {},
     "output_type": "execute_result"
    }
   ],
   "source": [
    "input_data[0].replace(' ', '').split(':')[1:]"
   ]
  },
  {
   "cell_type": "code",
   "execution_count": 47,
   "id": "cb173736",
   "metadata": {},
   "outputs": [
    {
     "name": "stdout",
     "output_type": "stream",
     "text": [
      "59796575\n",
      "597123410321328\n"
     ]
    }
   ],
   "source": [
    "time_list = input_data[0].replace(' ', '').split(':')[1:]\n",
    "time = int(time_list[0])\n",
    "dist_list = input_data[1].replace(' ', '').split(':')[1:]\n",
    "dist = int(dist_list[0])\n",
    "print(time)\n",
    "print(dist)"
   ]
  },
  {
   "cell_type": "code",
   "execution_count": 48,
   "id": "9ee2e8bc",
   "metadata": {},
   "outputs": [
    {
     "name": "stdout",
     "output_type": "stream",
     "text": [
      "34454850\n"
     ]
    }
   ],
   "source": [
    "win_list=[]\n",
    "win_comb=0\n",
    "for j in range(time+1):\n",
    "    #print(j, time-j, j*(time-j))\n",
    "    if (j*(time-j)) > dist:\n",
    "        win_comb+=1\n",
    "print(win_comb)"
   ]
  },
  {
   "cell_type": "markdown",
   "id": "969a76f0",
   "metadata": {},
   "source": [
    "# Day 7"
   ]
  },
  {
   "cell_type": "markdown",
   "id": "0c048617",
   "metadata": {},
   "source": [
    "## Task 1"
   ]
  },
  {
   "cell_type": "code",
   "execution_count": 49,
   "id": "5528d79d",
   "metadata": {},
   "outputs": [],
   "source": [
    "from collections import Counter\n",
    "import pandas as pd"
   ]
  },
  {
   "cell_type": "code",
   "execution_count": 50,
   "id": "31cd4810",
   "metadata": {},
   "outputs": [],
   "source": [
    "input_data = open('Day_7_data/input.txt', \"r\").read().split('\\n')"
   ]
  },
  {
   "cell_type": "code",
   "execution_count": 51,
   "id": "b029a9e2",
   "metadata": {},
   "outputs": [
    {
     "data": {
      "text/plain": [
       "1000"
      ]
     },
     "execution_count": 51,
     "metadata": {},
     "output_type": "execute_result"
    }
   ],
   "source": [
    "len(input_data)"
   ]
  },
  {
   "cell_type": "code",
   "execution_count": 52,
   "id": "7bff8480",
   "metadata": {},
   "outputs": [],
   "source": [
    "cards = pd.Series()\n",
    "bid = pd.Series()"
   ]
  },
  {
   "cell_type": "code",
   "execution_count": 54,
   "id": "9e12c323",
   "metadata": {},
   "outputs": [],
   "source": [
    "cards = []\n",
    "bid = []\n",
    "\n",
    "for i, hand in enumerate(input_data):\n",
    "    val = hand.split(' ')\n",
    "    cards.append(val[0])\n",
    "    bid.append(int(val[1]))  "
   ]
  },
  {
   "cell_type": "code",
   "execution_count": 55,
   "id": "50d0739d",
   "metadata": {},
   "outputs": [],
   "source": [
    "df = pd.DataFrame(list(zip(cards, bid)), columns =['cards', 'bid'])"
   ]
  },
  {
   "cell_type": "code",
   "execution_count": 56,
   "id": "3ffef513",
   "metadata": {},
   "outputs": [],
   "source": [
    "def counter_dic(string: str) -> List[int]:\n",
    "    val_list = list(Counter(list(string)).values())\n",
    "    return sorted(val_list, reverse=True)"
   ]
  },
  {
   "cell_type": "code",
   "execution_count": 57,
   "id": "1d534820",
   "metadata": {},
   "outputs": [],
   "source": [
    "def first_lvl_rank(rank_list: List[int]):\n",
    "    if (rank_list == [5]):\n",
    "        return 6\n",
    "    elif (rank_list == [4, 1]):\n",
    "        return 5\n",
    "    elif (rank_list == [3, 2]):\n",
    "        return 4\n",
    "    elif (rank_list == [3, 1, 1]):\n",
    "        return 3\n",
    "    elif (rank_list == [2, 2, 1]):\n",
    "        return 2\n",
    "    elif (rank_list == [2, 1, 1, 1]):\n",
    "        return 1\n",
    "    elif (rank_list == [1, 1, 1, 1, 1]):\n",
    "        return 0"
   ]
  },
  {
   "cell_type": "code",
   "execution_count": 59,
   "id": "92ec01f0",
   "metadata": {},
   "outputs": [],
   "source": [
    "def card_replace(card: str) -> int:\n",
    "    if card=='T':\n",
    "        return 10\n",
    "    elif card=='J':\n",
    "        return 11\n",
    "    elif card=='Q':\n",
    "        return 12\n",
    "    elif card=='K':\n",
    "        return 13\n",
    "    elif card=='A':\n",
    "        return 14\n",
    "    else:\n",
    "        return int(card)"
   ]
  },
  {
   "cell_type": "code",
   "execution_count": 60,
   "id": "829cac2c",
   "metadata": {},
   "outputs": [],
   "source": [
    "df['combination'] = df.cards.apply(counter_dic)\n",
    "df['first_lvl_rank'] = df.combination.apply(first_lvl_rank)"
   ]
  },
  {
   "cell_type": "code",
   "execution_count": 61,
   "id": "28fd955b",
   "metadata": {},
   "outputs": [],
   "source": [
    "cards_df = pd.DataFrame(df.cards.apply(list).tolist())\n",
    "cards_df.columns = ['card_1', 'card_2', 'card_3', 'card_4', 'card_5']\n",
    "cards_df = cards_df.applymap(card_replace)"
   ]
  },
  {
   "cell_type": "code",
   "execution_count": 62,
   "id": "25fc055c",
   "metadata": {},
   "outputs": [],
   "source": [
    "df = pd.concat([df, cards_df], axis=1)\n"
   ]
  },
  {
   "cell_type": "code",
   "execution_count": 64,
   "id": "9fd26c99",
   "metadata": {},
   "outputs": [
    {
     "data": {
      "text/html": [
       "<div>\n",
       "<style scoped>\n",
       "    .dataframe tbody tr th:only-of-type {\n",
       "        vertical-align: middle;\n",
       "    }\n",
       "\n",
       "    .dataframe tbody tr th {\n",
       "        vertical-align: top;\n",
       "    }\n",
       "\n",
       "    .dataframe thead th {\n",
       "        text-align: right;\n",
       "    }\n",
       "</style>\n",
       "<table border=\"1\" class=\"dataframe\">\n",
       "  <thead>\n",
       "    <tr style=\"text-align: right;\">\n",
       "      <th></th>\n",
       "      <th>cards</th>\n",
       "      <th>bid</th>\n",
       "      <th>combination</th>\n",
       "      <th>first_lvl_rank</th>\n",
       "      <th>card_1</th>\n",
       "      <th>card_2</th>\n",
       "      <th>card_3</th>\n",
       "      <th>card_4</th>\n",
       "      <th>card_5</th>\n",
       "    </tr>\n",
       "  </thead>\n",
       "  <tbody>\n",
       "    <tr>\n",
       "      <th>0</th>\n",
       "      <td>QTTQK</td>\n",
       "      <td>749</td>\n",
       "      <td>[2, 2, 1]</td>\n",
       "      <td>2</td>\n",
       "      <td>12</td>\n",
       "      <td>10</td>\n",
       "      <td>10</td>\n",
       "      <td>12</td>\n",
       "      <td>13</td>\n",
       "    </tr>\n",
       "    <tr>\n",
       "      <th>1</th>\n",
       "      <td>JQAA2</td>\n",
       "      <td>148</td>\n",
       "      <td>[2, 1, 1, 1]</td>\n",
       "      <td>1</td>\n",
       "      <td>11</td>\n",
       "      <td>12</td>\n",
       "      <td>14</td>\n",
       "      <td>14</td>\n",
       "      <td>2</td>\n",
       "    </tr>\n",
       "    <tr>\n",
       "      <th>2</th>\n",
       "      <td>37J44</td>\n",
       "      <td>319</td>\n",
       "      <td>[2, 1, 1, 1]</td>\n",
       "      <td>1</td>\n",
       "      <td>3</td>\n",
       "      <td>7</td>\n",
       "      <td>11</td>\n",
       "      <td>4</td>\n",
       "      <td>4</td>\n",
       "    </tr>\n",
       "    <tr>\n",
       "      <th>3</th>\n",
       "      <td>559J5</td>\n",
       "      <td>647</td>\n",
       "      <td>[3, 1, 1]</td>\n",
       "      <td>3</td>\n",
       "      <td>5</td>\n",
       "      <td>5</td>\n",
       "      <td>9</td>\n",
       "      <td>11</td>\n",
       "      <td>5</td>\n",
       "    </tr>\n",
       "    <tr>\n",
       "      <th>4</th>\n",
       "      <td>92992</td>\n",
       "      <td>659</td>\n",
       "      <td>[3, 2]</td>\n",
       "      <td>4</td>\n",
       "      <td>9</td>\n",
       "      <td>2</td>\n",
       "      <td>9</td>\n",
       "      <td>9</td>\n",
       "      <td>2</td>\n",
       "    </tr>\n",
       "  </tbody>\n",
       "</table>\n",
       "</div>"
      ],
      "text/plain": [
       "   cards  bid   combination  first_lvl_rank  card_1  card_2  card_3  card_4  \\\n",
       "0  QTTQK  749     [2, 2, 1]               2      12      10      10      12   \n",
       "1  JQAA2  148  [2, 1, 1, 1]               1      11      12      14      14   \n",
       "2  37J44  319  [2, 1, 1, 1]               1       3       7      11       4   \n",
       "3  559J5  647     [3, 1, 1]               3       5       5       9      11   \n",
       "4  92992  659        [3, 2]               4       9       2       9       9   \n",
       "\n",
       "   card_5  \n",
       "0      13  \n",
       "1       2  \n",
       "2       4  \n",
       "3       5  \n",
       "4       2  "
      ]
     },
     "execution_count": 64,
     "metadata": {},
     "output_type": "execute_result"
    }
   ],
   "source": [
    "df.head()"
   ]
  },
  {
   "cell_type": "code",
   "execution_count": 65,
   "id": "d55fec73",
   "metadata": {},
   "outputs": [],
   "source": [
    "df = df.sort_values(['first_lvl_rank', 'card_1', 'card_2', 'card_3', 'card_4', 'card_5']).reset_index()"
   ]
  },
  {
   "cell_type": "code",
   "execution_count": 66,
   "id": "d08e19ac",
   "metadata": {},
   "outputs": [
    {
     "data": {
      "text/plain": [
       "256448566"
      ]
     },
     "execution_count": 66,
     "metadata": {},
     "output_type": "execute_result"
    }
   ],
   "source": [
    "sum((df.index + 1)*df.bid)"
   ]
  },
  {
   "cell_type": "markdown",
   "id": "9bca2c02",
   "metadata": {},
   "source": [
    "## Task 2"
   ]
  },
  {
   "cell_type": "code",
   "execution_count": 67,
   "id": "44acb387",
   "metadata": {},
   "outputs": [],
   "source": [
    "from collections import Counter\n",
    "import pandas as pd"
   ]
  },
  {
   "cell_type": "code",
   "execution_count": 68,
   "id": "1d721920",
   "metadata": {},
   "outputs": [],
   "source": [
    "input_data = open('Day_7_data/input.txt', \"r\").read().split('\\n')"
   ]
  },
  {
   "cell_type": "code",
   "execution_count": 69,
   "id": "788bc662",
   "metadata": {},
   "outputs": [],
   "source": [
    "cards = []\n",
    "bid = []\n",
    "\n",
    "for i, hand in enumerate(input_data):\n",
    "    val = hand.split(' ')\n",
    "    cards.append(val[0])\n",
    "    bid.append(int(val[1]))  "
   ]
  },
  {
   "cell_type": "code",
   "execution_count": 70,
   "id": "6b923022",
   "metadata": {},
   "outputs": [],
   "source": [
    "df = pd.DataFrame(list(zip(cards, bid)), columns =['cards', 'bid'])"
   ]
  },
  {
   "cell_type": "code",
   "execution_count": 71,
   "id": "c65562c9",
   "metadata": {},
   "outputs": [],
   "source": [
    "def joker_replace(string: str) -> str:\n",
    "    string_without_J = string.replace('J', '')\n",
    "    if string_without_J:\n",
    "        val_list = list(Counter(list(string_without_J)).values())\n",
    "        card_list = list(Counter(list(string_without_J)).keys())\n",
    "        max_idx = val_list.index(max(val_list))\n",
    "        best_card = card_list[max_idx]\n",
    "        return string.replace('J', best_card)\n",
    "    else:\n",
    "        return 'AAAAA'"
   ]
  },
  {
   "cell_type": "code",
   "execution_count": 72,
   "id": "7d82a522",
   "metadata": {},
   "outputs": [],
   "source": [
    "df['new_cards'] = df.cards.apply(joker_replace)"
   ]
  },
  {
   "cell_type": "code",
   "execution_count": 73,
   "id": "2376006b",
   "metadata": {},
   "outputs": [],
   "source": [
    "def card_replace(card: str) -> int:\n",
    "    if card=='T':\n",
    "        return 10\n",
    "    elif card=='J':\n",
    "        return 0\n",
    "    elif card=='Q':\n",
    "        return 12\n",
    "    elif card=='K':\n",
    "        return 13\n",
    "    elif card=='A':\n",
    "        return 14\n",
    "    else:\n",
    "        return int(card)"
   ]
  },
  {
   "cell_type": "code",
   "execution_count": 74,
   "id": "c623cffd",
   "metadata": {},
   "outputs": [],
   "source": [
    "def counter_dic(string: str) -> List[int]:\n",
    "    val_list = list(Counter(list(string)).values())\n",
    "    return sorted(val_list, reverse=True)"
   ]
  },
  {
   "cell_type": "code",
   "execution_count": 75,
   "id": "3b8f3126",
   "metadata": {},
   "outputs": [],
   "source": [
    "def first_lvl_rank(rank_list: List[int]) -> int:\n",
    "    if (rank_list == [5]):\n",
    "        return 6\n",
    "    elif (rank_list == [4, 1]):\n",
    "        return 5\n",
    "    elif (rank_list == [3, 2]):\n",
    "        return 4\n",
    "    elif (rank_list == [3, 1, 1]):\n",
    "        return 3\n",
    "    elif (rank_list == [2, 2, 1]):\n",
    "        return 2\n",
    "    elif (rank_list == [2, 1, 1, 1]):\n",
    "        return 1\n",
    "    elif (rank_list == [1, 1, 1, 1, 1]):\n",
    "        return 0"
   ]
  },
  {
   "cell_type": "code",
   "execution_count": 76,
   "id": "eb604dac",
   "metadata": {},
   "outputs": [],
   "source": [
    "df['combination'] = df.new_cards.apply(counter_dic)\n",
    "df['first_lvl_rank'] = df.combination.apply(first_lvl_rank)"
   ]
  },
  {
   "cell_type": "code",
   "execution_count": 77,
   "id": "e626ad67",
   "metadata": {},
   "outputs": [],
   "source": [
    "cards_df = pd.DataFrame(df.cards.apply(list).tolist())\n",
    "cards_df.columns = ['card_1', 'card_2', 'card_3', 'card_4', 'card_5']\n",
    "cards_df = cards_df.applymap(card_replace)"
   ]
  },
  {
   "cell_type": "code",
   "execution_count": 78,
   "id": "c3e4c748",
   "metadata": {},
   "outputs": [],
   "source": [
    "df = pd.concat([df, cards_df], axis=1)"
   ]
  },
  {
   "cell_type": "code",
   "execution_count": 80,
   "id": "d0aee9a6",
   "metadata": {},
   "outputs": [
    {
     "data": {
      "text/html": [
       "<div>\n",
       "<style scoped>\n",
       "    .dataframe tbody tr th:only-of-type {\n",
       "        vertical-align: middle;\n",
       "    }\n",
       "\n",
       "    .dataframe tbody tr th {\n",
       "        vertical-align: top;\n",
       "    }\n",
       "\n",
       "    .dataframe thead th {\n",
       "        text-align: right;\n",
       "    }\n",
       "</style>\n",
       "<table border=\"1\" class=\"dataframe\">\n",
       "  <thead>\n",
       "    <tr style=\"text-align: right;\">\n",
       "      <th></th>\n",
       "      <th>cards</th>\n",
       "      <th>bid</th>\n",
       "      <th>new_cards</th>\n",
       "      <th>combination</th>\n",
       "      <th>first_lvl_rank</th>\n",
       "      <th>card_1</th>\n",
       "      <th>card_2</th>\n",
       "      <th>card_3</th>\n",
       "      <th>card_4</th>\n",
       "      <th>card_5</th>\n",
       "    </tr>\n",
       "  </thead>\n",
       "  <tbody>\n",
       "    <tr>\n",
       "      <th>0</th>\n",
       "      <td>QTTQK</td>\n",
       "      <td>749</td>\n",
       "      <td>QTTQK</td>\n",
       "      <td>[2, 2, 1]</td>\n",
       "      <td>2</td>\n",
       "      <td>12</td>\n",
       "      <td>10</td>\n",
       "      <td>10</td>\n",
       "      <td>12</td>\n",
       "      <td>13</td>\n",
       "    </tr>\n",
       "    <tr>\n",
       "      <th>1</th>\n",
       "      <td>JQAA2</td>\n",
       "      <td>148</td>\n",
       "      <td>AQAA2</td>\n",
       "      <td>[3, 1, 1]</td>\n",
       "      <td>3</td>\n",
       "      <td>0</td>\n",
       "      <td>12</td>\n",
       "      <td>14</td>\n",
       "      <td>14</td>\n",
       "      <td>2</td>\n",
       "    </tr>\n",
       "    <tr>\n",
       "      <th>2</th>\n",
       "      <td>37J44</td>\n",
       "      <td>319</td>\n",
       "      <td>37444</td>\n",
       "      <td>[3, 1, 1]</td>\n",
       "      <td>3</td>\n",
       "      <td>3</td>\n",
       "      <td>7</td>\n",
       "      <td>0</td>\n",
       "      <td>4</td>\n",
       "      <td>4</td>\n",
       "    </tr>\n",
       "    <tr>\n",
       "      <th>3</th>\n",
       "      <td>559J5</td>\n",
       "      <td>647</td>\n",
       "      <td>55955</td>\n",
       "      <td>[4, 1]</td>\n",
       "      <td>5</td>\n",
       "      <td>5</td>\n",
       "      <td>5</td>\n",
       "      <td>9</td>\n",
       "      <td>0</td>\n",
       "      <td>5</td>\n",
       "    </tr>\n",
       "    <tr>\n",
       "      <th>4</th>\n",
       "      <td>92992</td>\n",
       "      <td>659</td>\n",
       "      <td>92992</td>\n",
       "      <td>[3, 2]</td>\n",
       "      <td>4</td>\n",
       "      <td>9</td>\n",
       "      <td>2</td>\n",
       "      <td>9</td>\n",
       "      <td>9</td>\n",
       "      <td>2</td>\n",
       "    </tr>\n",
       "  </tbody>\n",
       "</table>\n",
       "</div>"
      ],
      "text/plain": [
       "   cards  bid new_cards combination  first_lvl_rank  card_1  card_2  card_3  \\\n",
       "0  QTTQK  749     QTTQK   [2, 2, 1]               2      12      10      10   \n",
       "1  JQAA2  148     AQAA2   [3, 1, 1]               3       0      12      14   \n",
       "2  37J44  319     37444   [3, 1, 1]               3       3       7       0   \n",
       "3  559J5  647     55955      [4, 1]               5       5       5       9   \n",
       "4  92992  659     92992      [3, 2]               4       9       2       9   \n",
       "\n",
       "   card_4  card_5  \n",
       "0      12      13  \n",
       "1      14       2  \n",
       "2       4       4  \n",
       "3       0       5  \n",
       "4       9       2  "
      ]
     },
     "execution_count": 80,
     "metadata": {},
     "output_type": "execute_result"
    }
   ],
   "source": [
    "df.head()"
   ]
  },
  {
   "cell_type": "code",
   "execution_count": 81,
   "id": "22701cfc",
   "metadata": {},
   "outputs": [],
   "source": [
    "df = df.sort_values(['first_lvl_rank', 'card_1', 'card_2', 'card_3', 'card_4', 'card_5']).reset_index()"
   ]
  },
  {
   "cell_type": "code",
   "execution_count": 82,
   "id": "ca82fabc",
   "metadata": {},
   "outputs": [
    {
     "data": {
      "text/plain": [
       "254412181"
      ]
     },
     "execution_count": 82,
     "metadata": {},
     "output_type": "execute_result"
    }
   ],
   "source": [
    "sum((df.index + 1)*df.bid)"
   ]
  },
  {
   "cell_type": "markdown",
   "id": "5c0a43a1",
   "metadata": {},
   "source": [
    "# Day 8"
   ]
  },
  {
   "cell_type": "markdown",
   "id": "0103780e",
   "metadata": {},
   "source": [
    "## Task 1"
   ]
  },
  {
   "cell_type": "code",
   "execution_count": 12,
   "id": "dec30bd9",
   "metadata": {},
   "outputs": [],
   "source": [
    "import networkx as nx\n",
    "import matplotlib.pyplot as plt\n",
    "import pydot\n",
    "from networkx.drawing.nx_pydot import graphviz_layout\n",
    "from typing import Tuple"
   ]
  },
  {
   "cell_type": "code",
   "execution_count": 2,
   "id": "c643d044",
   "metadata": {},
   "outputs": [],
   "source": [
    "input_data = open('Day_8_data/input.txt', \"r\").read().split('\\n')"
   ]
  },
  {
   "cell_type": "code",
   "execution_count": 3,
   "id": "9a8bf799",
   "metadata": {},
   "outputs": [],
   "source": [
    "route = input_data[0]\n",
    "graph = input_data[2:]"
   ]
  },
  {
   "cell_type": "code",
   "execution_count": 5,
   "id": "4d691999",
   "metadata": {},
   "outputs": [
    {
     "data": {
      "text/plain": [
       "['GXT = (MQM, CHN)', 'MBK = (RCK, RCK)']"
      ]
     },
     "execution_count": 5,
     "metadata": {},
     "output_type": "execute_result"
    }
   ],
   "source": [
    "graph[:2]"
   ]
  },
  {
   "cell_type": "code",
   "execution_count": 6,
   "id": "e6084a0b",
   "metadata": {},
   "outputs": [],
   "source": [
    "nodes = [i.split('(')[0][:-3] for i in graph]\n",
    "child_nodes = [i.split('(')[1][:-1] for i in graph]"
   ]
  },
  {
   "cell_type": "code",
   "execution_count": 7,
   "id": "cb06ccb6",
   "metadata": {},
   "outputs": [],
   "source": [
    "g = nx.Graph()\n",
    "g_dic = {}\n",
    "for i, node in enumerate(child_nodes):\n",
    "    l, r = node.split(',')\n",
    "    g.add_edge(nodes[i], l.strip())\n",
    "    g.add_edge(nodes[i], r.strip())   \n",
    "    g_dic[nodes[i]] = [l.strip(), r.strip()]"
   ]
  },
  {
   "cell_type": "code",
   "execution_count": 8,
   "id": "79748667",
   "metadata": {},
   "outputs": [
    {
     "data": {
      "image/png": "[encoded data removed]",
      "text/plain": [
       "<Figure size 640x480 with 1 Axes>"
      ]
     },
     "metadata": {},
     "output_type": "display_data"
    }
   ],
   "source": [
    "nx.draw_spectral(g, with_labels = True)\n",
    "plt.savefig(\"filename2.png\")"
   ]
  },
  {
   "cell_type": "code",
   "execution_count": 9,
   "id": "4ffbc2aa",
   "metadata": {},
   "outputs": [
    {
     "name": "stderr",
     "output_type": "stream",
     "text": [
      "C:\\Users\\Me\\AppData\\Local\\Temp\\ipykernel_15988\\3800553968.py:1: DeprecationWarning: nx.nx_pydot.graphviz_layout depends on the pydot package, which has known issues and is not actively maintained. Consider using nx.nx_agraph.graphviz_layout instead.\n",
      "\n",
      "See https://github.com/networkx/networkx/issues/5723\n",
      "  pos = graphviz_layout(g, prog=\"twopi\")\n"
     ]
    },
    {
     "data": {
      "image/png": "[encoded data removed]",
      "text/plain": [
       "<Figure size 640x480 with 1 Axes>"
      ]
     },
     "metadata": {},
     "output_type": "display_data"
    }
   ],
   "source": [
    "pos = graphviz_layout(g, prog=\"twopi\")\n",
    "nx.draw(g, pos, with_labels = True)\n",
    "plt.show()"
   ]
  },
  {
   "cell_type": "code",
   "execution_count": 10,
   "id": "e262fb24",
   "metadata": {},
   "outputs": [
    {
     "data": {
      "text/plain": [
       "'CFC'"
      ]
     },
     "execution_count": 10,
     "metadata": {},
     "output_type": "execute_result"
    }
   ],
   "source": [
    "g_dic['AAA'][1]"
   ]
  },
  {
   "cell_type": "code",
   "execution_count": 13,
   "id": "6fe9aaad",
   "metadata": {},
   "outputs": [],
   "source": [
    "def get_node(direction: str, node: str) -> str:\n",
    "    if direction=='L':\n",
    "        return g_dic[node][0]\n",
    "    else:\n",
    "        return g_dic[node][1]"
   ]
  },
  {
   "cell_type": "code",
   "execution_count": 17,
   "id": "c5dc1f64",
   "metadata": {},
   "outputs": [],
   "source": [
    "def route_walk(count: int, current_node: str) -> Tuple[int, str]:\n",
    "    for r_d in route:\n",
    "        count+=1\n",
    "        next_node = get_node(r_d, current_node)\n",
    "        if next_node == 'ZZZ':\n",
    "            return count, next_node\n",
    "        else:\n",
    "            current_node = next_node\n",
    "    return count, next_node\n",
    "        "
   ]
  },
  {
   "cell_type": "code",
   "execution_count": 18,
   "id": "015aeae5",
   "metadata": {},
   "outputs": [
    {
     "data": {
      "text/plain": [
       "(282, 'TDG')"
      ]
     },
     "execution_count": 18,
     "metadata": {},
     "output_type": "execute_result"
    }
   ],
   "source": [
    "route_walk(1, 'AAA')"
   ]
  },
  {
   "cell_type": "code",
   "execution_count": 19,
   "id": "dc4afc8a",
   "metadata": {},
   "outputs": [],
   "source": [
    "count=0\n",
    "end_point = 'AAA'\n",
    "while (end_point != 'ZZZ'):\n",
    "    count, end_point = route_walk(count, end_point)"
   ]
  },
  {
   "cell_type": "code",
   "execution_count": 20,
   "id": "fa2fe599",
   "metadata": {},
   "outputs": [
    {
     "data": {
      "text/plain": [
       "'ZZZ'"
      ]
     },
     "execution_count": 20,
     "metadata": {},
     "output_type": "execute_result"
    }
   ],
   "source": [
    "end_point"
   ]
  },
  {
   "cell_type": "code",
   "execution_count": 21,
   "id": "1549a8b4",
   "metadata": {},
   "outputs": [
    {
     "data": {
      "text/plain": [
       "13207"
      ]
     },
     "execution_count": 21,
     "metadata": {},
     "output_type": "execute_result"
    }
   ],
   "source": [
    "count"
   ]
  },
  {
   "cell_type": "markdown",
   "id": "54e442d7",
   "metadata": {},
   "source": [
    "## Task 2"
   ]
  },
  {
   "cell_type": "code",
   "execution_count": 38,
   "id": "42a5b428",
   "metadata": {},
   "outputs": [],
   "source": [
    "import networkx as nx\n",
    "import matplotlib.pyplot as plt\n",
    "import pydot\n",
    "from networkx.drawing.nx_pydot import graphviz_layout\n",
    "import numpy as np\n",
    "from math import gcd\n",
    "from typing import List"
   ]
  },
  {
   "cell_type": "code",
   "execution_count": 23,
   "id": "3d578feb",
   "metadata": {},
   "outputs": [],
   "source": [
    "input_data = open('Day_8_data/input.txt', \"r\").read().split('\\n')"
   ]
  },
  {
   "cell_type": "code",
   "execution_count": 24,
   "id": "488da67a",
   "metadata": {},
   "outputs": [],
   "source": [
    "route = input_data[0]\n",
    "graph = input_data[2:]\n",
    "\n",
    "nodes = [i.split('(')[0][:-3] for i in graph]\n",
    "child_nodes = [i.split('(')[1][:-1] for i in graph]\n",
    "\n",
    "g_dic = {}\n",
    "for i, node in enumerate(child_nodes):\n",
    "    l, r = node.split(',') \n",
    "    g_dic[nodes[i]] = [l.strip(), r.strip()]"
   ]
  },
  {
   "cell_type": "code",
   "execution_count": 25,
   "id": "917c1f51",
   "metadata": {},
   "outputs": [],
   "source": [
    "def get_node(direction: str, node: str) -> str:\n",
    "    if direction=='L':\n",
    "        return g_dic[node][0]\n",
    "    else:\n",
    "        return g_dic[node][1]"
   ]
  },
  {
   "cell_type": "code",
   "execution_count": 26,
   "id": "8fb74600",
   "metadata": {},
   "outputs": [],
   "source": [
    "def route_walk(count: int, current_node: str) -> Tuple[int, str]:\n",
    "    for r_d in route:\n",
    "        count+=1\n",
    "        next_node = get_node(r_d, current_node)\n",
    "        if next_node[-1:]=='Z':\n",
    "            return count, next_node\n",
    "        else:\n",
    "            current_node = next_node\n",
    "    #print(count, next_node)\n",
    "    return count, next_node\n",
    "        "
   ]
  },
  {
   "cell_type": "code",
   "execution_count": 27,
   "id": "3e93e75d",
   "metadata": {},
   "outputs": [],
   "source": [
    "list_of_starts = [i for i in g_dic if i[-1:] == 'A']"
   ]
  },
  {
   "cell_type": "code",
   "execution_count": 28,
   "id": "da7cc8ec",
   "metadata": {},
   "outputs": [
    {
     "data": {
      "text/plain": [
       "['AAA', 'PRA', 'PVA', 'XLA', 'PTA', 'FBA']"
      ]
     },
     "execution_count": 28,
     "metadata": {},
     "output_type": "execute_result"
    }
   ],
   "source": [
    "list_of_starts"
   ]
  },
  {
   "cell_type": "code",
   "execution_count": 29,
   "id": "4728df1c",
   "metadata": {},
   "outputs": [],
   "source": [
    "count=0\n",
    "end_point = 'PRA'\n",
    "result_list = []\n",
    "for start in list_of_starts:\n",
    "    end_point = start\n",
    "    count = 0\n",
    "    while (end_point[-1:] != 'Z'):\n",
    "        count, end_point = route_walk(count, end_point)\n",
    "    #print(count, end_point)\n",
    "    result_list.append(count)"
   ]
  },
  {
   "cell_type": "code",
   "execution_count": 30,
   "id": "8a2895fb",
   "metadata": {},
   "outputs": [
    {
     "data": {
      "text/plain": [
       "[13207, 19951, 14893, 12083, 20513, 22199]"
      ]
     },
     "execution_count": 30,
     "metadata": {},
     "output_type": "execute_result"
    }
   ],
   "source": [
    "result_list"
   ]
  },
  {
   "cell_type": "code",
   "execution_count": 31,
   "id": "5728188f",
   "metadata": {},
   "outputs": [],
   "source": [
    "x = np.lcm.reduce(result_list)"
   ]
  },
  {
   "cell_type": "code",
   "execution_count": 32,
   "id": "e9c98ff4",
   "metadata": {},
   "outputs": [
    {
     "data": {
      "text/plain": [
       "1104728649"
      ]
     },
     "execution_count": 32,
     "metadata": {},
     "output_type": "execute_result"
    }
   ],
   "source": [
    "x"
   ]
  },
  {
   "cell_type": "code",
   "execution_count": 33,
   "id": "c093e523",
   "metadata": {},
   "outputs": [
    {
     "name": "stdout",
     "output_type": "stream",
     "text": [
      "12324145107121\n"
     ]
    }
   ],
   "source": [
    "lcm = 1\n",
    "for i in result_list:\n",
    "    lcm = lcm*i//gcd(lcm, i)\n",
    "print(lcm)"
   ]
  },
  {
   "cell_type": "markdown",
   "id": "70a7c108",
   "metadata": {},
   "source": [
    "# Day 9"
   ]
  },
  {
   "cell_type": "code",
   "execution_count": 48,
   "id": "370ab3a7",
   "metadata": {},
   "outputs": [],
   "source": [
    "input_data = open('Day_9_data/input.txt', \"r\").read().split('\\n')"
   ]
  },
  {
   "cell_type": "code",
   "execution_count": 49,
   "id": "0ab2f9bd",
   "metadata": {},
   "outputs": [
    {
     "data": {
      "text/plain": [
       "['10 15 15 10 0 -15 -35 -60 -90 -125 -165 -210 -260 -315 -375 -440 -510 -585 -665 -750 -840',\n",
       " '4 0 4 37 137 373 875 1885 3829 7404 13667 24105 40656 65641 101556 150661 214290 291792 378998 466093 534755',\n",
       " '5 14 35 70 124 218 428 968 2337 5554 12525 26654 53986 105566 202537 387238 747109 1465286 2925459 5924110 12089144',\n",
       " '3 0 -7 -18 -33 -52 -75 -102 -133 -168 -207 -250 -297 -348 -403 -462 -525 -592 -663 -738 -817',\n",
       " '8 11 11 15 49 169 480 1180 2661 5723 11997 24738 50264 100559 198135 385661 746225 1447698 2841038 5675992 11563810',\n",
       " '4 5 8 11 23 75 228 590 1366 2981 6341 13334 27729 56736 113748 223498 432804 835074 1628856 3258428 6744587',\n",
       " '15 37 66 105 171 312 630 1308 2652 5183 9850 18489 34736 65730 125136 238304 450789 842025 1546714 2787505 4923849',\n",
       " '11 14 19 32 70 163 356 711 1309 2252 3665 5698 8528 12361 17434 24017 32415 42970 56063 72116 91594',\n",
       " '10 11 18 43 101 208 380 633 980 1429 2016 2969 5221 11764 31003 84858 227915 591377 1480393 3581719 8391418',\n",
       " '10 11 11 7 10 57 227 672 1682 3818 8182 16968 34581 69862 140375 280385 555214 1086293 2093697 3966621 7377616',\n",
       " '4 22 60 128 252 497 1007 2084 4355 9126 19101 39767 81946 166353 331575 647845 1240504 2329276 4292420 7768040 13807018',\n",
       " '10 15 27 55 108 195 325 507 750 1063 1455 1935 2512 3195 3993 4915 5970 7167 8515 10023 11700',\n",
       " '9 26 50 97 200 419 852 1655 3092 5646 10224 18487 33369 60032 108084 197314 372211 736262 1527102 3270289 7075854',\n",
       " '6 23 50 90 150 237 359 545 910 1816 4238 10563 26263 63234 146161 324219 692090 1427309 2856482 5572820 10644640',\n",
       " '9 18 29 46 84 194 508 1324 3261 7518 16270 33232 64426 119206 211645 362482 601985 974330 1544451 2408810 3712200',\n",
       " '-1 13 34 62 108 203 410 844 1714 3420 6766 13388 26550 52541 103021 198813 375797 693667 1248238 2187526 3730644',\n",
       " '17 30 50 88 178 400 912 2001 4172 8303 15903 29519 53347 94111 162283 273726 451851 730388 1156880 1797018 2739944',\n",
       " '8 22 38 56 76 98 122 148 176 206 238 272 308 346 386 428 472 518 566 616 668',\n",
       " '13 25 37 54 92 189 425 961 2122 4579 9743 20597 43428 91443 192424 405152 854784 1808438 3833845 8124774 17152503',\n",
       " '14 27 47 91 194 428 934 1968 3966 7638 14107 25116 43334 72801 119562 192551 304798 475045 729871 1106441 1656010',\n",
       " '21 44 77 131 237 454 889 1743 3407 6661 13097 26036 52529 107701 224035 470730 992825 2087570 4348253 8925689 17987933',\n",
       " '16 41 78 124 175 226 271 303 314 295 236 126 -47 -296 -635 -1079 -1644 -2347 -3206 -4240 -5469',\n",
       " '5 0 -3 -6 -1 52 254 801 2021 4413 8687 15796 26930 43422 66570 97738 140394 209562 364240 802888 2118158',\n",
       " '16 19 36 81 168 312 526 820 1219 1830 3018 5838 13104 32043 80740 203171 502618 1212337 2837948 6431459 14096328',\n",
       " '11 13 31 95 264 641 1400 2845 5530 10478 19546 35992 65309 116400 203177 346676 577789 940723 1497305 2332261 3559606',\n",
       " '7 20 44 97 211 436 844 1533 2631 4300 6740 10193 14947 21340 29764 40669 54567 72036 93724 120353 152723',\n",
       " '19 31 49 81 150 304 628 1255 2376 4260 7314 12240 20381 34391 59415 105024 188217 337877 601151 1052315 1804784',\n",
       " '-7 -4 4 17 35 58 86 119 157 200 248 301 359 422 490 563 641 724 812 905 1003',\n",
       " '20 32 57 104 183 305 482 727 1054 1478 2015 2682 3497 4479 5648 7025 8632 10492 12629 15068 17835',\n",
       " '10 35 85 173 313 536 923 1657 3103 5938 11380 21639 40913 77737 150571 300782 621788 1322253 2858755 6206037 13391957',\n",
       " '2 -6 -17 -33 -48 -28 118 576 1674 3938 8157 15457 27384 45996 73964 114682 172386 252282 360683 505155 694672',\n",
       " '13 16 36 97 235 495 932 1623 2710 4529 7960 15307 32375 73111 169497 391824 888927 1965978 4231656 8871265 18144503',\n",
       " '1 2 12 46 141 377 906 1987 4028 7640 13712 23519 38876 62349 97528 149356 224491 331654 481884 688580 967159',\n",
       " '2 12 40 98 196 341 540 807 1174 1706 2520 3808 5864 9115 14156 21789 33066 49336 72296 104046 147148',\n",
       " '24 34 53 94 176 329 607 1122 2125 4196 8676 18587 40453 87698 186772 388113 786082 1556382 3028915 5834240 11204258',\n",
       " '6 20 34 49 78 157 370 909 2213 5264 12163 27165 58419 120737 239805 458349 844880 1505764 2601496 4368201 7145540',\n",
       " '7 20 37 68 132 254 458 756 1133 1528 1811 1756 1010 -942 -4816 -11572 -22461 -39076 -63407 -97900 -145520',\n",
       " '0 3 16 39 67 85 66 -21 -184 -354 -307 403 2397 6084 10507 10689 -7696 -78115 -270042 -716585 -1657937',\n",
       " '15 22 32 56 126 304 695 1478 2977 5800 11074 20794 38280 68694 119505 200700 324419 503538 748532 1061716 1427682',\n",
       " '8 16 42 102 226 477 985 1996 3936 7490 13696 24054 40650 66295 104679 160540 239848 350004 500054 700918 965634',\n",
       " '5 14 31 74 171 372 784 1642 3436 7119 14419 28274 53425 97292 171547 295570 504857 871791 1555795 2920419 5797389',\n",
       " '3 0 5 30 101 270 637 1387 2851 5626 10863 20997 41522 85030 179836 387412 836015 1782980 3726077 7596336 15082447',\n",
       " '22 39 55 63 64 79 161 407 970 2071 4011 7183 12084 19327 29653 43943 63230 88711 121759 163935 217000',\n",
       " '12 19 26 33 40 47 54 61 68 75 82 89 96 103 110 117 124 131 138 145 152',\n",
       " '16 17 24 62 168 388 770 1352 2143 3087 3981 4284 2701 -3650 -20783 -60530 -144966 -313379 -632842 -1213742 -2231970',\n",
       " '6 19 40 71 106 133 140 138 241 881 3296 10542 29520 75030 177952 401808 876039 1861846 3880099 7955496 16075577',\n",
       " '5 9 32 90 217 492 1094 2396 5106 10471 20594 38993 71686 129372 231799 416388 755129 1387844 2588587 4900010 9406491',\n",
       " '6 4 -3 -18 -44 -76 -84 12 374 1284 3187 6738 12852 22756 38042 60720 93270 138692 200553 283030 390948',\n",
       " '9 14 33 81 191 437 985 2188 4749 9997 20371 40308 77910 148066 278223 518944 963181 1781592 3287525 6056487 11143989',\n",
       " '-1 14 46 105 216 439 910 1920 4062 8507 17542 35650 71680 143102 284037 559773 1091909 2100196 3969650 7354671 13335772',\n",
       " '5 6 24 76 185 386 742 1377 2539 4717 8859 16785 31976 61066 116590 221869 419365 784436 1447182 2626014 4677711',\n",
       " '4 14 28 59 131 286 611 1292 2698 5502 10878 20901 39465 74400 142156 277692 554537 1124231 2292005 4659184 9386660',\n",
       " '7 8 21 57 134 290 611 1281 2659 5391 10588 20181 37775 70792 135611 269056 552323 1157758 2435411 5065749 10318224',\n",
       " '12 28 48 67 87 139 324 888 2366 5861 13564 29680 62035 124860 243670 463897 866136 1592674 2892544 5195809 9232223',\n",
       " '27 39 49 66 116 250 551 1141 2190 3943 6835 11906 22051 45334 103035 247968 604045 1447828 3369512 7578272 16461240',\n",
       " '1 -3 -5 13 92 317 864 2098 4759 10287 21353 42681 82266 153115 275662 481034 815373 1345449 2165831 3407917 5251160',\n",
       " '-5 3 22 55 103 166 256 436 903 2135 5122 11699 24995 50006 94292 168788 288707 474499 752814 1157399 1729839',\n",
       " '19 46 82 119 143 139 112 143 520 2015 6419 17499 42610 95298 199402 395464 750777 1375268 2446788 4251459 7247729',\n",
       " '-1 17 60 141 287 553 1040 1933 3586 6701 12686 24338 47089 91209 175683 335218 633501 1189353 2229380 4193603 7943119',\n",
       " '15 29 43 57 71 85 99 113 127 141 155 169 183 197 211 225 239 253 267 281 295',\n",
       " '0 -2 -2 0 -2 -25 -107 -329 -849 -1926 -3864 -6706 -9308 -7046 13258 83718 275366 734706 1747734 3847880 7992006',\n",
       " '19 28 28 12 -27 -94 -192 -327 -526 -876 -1564 -2802 -4297 -3491 8959 59204 210313 599728 1505072 3454428 7404005',\n",
       " '14 34 71 136 242 401 616 866 1082 1112 673 -712 -3794 -9697 -20038 -37070 -63850 -104434 -164101 -249608 -369478',\n",
       " '24 31 40 56 100 219 490 1014 1894 3189 4841 6606 8140 9729 14997 38881 128413 412577 1214457 3290064 8312645',\n",
       " '5 15 28 44 63 85 110 138 169 203 240 280 323 369 418 470 525 583 644 708 775',\n",
       " '23 46 87 162 293 505 825 1288 1963 3039 5076 9669 21068 49865 120881 289116 670403 1497672 3220033 6670904 13343955',\n",
       " '-3 -4 -4 5 47 164 411 842 1495 2407 3730 6090 11473 25226 60406 147029 351391 815776 1838954 4037649 8667625',\n",
       " '13 15 12 8 14 47 129 286 547 943 1506 2268 3260 4511 6047 7890 10057 12559 15400 18576 22074',\n",
       " '8 31 64 107 160 223 296 379 472 575 688 811 944 1087 1240 1403 1576 1759 1952 2155 2368',\n",
       " '17 36 56 68 65 56 88 287 943 2681 6774 15654 33647 67877 129126 232171 394709 633386 954620 1336800 1698997',\n",
       " '17 35 77 159 302 542 958 1728 3223 6149 11747 22061 40284 71192 121676 201382 323469 505495 770441 1147883 1675322',\n",
       " '17 29 50 85 145 263 539 1230 2918 6825 15413 33533 70604 144655 289604 567942 1092111 2059397 3807196 6898157 12248075',\n",
       " '22 27 39 84 206 470 965 1807 3142 5149 8043 12078 17550 24800 34217 46241 61366 80143 103183 131160 164814',\n",
       " '5 0 -7 -15 -11 45 232 675 1547 3068 5505 9179 14487 21949 32292 46585 66441 94304 133841 190461 271985',\n",
       " '1 7 15 23 24 3 -69 -249 -656 -1551 -3513 -7794 -16965 -35949 -73364 -142474 -259223 -430017 -610075 -585655 327168',\n",
       " '12 22 27 22 16 43 166 482 1153 2518 5395 11781 26339 59395 132811 291403 625279 1314027 2714684 5536213 11180667',\n",
       " '-5 -3 2 10 21 35 52 72 95 121 150 182 217 255 296 340 387 437 490 546 605',\n",
       " '3 19 48 90 142 213 358 741 1741 4119 9268 19572 38904 73297 131826 227743 379911 614587 967608 1487038 2236338',\n",
       " '25 48 96 183 320 509 751 1086 1701 3175 6979 16416 38274 85578 181970 368425 713233 1326450 2380354 4137845 6991212',\n",
       " '4 4 4 5 16 63 218 662 1792 4373 9716 19823 37378 65402 106406 161136 227814 304665 402447 581727 1046676',\n",
       " '4 -3 -18 -38 -47 0 213 845 2449 6169 14241 30804 63148 123556 231930 419427 733370 1243741 2051608 3299886 5186883',\n",
       " '19 30 45 70 108 152 183 191 241 602 1941 5562 13666 29669 58813 109736 198447 357410 654309 1227666 2349912',\n",
       " '12 35 84 167 286 446 671 1019 1586 2485 3776 5303 6360 5056 -2825 -25773 -79744 -193193 -414748 -824569 -1550726',\n",
       " '9 13 31 84 209 461 914 1663 2837 4658 7632 13053 24184 48847 104894 231467 511605 1116399 2388649 4996382 10205711',\n",
       " '5 27 57 85 110 152 276 645 1620 3938 9047 19788 41820 86518 176570 356208 709049 1388191 2666171 5017981 9260988',\n",
       " '-6 -15 -24 -29 -26 -11 20 71 146 249 384 555 766 1021 1324 1679 2090 2561 3096 3699 4374',\n",
       " '10 23 46 87 155 276 532 1128 2500 5511 11856 24934 51702 106534 219127 450485 924714 1890903 3840374 7722313 15328273',\n",
       " '12 17 25 43 78 137 227 355 528 753 1037 1387 1810 2313 2903 3587 4372 5265 6273 7403 8662',\n",
       " '3 12 27 60 138 312 679 1416 2830 5445 10178 18703 34167 62507 114724 210601 384509 694130 1233141 2149150 3668456',\n",
       " '12 24 42 66 96 132 174 222 276 336 402 474 552 636 726 822 924 1032 1146 1266 1392',\n",
       " '-1 10 50 144 341 724 1423 2635 4651 7887 12916 20516 31829 48968 77021 129810 244857 519650 1195369 2843653 6772541',\n",
       " '-2 4 15 33 59 97 163 295 565 1106 2191 4441 9294 19927 42865 90495 184568 360432 671079 1188961 2001749',\n",
       " '12 39 85 160 280 480 844 1557 2984 5781 11043 20494 36724 63478 106002 171451 269364 412211 616017 901068 1292704',\n",
       " '13 26 37 51 84 171 387 904 2122 4936 11250 24946 53691 112255 228462 453555 879683 1668478 3096355 5624317 10002766',\n",
       " '9 8 19 57 149 344 723 1409 2577 4464 7379 11713 17949 26672 38579 54489 75353 102264 136467 179369 232549',\n",
       " '7 17 27 37 47 57 67 77 87 97 107 117 127 137 147 157 167 177 187 197 207',\n",
       " '9 33 82 178 361 701 1327 2483 4619 8523 15498 27586 47839 80635 132035 210175 325685 492125 726426 1049322 1485757',\n",
       " '8 17 28 41 56 73 92 113 136 161 188 217 248 281 316 353 392 433 476 521 568',\n",
       " '1 13 41 103 233 479 907 1620 2801 4789 8197 14081 24169 41159 69095 113830 183585 289613 446977 675451 1000553',\n",
       " '13 22 47 89 150 244 421 812 1713 3746 8165 17415 36102 72592 141527 267626 491229 876142 1520451 2571093 4243102',\n",
       " '1 -2 -13 -26 -23 28 189 597 1553 3670 8095 16820 33097 61972 110953 190827 316641 508862 794731 1209826 1799849',\n",
       " '18 36 76 160 333 670 1294 2419 4447 8181 15280 29209 57198 114258 231354 471803 963456 1960118 3955188 7885322 15484219',\n",
       " '11 7 12 50 163 418 920 1842 3492 6452 11846 21829 40467 75389 141137 266385 509704 993032 1969151 3949503 7930550',\n",
       " '1 21 63 142 280 506 856 1373 2107 3115 4461 6216 8458 11272 14750 18991 24101 30193 37387 45810 55596',\n",
       " '9 18 36 63 99 144 198 261 333 414 504 603 711 828 954 1089 1233 1386 1548 1719 1899',\n",
       " '11 33 72 131 220 375 694 1398 2930 6114 12411 24332 46101 84706 151535 264869 453597 762631 1260634 2050833 3285874',\n",
       " '5 17 39 67 98 129 149 130 49 23 729 4438 17258 53617 144707 353665 801829 1712653 3483011 6795925 12794522',\n",
       " '8 29 72 150 285 513 896 1560 2787 5198 10073 19863 38958 74784 139311 251063 437730 739491 1213166 1937324 3018483',\n",
       " '15 20 34 57 95 180 406 983 2304 5013 10059 18740 32822 55035 90738 152574 272039 526168 1096315 2394224 5328817',\n",
       " '4 6 8 10 12 14 16 18 20 22 24 26 28 30 32 34 36 38 40 42 44',\n",
       " '16 30 54 99 186 350 648 1184 2182 4169 8376 17528 37276 78627 161854 322519 620420 1152480 2070834 3607641 6108454',\n",
       " '-6 4 41 117 244 440 737 1188 1868 2862 4231 5945 7770 9094 8675 4292 -7722 -33088 -80355 -161867 -294952',\n",
       " '18 35 54 80 122 188 274 356 422 631 1773 6347 20793 59727 153448 360518 787854 1621495 3171980 5939038 10700968',\n",
       " '-3 0 9 33 97 251 572 1169 2225 4151 8002 16439 35742 79716 176825 382628 800814 1618431 3165604 6019862 11195332',\n",
       " '4 0 7 46 145 348 729 1406 2558 4465 7617 12973 22495 40135 73515 136611 253832 465974 838627 1473720 2525005',\n",
       " '10 16 48 135 331 736 1523 2980 5588 10168 18138 31917 55490 95121 160255 265025 432002 702892 1167508 2035271 3796881',\n",
       " '12 22 45 91 170 292 467 705 1016 1410 1897 2487 3190 4016 4975 6077 7332 8750 10341 12115 14082',\n",
       " '13 37 88 189 374 698 1256 2211 3831 6535 10948 17965 28824 45188 69236 103763 152289 219177 309760 430477 589018',\n",
       " '7 17 47 117 250 482 894 1672 3215 6352 12823 26378 55242 117423 251606 538455 1140399 2372867 4827031 9574107 18494978',\n",
       " '3 1 15 65 184 429 900 1785 3458 6656 12742 24025 44085 78138 133903 224663 379068 668010 1269397 2608855 5639543',\n",
       " '16 37 81 160 285 459 669 874 987 861 317 -699 -1668 -491 8487 38015 113858 284205 634001 1306038 2531103',\n",
       " '-4 2 20 52 98 160 247 392 713 1585 4054 10739 27675 67933 158575 353853 760018 1581404 3204672 6349758 12334232',\n",
       " '-1 4 29 83 175 310 482 666 811 836 631 65 -997 -2666 -4988 -7888 -11097 -14060 -15823 -14897 -9097',\n",
       " '11 3 5 38 144 400 931 1927 3676 6643 11671 20474 36752 68495 132356 261344 517477 1011375 1930965 3581378 6437564',\n",
       " '7 13 11 -5 -44 -122 -267 -529 -1008 -1926 -3786 -7682 -15849 -32571 -65598 -128260 -242507 -443149 -783619 -1343635 -2239194',\n",
       " '7 17 28 38 46 64 146 445 1322 3551 8691 19730 42147 85586 166391 311313 562769 986109 1679430 2786566 4513980',\n",
       " '-1 -3 -3 18 98 297 705 1469 2868 5500 10719 21596 44905 94995 200967 419430 856405 1703875 3299289 6220314 11432620',\n",
       " '10 21 31 39 42 50 111 340 960 2404 5607 12748 28896 65283 145283 314631 657982 1324599 2566783 4795629 8659822',\n",
       " '22 52 93 136 166 172 169 228 518 1387 3547 8487 19351 42783 92883 199886 429291 923343 1988338 4271887 9109773',\n",
       " '6 19 50 128 296 621 1214 2264 4104 7347 13153 23711 43040 78227 141225 251327 438410 747003 1241172 2010130 3174368',\n",
       " '27 40 61 109 218 446 888 1688 3042 5195 8474 13480 21699 36999 68771 137861 286941 597594 1217155 2399271 4563232',\n",
       " '1 1 9 45 149 390 884 1848 3733 7511 15257 31299 64465 132441 270169 545965 1092447 2166045 4261848 8335320 16228737',\n",
       " '8 14 28 60 122 222 362 554 879 1628 3577 8460 19725 43727 91744 183878 357618 687726 1332134 2633940 5337380',\n",
       " '15 33 76 157 289 487 770 1163 1699 2421 3384 4657 6325 8491 11278 14831 19319 24937 31908 40485 50953',\n",
       " '12 15 19 24 30 37 45 54 64 75 87 100 114 129 145 162 180 199 219 240 262',\n",
       " '8 14 18 20 20 18 14 8 0 -10 -22 -36 -52 -70 -90 -112 -136 -162 -190 -220 -252',\n",
       " '16 35 76 160 321 614 1137 2079 3820 7134 13575 26154 50448 96364 181061 334404 610682 1116019 2073512 3974170 7912661',\n",
       " '10 16 33 81 202 468 989 1921 3474 5920 9601 14937 22434 32692 46413 64409 87610 117072 153985 199681 255642',\n",
       " '0 5 22 65 166 381 796 1545 2861 5190 9418 17316 32438 61971 120515 237571 471770 936751 1846290 3590031 6856250',\n",
       " '15 31 70 143 264 464 816 1468 2672 4784 8190 13077 18908 23394 20795 -117 -56226 -160890 -285161 -241228 616733',\n",
       " '25 46 87 158 270 435 666 977 1383 1900 2545 3336 4292 5433 6780 8355 10181 12282 14683 17410 20490',\n",
       " '7 12 14 17 33 86 216 483 971 1792 3090 5045 7877 11850 17276 24519 33999 46196 61654 80985 104873',\n",
       " '17 34 59 87 109 113 90 45 13 80 409 1271 3081 6439 12176 21405 35577 56542 86615 128647 186101',\n",
       " '6 2 4 18 55 135 295 615 1295 2853 6573 15415 35706 80060 172122 353890 696532 1315772 2393058 4203832 7154281',\n",
       " '5 27 61 107 173 295 576 1251 2785 6011 12315 23875 43961 77303 130534 212715 335949 516091 773561 1134267 1630645',\n",
       " '-4 6 30 77 174 394 898 1992 4202 8378 15864 28840 51109 89988 160826 297555 576687 1170497 2461997 5287506 11436011',\n",
       " '19 29 42 67 128 278 622 1356 2837 5707 11102 20985 38650 69452 121826 208666 349143 571049 913762 1431935 2200020',\n",
       " '13 20 31 47 78 149 296 559 995 1751 3259 6665 14736 33800 77916 177663 397977 872742 1868847 3899763 7919106',\n",
       " '8 9 17 49 146 403 1025 2422 5364 11231 22423 43076 80439 147757 270571 500538 945172 1829973 3623933 7284551 14720468',\n",
       " '2 10 36 88 184 367 738 1521 3174 6560 13192 25566 47596 85165 146806 244527 394794 619686 948236 1417972 2076672',\n",
       " '7 9 19 54 156 407 944 1974 3789 6781 11457 18454 28554 42699 62006 87782 121539 165009 220159 289206 374632',\n",
       " '19 25 44 104 246 534 1086 2133 4121 7891 15016 28463 53909 102302 194657 370687 703880 1327497 2479627 4582648 8386169',\n",
       " '10 27 56 98 169 326 706 1589 3512 7490 15452 31086 61419 119649 230010 435803 812182 1485861 2664624 4680394 8050669',\n",
       " '24 36 54 86 158 344 824 1980 4538 9762 19715 37647 68701 121438 211330 368607 655040 1197912 2255256 4335292 8405940',\n",
       " '19 36 65 121 227 415 741 1330 2466 4739 9257 17927 33806 61522 107767 181870 296469 468318 719289 1077661 1579829',\n",
       " '18 29 53 112 244 509 995 1824 3158 5205 8225 12536 18520 26629 37391 51416 69402 92141 120525 155552 198332',\n",
       " '3 3 -3 -10 -2 66 312 1013 2762 6755 15327 32960 68145 136698 267400 511131 954957 1742843 3104713 5395338 9143848',\n",
       " '0 -6 -17 -33 -56 -99 -202 -457 -1044 -2280 -4683 -9053 -16572 -28925 -48444 -78277 -122584 -186762 -277701 -404073 -576656',\n",
       " '11 29 66 135 257 461 784 1271 1975 2957 4286 6039 8301 11165 14732 19111 24419 30781 38330 47207 57561',\n",
       " '-3 9 35 75 129 197 279 375 485 609 747 899 1065 1245 1439 1647 1869 2105 2355 2619 2897',\n",
       " '9 27 65 147 323 691 1425 2814 5321 9667 16928 28607 46636 73351 111824 167814 256493 420851 775942 1607580 3584263',\n",
       " '4 8 10 19 61 186 484 1120 2398 4864 9458 17725 32095 56242 95532 157570 252856 395560 604426 903815 1324897',\n",
       " '-6 -8 -12 -22 -42 -76 -128 -202 -302 -432 -596 -798 -1042 -1332 -1672 -2066 -2518 -3032 -3612 -4262 -4986',\n",
       " '7 20 40 67 101 142 190 245 307 376 452 535 625 722 826 937 1055 1180 1312 1451 1597',\n",
       " '5 4 2 -2 0 49 265 924 2575 6206 13468 26966 50626 90147 153547 251812 399657 616408 927014 1363198 1964756',\n",
       " '4 14 31 64 151 385 951 2174 4578 8956 16451 28648 47677 76327 118171 177702 260480 373290 524311 723296 981763',\n",
       " '17 42 80 131 195 272 362 465 581 710 852 1007 1175 1356 1550 1757 1977 2210 2456 2715 2987',\n",
       " '15 17 30 58 109 201 374 732 1555 3552 8381 19645 44683 97606 204169 409205 787455 1458683 2607936 4511660 7570073',\n",
       " '17 39 68 104 153 234 398 770 1625 3509 7416 15032 29057 53616 94770 161138 264641 421379 652652 986136 1457225',\n",
       " '6 25 54 93 142 201 270 349 438 537 646 765 894 1033 1182 1341 1510 1689 1878 2077 2286',\n",
       " '8 11 12 9 0 -15 -29 -17 102 582 2154 6742 19061 50041 123858 291715 657584 1424081 2970676 5981683 11648018',\n",
       " '0 16 51 118 249 516 1071 2216 4514 8952 17167 31746 56611 97500 162555 263028 414116 635936 954651 1403758 2025549',\n",
       " '24 50 85 122 148 140 61 -144 -552 -1266 -2419 -4178 -6748 -10376 -15355 -22028 -30792 -42102 -56475 -74494 -96812',\n",
       " '-3 -13 -25 -36 -43 -43 -33 -10 29 87 167 272 405 569 767 1002 1277 1595 1959 2372 2837',\n",
       " '17 15 20 49 125 274 519 871 1317 1805 2226 2393 2017 680 -2195 -7377 -15863 -28917 -48112 -75375 -113035',\n",
       " '13 30 70 143 259 428 660 965 1353 1834 2418 3115 3935 4888 5984 7233 8645 10230 11998 13959 16123',\n",
       " '30 59 102 159 230 315 414 527 654 795 950 1119 1302 1499 1710 1935 2174 2427 2694 2975 3270',\n",
       " '17 15 8 8 34 120 347 921 2330 5624 12873 27869 57149 111427 207534 370976 639231 1065917 1725974 2722014 4192004',\n",
       " '22 33 45 73 138 264 479 817 1317 2033 3121 5170 10109 23266 57493 140718 328856 726721 1520445 3025943 5759180',\n",
       " '5 -1 -2 9 51 179 535 1441 3551 8089 17235 34811 67612 128095 239789 447893 839405 1580430 2984454 5637286 10627953',\n",
       " '7 9 15 30 66 148 324 676 1332 2498 4585 8635 17523 38967 92468 224368 538997 1260591 2852235 6237536 13202672',\n",
       " '7 4 11 45 130 305 649 1341 2787 5864 12354 25671 52022 102187 194146 356809 635095 1096524 1839285 3001361 4769650',\n",
       " '24 34 57 101 165 242 329 448 692 1325 2985 7064 16369 36203 76045 152053 290664 533620 944809 1619375 2695621',\n",
       " '5 25 69 163 360 747 1447 2616 4435 7097 10789 15669 21838 29307 37959 47506 57441 66985 75029 80071 80148',\n",
       " '8 27 56 101 185 370 787 1679 3481 6991 13738 26751 52118 102058 200799 395477 775694 1507483 2890452 5451089 10090927',\n",
       " '23 36 62 116 223 433 851 1687 3331 6458 12168 22166 38987 66271 109093 174353 271231 411712 611186 889128 1269863',\n",
       " '14 38 80 153 274 463 757 1267 2325 4795 10662 24076 53144 113021 231473 459544 893163 1718134 3303969 6396991 12510417',\n",
       " '11 7 12 46 138 326 660 1206 2048 3286 5036 7476 11107 17734 33479 76942 199441 531941 1388040 3479538 8349120',\n",
       " '7 1 5 39 140 373 842 1701 3165 5521 9139 14483 22122 32741 47152 66305 91299 123393 164017 214783 277496',\n",
       " '2 8 20 40 63 87 140 331 938 2549 6267 13972 28597 54316 96455 160817 251954 369718 503174 620656 654387',\n",
       " '16 33 59 95 160 306 633 1304 2560 4735 8271 13733 21824 33400 49485 71286 100208 137869 186115 247035 322976',\n",
       " '22 31 42 55 70 87 106 127 150 175 202 231 262 295 330 367 406 447 490 535 582',\n",
       " '24 44 71 101 142 227 434 918 1968 4127 8473 17291 35635 74789 159543 342727 732900 1544882 3188479 6418965 12584504',\n",
       " '-3 7 35 102 237 469 819 1311 2036 3318 6046 12251 26022 54870 111664 217278 404103 720593 1237029 2052700 3304715',\n",
       " '16 29 56 100 167 279 509 1058 2413 5660 13089 29350 63674 134217 276721 561971 1130944 2264777 4521540 8997922 17818875',\n",
       " '9 22 35 40 40 62 171 497 1303 3144 7190 15795 33367 67520 130411 240269 423928 723949 1221549 2105304 3858295',\n",
       " '19 32 65 126 222 376 666 1293 2694 5737 12071 24758 49389 95985 182110 337779 612933 1088478 1892149 3220766 5370800',\n",
       " '9 16 30 46 60 74 100 163 308 622 1304 2883 6839 17182 44060 111284 270875 629468 1393778 2945484 5959974',\n",
       " '21 35 66 138 292 605 1232 2488 5006 10047 20124 40281 80723 162163 326458 657183 1318227 2623971 5163054 10010380 19080462',\n",
       " '12 18 47 119 263 528 1003 1849 3355 6042 10851 19460 34787 61785 108811 190335 332858 588110 1061583 1971129 3760859',\n",
       " '']"
      ]
     },
     "execution_count": 49,
     "metadata": {},
     "output_type": "execute_result"
    }
   ],
   "source": [
    "input_data"
   ]
  },
  {
   "cell_type": "code",
   "execution_count": 50,
   "id": "f9496b0e",
   "metadata": {},
   "outputs": [],
   "source": [
    "def rec(list_rec):\n",
    "    if (list_rec[0]==0) & (list_rec[-1]==0):\n",
    "        return list_rec[-1]\n",
    "    else:\n",
    "        list_out = []\n",
    "        for i in range(1, len(list_rec)):\n",
    "            list_out.append(list_rec[i]-list_rec[i-1])\n",
    "        return list_rec[0]-rec(list_out)"
   ]
  },
  {
   "cell_type": "code",
   "execution_count": 58,
   "id": "a1149e59",
   "metadata": {},
   "outputs": [],
   "source": [
    "count = 0\n",
    "for listik in input_data:\n",
    "    split_list = listik.split(' ')\n",
    "    split_list = list(map(int, split_list))\n",
    "    count+=rec(split_list)"
   ]
  },
  {
   "cell_type": "code",
   "execution_count": 60,
   "id": "8c1515c4",
   "metadata": {},
   "outputs": [],
   "source": [
    "a = rec(list_in)"
   ]
  },
  {
   "cell_type": "code",
   "execution_count": 61,
   "id": "1c961958",
   "metadata": {},
   "outputs": [
    {
     "data": {
      "text/plain": [
       "18347785"
      ]
     },
     "execution_count": 61,
     "metadata": {},
     "output_type": "execute_result"
    }
   ],
   "source": [
    "a"
   ]
  },
  {
   "cell_type": "markdown",
   "id": "c80a4086",
   "metadata": {},
   "source": [
    "# Day 10"
   ]
  },
  {
   "cell_type": "code",
   "execution_count": 62,
   "id": "e3b58b2f",
   "metadata": {},
   "outputs": [],
   "source": [
    "input_data = open('Day_10_data/input.txt', \"r\").read().split('\\n')\n",
    "input_matrix = [list(i) for i in input_data]"
   ]
  },
  {
   "cell_type": "code",
   "execution_count": 67,
   "id": "819414df",
   "metadata": {},
   "outputs": [],
   "source": [
    "def start_serch(matrix: List[List[int]]) -> Tuple[int, int]:\n",
    "    for i in range(len(matrix)):\n",
    "        for j in range(len(matrix[0])):\n",
    "            if matrix[i][j]=='S':\n",
    "                return [i, j]"
   ]
  },
  {
   "cell_type": "code",
   "execution_count": 68,
   "id": "b185d08b",
   "metadata": {},
   "outputs": [],
   "source": [
    "start_point = start_serch(input_matrix)"
   ]
  },
  {
   "cell_type": "code",
   "execution_count": 69,
   "id": "baaccce6",
   "metadata": {},
   "outputs": [
    {
     "data": {
      "text/plain": [
       "[128, 88]"
      ]
     },
     "execution_count": 69,
     "metadata": {},
     "output_type": "execute_result"
    }
   ],
   "source": [
    "start_point"
   ]
  },
  {
   "cell_type": "code",
   "execution_count": 72,
   "id": "0abf892f",
   "metadata": {},
   "outputs": [],
   "source": [
    "def search_first_step(start_point: Tuple[int, int], \n",
    "                      matrix: List[List[int]]) -> List[[[int, int], str]]:\n",
    "    points = []\n",
    "    print(len(matrix[0]))\n",
    "    if (start_point[0]-1)>=0 and (matrix[start_point[0]-1][start_point[1]] in '7F|'):\n",
    "        points.append([[start_point[0]-1, start_point[1]], 's'])\n",
    "    if (start_point[0]+1)<len(matrix) and (matrix[start_point[0]+1][start_point[1]] in 'JL|'):\n",
    "        points.append([[start_point[0]+1, start_point[1]], 'n'])\n",
    "    if (start_point[1]+1)<len(matrix[0]) and (matrix[start_point[0]][start_point[1]+1] in 'J7-'):\n",
    "        points.append([[start_point[0], start_point[1]+1], 'w'])\n",
    "    if (start_point[1]-1)>=0 and (matrix[start_point[0]][start_point[1]-1] in 'LF-'):\n",
    "        points.append([[start_point[0], start_point[1]-1], 'e'])\n",
    "    return points"
   ]
  },
  {
   "cell_type": "code",
   "execution_count": 73,
   "id": "2ccf9008",
   "metadata": {},
   "outputs": [
    {
     "name": "stdout",
     "output_type": "stream",
     "text": [
      "140\n"
     ]
    }
   ],
   "source": [
    "points = search_first_step(start_point, input_matrix)\n",
    "point_1, point_2 = [points[0]], [points[1]]"
   ]
  },
  {
   "cell_type": "code",
   "execution_count": 75,
   "id": "a7165576",
   "metadata": {},
   "outputs": [],
   "source": [
    "def next_point(matrix: List[List[int]], point: Tuple[int, int]) -> List[[[int, int], str]]:\n",
    "    point_coord = point[0]\n",
    "    tile = matrix[point_coord[0]][point_coord[1]]\n",
    "    direction = point[1]\n",
    "    if tile == '-':\n",
    "        if direction == 'w':\n",
    "            return [move_to_east(point_coord, matrix), 'w']\n",
    "        if direction == 'e':\n",
    "            return [move_to_west(point_coord, matrix), 'e']\n",
    "    if tile == '7':\n",
    "        if direction == 'w':\n",
    "            return [move_to_south(point_coord, matrix), 'n']\n",
    "        if direction == 's':\n",
    "            return [move_to_west(point_coord, matrix), 'e']\n",
    "    if tile == '|':\n",
    "        if direction == 'n':\n",
    "            return [move_to_south(point_coord, matrix), 'n']\n",
    "        if direction == 's':\n",
    "            return [move_to_north(point_coord, matrix), 's']\n",
    "    if tile == 'F':\n",
    "        if direction == 'e':\n",
    "            return [move_to_south(point_coord, matrix), 'n']\n",
    "        if direction == 's':\n",
    "            return [move_to_east(point_coord, matrix), 'w']\n",
    "    if tile == 'L':\n",
    "        if direction == 'e':\n",
    "            return [move_to_north(point_coord, matrix), 's']\n",
    "        if direction == 'n':\n",
    "            return [move_to_east(point_coord, matrix), 'w']\n",
    "    if tile == 'J':\n",
    "        if direction == 'w':\n",
    "            return [move_to_north(point_coord, matrix), 's']\n",
    "        if direction == 'n':\n",
    "            return [move_to_west(point_coord, matrix), 'e']"
   ]
  },
  {
   "cell_type": "code",
   "execution_count": 76,
   "id": "2d61ea1e",
   "metadata": {},
   "outputs": [],
   "source": [
    "def move_to_east(point: Tuple[int, int], matrix: List[List[int]]) -> Tuple[int, int]:\n",
    "    if point[1]<len(matrix[0])-1:\n",
    "        return [point[0], point[1]+1]\n",
    "def move_to_west(point, matrix):\n",
    "    if point[1] > 0:\n",
    "        return [point[0], point[1]-1]\n",
    "def move_to_north(point, matrix):\n",
    "    if point[0] > 0:\n",
    "        return [point[0]-1, point[1]]\n",
    "def move_to_south(point, matrix):\n",
    "    if point[0]<len(matrix)-1:\n",
    "        return [point[0]+1, point[1]]"
   ]
  },
  {
   "cell_type": "code",
   "execution_count": 79,
   "id": "7ff96935",
   "metadata": {},
   "outputs": [],
   "source": [
    "route = []\n",
    "route.append(start_point)\n",
    "route.append(point_1[0][0])\n",
    "current_point = point_1[0]\n",
    "while route[-1] != start_point:\n",
    "    #print(current_point)\n",
    "    current_point = next_point(input_matrix, current_point)\n",
    "    route.append(current_point[0])"
   ]
  },
  {
   "cell_type": "code",
   "execution_count": 80,
   "id": "02da5b0d",
   "metadata": {},
   "outputs": [
    {
     "data": {
      "text/plain": [
       "[[[127, 88], 's']]"
      ]
     },
     "execution_count": 80,
     "metadata": {},
     "output_type": "execute_result"
    }
   ],
   "source": [
    "point_1"
   ]
  },
  {
   "cell_type": "code",
   "execution_count": 81,
   "id": "5ecd9ef5",
   "metadata": {},
   "outputs": [
    {
     "data": {
      "text/plain": [
       "6640.0"
      ]
     },
     "execution_count": 81,
     "metadata": {},
     "output_type": "execute_result"
    }
   ],
   "source": [
    "(len(route)-1)/2"
   ]
  },
  {
   "cell_type": "markdown",
   "id": "77f970e2",
   "metadata": {},
   "source": [
    "## Task 2"
   ]
  },
  {
   "cell_type": "code",
   "execution_count": 82,
   "id": "0dcca494",
   "metadata": {},
   "outputs": [],
   "source": [
    "import re\n",
    "import numpy"
   ]
  },
  {
   "cell_type": "code",
   "execution_count": 83,
   "id": "21d51d5c",
   "metadata": {},
   "outputs": [],
   "source": [
    "input_data = open('Day_10_data/input.txt', \"r\").read().split('\\n')\n",
    "input_matrix = [list(i) for i in input_data]"
   ]
  },
  {
   "cell_type": "code",
   "execution_count": 84,
   "id": "6532b13a",
   "metadata": {},
   "outputs": [],
   "source": [
    "start_point = start_serch(input_matrix)"
   ]
  },
  {
   "cell_type": "code",
   "execution_count": 85,
   "id": "0255b386",
   "metadata": {},
   "outputs": [
    {
     "name": "stdout",
     "output_type": "stream",
     "text": [
      "140\n"
     ]
    }
   ],
   "source": [
    "points = search_first_step(start_point, input_matrix)\n",
    "point_1, point_2 = [points[0]], [points[1]]"
   ]
  },
  {
   "cell_type": "code",
   "execution_count": 87,
   "id": "ee5cb972",
   "metadata": {},
   "outputs": [],
   "source": [
    "route = []\n",
    "route.append(start_point)\n",
    "route.append(point_1[0][0])\n",
    "current_point = point_1[0]\n",
    "while route[-1] != start_point:\n",
    "    #print(current_point)\n",
    "    current_point = next_point(input_matrix, current_point)\n",
    "    route.append(current_point[0])"
   ]
  },
  {
   "cell_type": "code",
   "execution_count": 88,
   "id": "bd4f3ab7",
   "metadata": {},
   "outputs": [],
   "source": [
    "route = route[:-1]"
   ]
  },
  {
   "cell_type": "code",
   "execution_count": 89,
   "id": "7e2ba74c",
   "metadata": {},
   "outputs": [],
   "source": [
    "x, y = zip(*route)"
   ]
  },
  {
   "cell_type": "code",
   "execution_count": 90,
   "id": "e895180c",
   "metadata": {},
   "outputs": [],
   "source": [
    "def PolyArea(x,y):\n",
    "    return 0.5*np.abs(np.dot(x,np.roll(y,1))-np.dot(y,np.roll(x,1)))"
   ]
  },
  {
   "cell_type": "code",
   "execution_count": 91,
   "id": "2934382c",
   "metadata": {},
   "outputs": [],
   "source": [
    "area = PolyArea(x,y)"
   ]
  },
  {
   "cell_type": "code",
   "execution_count": 92,
   "id": "95bbc298",
   "metadata": {},
   "outputs": [],
   "source": [
    "num_interior_points = int(abs(area) - 0.5 * len(route) + 1)"
   ]
  },
  {
   "cell_type": "code",
   "execution_count": 93,
   "id": "cbeeec9c",
   "metadata": {},
   "outputs": [
    {
     "data": {
      "text/plain": [
       "411"
      ]
     },
     "execution_count": 93,
     "metadata": {},
     "output_type": "execute_result"
    }
   ],
   "source": [
    "num_interior_points"
   ]
  },
  {
   "cell_type": "markdown",
   "id": "7f1f26d5",
   "metadata": {},
   "source": [
    "# Day 11"
   ]
  },
  {
   "cell_type": "code",
   "execution_count": 94,
   "id": "63266a89",
   "metadata": {},
   "outputs": [],
   "source": [
    "import re"
   ]
  },
  {
   "cell_type": "code",
   "execution_count": 95,
   "id": "6f7c686d",
   "metadata": {},
   "outputs": [],
   "source": [
    "input_data = open('Day_11_data/test_1.txt', \"r\").read().split('\\n')"
   ]
  },
  {
   "cell_type": "code",
   "execution_count": 102,
   "id": "e316b136",
   "metadata": {},
   "outputs": [],
   "source": [
    "line_counter = 1\n",
    "list_stars = []\n",
    "with open('Day_11_data/input.txt') as fp:\n",
    "    for line in fp:\n",
    "        for m in re.finditer('#', line):\n",
    "            list_stars.append([m.start()+1, line_counter])\n",
    "        line_counter+=1\n",
    "        if line.find('#') == -1:\n",
    "            line_counter+=1\n",
    "        "
   ]
  },
  {
   "cell_type": "code",
   "execution_count": 104,
   "id": "6e936f8d",
   "metadata": {},
   "outputs": [],
   "source": [
    "list_stars = sorted(list_stars, key=lambda x: x[0])"
   ]
  },
  {
   "cell_type": "code",
   "execution_count": 107,
   "id": "6c9ebac2",
   "metadata": {},
   "outputs": [],
   "source": [
    "gap_col = []\n",
    "counter = 0\n",
    "for i in range(1, len(list_stars)):\n",
    "    if (list_stars[i][0] - list_stars[i-1][0]) > 1:\n",
    "        gap_col.append(list_stars[i][0]-1+counter)\n",
    "        counter+=1"
   ]
  },
  {
   "cell_type": "code",
   "execution_count": 108,
   "id": "e0e95be6",
   "metadata": {},
   "outputs": [
    {
     "data": {
      "text/plain": [
       "[29, 48, 55, 61, 73, 83, 93, 99]"
      ]
     },
     "execution_count": 108,
     "metadata": {},
     "output_type": "execute_result"
    }
   ],
   "source": [
    "gap_col"
   ]
  },
  {
   "cell_type": "code",
   "execution_count": 110,
   "id": "08548945",
   "metadata": {},
   "outputs": [],
   "source": [
    "for col in gap_col:\n",
    "    for star in list_stars:\n",
    "        if star[0]>=col:\n",
    "            star[0]+=1"
   ]
  },
  {
   "cell_type": "code",
   "execution_count": 111,
   "id": "751442b3",
   "metadata": {},
   "outputs": [],
   "source": [
    "def manh_dist(coord_1: int, coord_2: int) -> int:\n",
    "    return (abs(coord_2[0] - coord_1[0]) + abs(coord_2[1] - coord_1[1]))"
   ]
  },
  {
   "cell_type": "code",
   "execution_count": 112,
   "id": "63c51719",
   "metadata": {},
   "outputs": [
    {
     "data": {
      "text/plain": [
       "17"
      ]
     },
     "execution_count": 112,
     "metadata": {},
     "output_type": "execute_result"
    }
   ],
   "source": [
    "manh_dist([1, 3], [13, 8])"
   ]
  },
  {
   "cell_type": "code",
   "execution_count": 113,
   "id": "34386323",
   "metadata": {},
   "outputs": [],
   "source": [
    "dist_list = []\n",
    "for i in range(len(list_stars)):\n",
    "    for j in range(i, len(list_stars)):\n",
    "        if i!=j:\n",
    "            dist = manh_dist(list_stars[i], list_stars[j])\n",
    "            dist_list.append(dist)"
   ]
  },
  {
   "cell_type": "code",
   "execution_count": 114,
   "id": "ffbd1d51",
   "metadata": {},
   "outputs": [
    {
     "data": {
      "text/plain": [
       "10800401"
      ]
     },
     "execution_count": 114,
     "metadata": {},
     "output_type": "execute_result"
    }
   ],
   "source": [
    "sum(dist_list)"
   ]
  },
  {
   "cell_type": "markdown",
   "id": "d39b3cda",
   "metadata": {},
   "source": [
    "### Task 2"
   ]
  },
  {
   "cell_type": "code",
   "execution_count": 115,
   "id": "aff5c7af",
   "metadata": {},
   "outputs": [],
   "source": [
    "line_counter = 1\n",
    "list_stars = []\n",
    "size = 1000000\n",
    "with open('Day_11_data/input.txt') as fp:\n",
    "    for line in fp:\n",
    "        for m in re.finditer('#', line):\n",
    "            list_stars.append([m.start()+1, line_counter])\n",
    "        if line.find('#') == -1:\n",
    "            line_counter+=size\n",
    "        else:\n",
    "            line_counter+=1"
   ]
  },
  {
   "cell_type": "code",
   "execution_count": 117,
   "id": "c2f7f56a",
   "metadata": {},
   "outputs": [],
   "source": [
    "list_stars = sorted(list_stars, key=lambda x: x[0])"
   ]
  },
  {
   "cell_type": "code",
   "execution_count": 119,
   "id": "d7085290",
   "metadata": {},
   "outputs": [],
   "source": [
    "gap_col = []\n",
    "counter = 0\n",
    "for i in range(1, len(list_stars)):\n",
    "    if (list_stars[i][0] - list_stars[i-1][0]) > 1:\n",
    "        gap_col.append(list_stars[i][0]-1+counter)\n",
    "        counter+=(size-1)"
   ]
  },
  {
   "cell_type": "code",
   "execution_count": 121,
   "id": "20042798",
   "metadata": {},
   "outputs": [],
   "source": [
    "for col in gap_col:\n",
    "    for star in list_stars:\n",
    "        if star[0]>=col:\n",
    "            star[0]+=(size-1)"
   ]
  },
  {
   "cell_type": "code",
   "execution_count": 124,
   "id": "4e05cade",
   "metadata": {},
   "outputs": [],
   "source": [
    "def manh_dist(coord_1: int, coord_2: int) -> int:\n",
    "    return (abs(coord_2[0] - coord_1[0]) + abs(coord_2[1] - coord_1[1]))"
   ]
  },
  {
   "cell_type": "code",
   "execution_count": 125,
   "id": "9ccc76ec",
   "metadata": {},
   "outputs": [],
   "source": [
    "dist_list = []\n",
    "for i in range(len(list_stars)):\n",
    "    for j in range(i, len(list_stars)):\n",
    "        if i!=j:\n",
    "            dist = manh_dist(list_stars[i], list_stars[j])\n",
    "            dist_list.append(dist)"
   ]
  },
  {
   "cell_type": "code",
   "execution_count": 126,
   "id": "eb0c3031",
   "metadata": {},
   "outputs": [
    {
     "data": {
      "text/plain": [
       "971228751810"
      ]
     },
     "execution_count": 126,
     "metadata": {},
     "output_type": "execute_result"
    }
   ],
   "source": [
    "sum(dist_list)"
   ]
  },
  {
   "cell_type": "markdown",
   "id": "9fea7048",
   "metadata": {},
   "source": [
    "# Day 13"
   ]
  },
  {
   "cell_type": "markdown",
   "id": "75ac6593",
   "metadata": {},
   "source": [
    "## Task 1"
   ]
  },
  {
   "cell_type": "code",
   "execution_count": 127,
   "id": "f0b167ac",
   "metadata": {},
   "outputs": [],
   "source": [
    "input_data = open('Day_13_data/input.txt', \"r\").read().split('\\n\\n')"
   ]
  },
  {
   "cell_type": "code",
   "execution_count": 128,
   "id": "0938bf31",
   "metadata": {},
   "outputs": [],
   "source": [
    "def check_mirror(input_data):\n",
    "    flag = True\n",
    "    if len(input_data)%2==1:\n",
    "        flag = False\n",
    "        return flag\n",
    "    for i in range(len(input_data)//2):\n",
    "        if input_data[i] != input_data[-i-1]:\n",
    "            flag = False\n",
    "            return flag\n",
    "    return flag"
   ]
  },
  {
   "cell_type": "code",
   "execution_count": 130,
   "id": "c5fa3f28",
   "metadata": {},
   "outputs": [],
   "source": [
    "def count_rows_abobe(input_data):\n",
    "    rows_above = None\n",
    "    for i, row in enumerate(input_data[1:-1]):\n",
    "        if row == input_data[0]:\n",
    "            if check_mirror(input_data[:i+2]):\n",
    "                rows_above = (i+1+1)//2\n",
    "                #return rows_above\n",
    "        if row == input_data[-1]:\n",
    "            if check_mirror(input_data[i+1:]):\n",
    "                rows_above = i+1+((len(input_data)-i-1)//2)\n",
    "                #return rows_above\n",
    "    return rows_above"
   ]
  },
  {
   "cell_type": "code",
   "execution_count": 131,
   "id": "2b2d8103",
   "metadata": {},
   "outputs": [],
   "source": [
    "row_list, column_list = [], []\n",
    "for pattern in input_data:\n",
    "    num_row, num_column = None, None\n",
    "    pattern = pattern.split('\\n')\n",
    "    num_row = count_rows_abobe(pattern)\n",
    "    if (not num_row):\n",
    "        pattern = [''.join(s) for s in zip(*pattern)]\n",
    "        num_column = count_rows_abobe(pattern)\n",
    "        column_list.append(num_column)\n",
    "    else: \n",
    "        row_list.append(num_row)"
   ]
  },
  {
   "cell_type": "code",
   "execution_count": 132,
   "id": "86473e28",
   "metadata": {},
   "outputs": [],
   "source": [
    "row_list = [i*100 for i in row_list]"
   ]
  },
  {
   "cell_type": "code",
   "execution_count": 133,
   "id": "0d71571e",
   "metadata": {},
   "outputs": [
    {
     "data": {
      "text/plain": [
       "27664"
      ]
     },
     "execution_count": 133,
     "metadata": {},
     "output_type": "execute_result"
    }
   ],
   "source": [
    "sum(row_list) + sum(column_list)"
   ]
  },
  {
   "cell_type": "markdown",
   "id": "4e48f897",
   "metadata": {},
   "source": [
    "## Task 2"
   ]
  },
  {
   "cell_type": "code",
   "execution_count": 134,
   "id": "f7f68067",
   "metadata": {},
   "outputs": [],
   "source": [
    "input_data = open('Day_13_data/input.txt', \"r\").read().split('\\n\\n')"
   ]
  },
  {
   "cell_type": "code",
   "execution_count": 136,
   "id": "4c75f104",
   "metadata": {},
   "outputs": [],
   "source": [
    "def hamming_distance(string_1: str, string_2: str) -> int:\n",
    "    return sum(ch_1!=ch_2 for ch_1, ch_2 in zip(string_1, string_2))"
   ]
  },
  {
   "cell_type": "code",
   "execution_count": 137,
   "id": "32dc488d",
   "metadata": {},
   "outputs": [],
   "source": [
    "def check_mirror(input_data):\n",
    "    flag = True\n",
    "    hamming_sum = 0\n",
    "    if len(input_data)%2==1:\n",
    "        flag = False\n",
    "        return flag\n",
    "    for i in range(0, len(input_data)//2):\n",
    "        hamming_sum += hamming_distance(input_data[i], input_data[-i-1])\n",
    "        if (hamming_sum>1):\n",
    "            flag = False\n",
    "            return flag\n",
    "    if hamming_sum==0:\n",
    "        flag = False\n",
    "        return flag\n",
    "    return flag"
   ]
  },
  {
   "cell_type": "code",
   "execution_count": 138,
   "id": "24bc22fc",
   "metadata": {},
   "outputs": [],
   "source": [
    "def count_rows_abobe(input_data):\n",
    "    rows_above = None\n",
    "    for i, row in enumerate(input_data[1:-1]):\n",
    "        if hamming_distance(input_data[0], row)<=1:\n",
    "            if check_mirror(input_data[:i+2]):\n",
    "                rows_above = (i+1+1)//2\n",
    "                return rows_above\n",
    "        if hamming_distance(input_data[-1], row)<=1:\n",
    "            if check_mirror(input_data[i+1:]):\n",
    "                rows_above = i+1+((len(input_data)-i-1)//2)\n",
    "                return rows_above\n",
    "    return rows_above"
   ]
  },
  {
   "cell_type": "code",
   "execution_count": 139,
   "id": "f9e25c99",
   "metadata": {},
   "outputs": [],
   "source": [
    "data = input_data[3].split('\\n')"
   ]
  },
  {
   "cell_type": "code",
   "execution_count": 141,
   "id": "78a652e3",
   "metadata": {},
   "outputs": [],
   "source": [
    "row_list, column_list = [], []\n",
    "i=0\n",
    "for pattern in input_data:\n",
    "    num_row, num_column = None, None\n",
    "    pattern = pattern.split('\\n')\n",
    "    num_row = count_rows_abobe(pattern)\n",
    "    if (not num_row):\n",
    "        pattern = [''.join(s) for s in zip(*pattern)]\n",
    "        num_column = count_rows_abobe(pattern)\n",
    "        column_list.append(num_column)\n",
    "    else: \n",
    "        row_list.append(num_row)\n",
    "    i+=1"
   ]
  },
  {
   "cell_type": "code",
   "execution_count": 143,
   "id": "09b0b58f",
   "metadata": {},
   "outputs": [],
   "source": [
    "row_list = [i*100 for i in row_list]"
   ]
  },
  {
   "cell_type": "code",
   "execution_count": 144,
   "id": "71b4d9e1",
   "metadata": {},
   "outputs": [
    {
     "data": {
      "text/plain": [
       "33991"
      ]
     },
     "execution_count": 144,
     "metadata": {},
     "output_type": "execute_result"
    }
   ],
   "source": [
    "sum(row_list) + sum(column_list)"
   ]
  },
  {
   "cell_type": "markdown",
   "id": "61a06a8a",
   "metadata": {},
   "source": [
    "# Day 13"
   ]
  },
  {
   "cell_type": "markdown",
   "id": "de07751c",
   "metadata": {},
   "source": [
    "## Task 1"
   ]
  },
  {
   "cell_type": "code",
   "execution_count": 145,
   "id": "eec9329c",
   "metadata": {},
   "outputs": [],
   "source": [
    "input_data = open('Day_14_data/input.txt', \"r\").read().split('\\n\\n')"
   ]
  },
  {
   "cell_type": "code",
   "execution_count": 146,
   "id": "875511bc",
   "metadata": {},
   "outputs": [],
   "source": [
    "data = input_data[0].split('\\n')"
   ]
  },
  {
   "cell_type": "code",
   "execution_count": 148,
   "id": "1402fb40",
   "metadata": {},
   "outputs": [],
   "source": [
    "data_t = [''.join(s) for s in zip(*data)]"
   ]
  },
  {
   "cell_type": "code",
   "execution_count": 149,
   "id": "c24a3dcf",
   "metadata": {},
   "outputs": [],
   "source": [
    "data_t = [s[::-1] for s in data_t]"
   ]
  },
  {
   "cell_type": "code",
   "execution_count": 150,
   "id": "b0ed8ba6",
   "metadata": {},
   "outputs": [],
   "source": [
    "dic_stones = {}\n",
    "for i in range(1, len(data)+1):\n",
    "    dic_stones[i]=0"
   ]
  },
  {
   "cell_type": "code",
   "execution_count": 151,
   "id": "d055b9b9",
   "metadata": {},
   "outputs": [
    {
     "data": {
      "text/plain": [
       "{1: 0,\n",
       " 2: 0,\n",
       " 3: 0,\n",
       " 4: 0,\n",
       " 5: 0,\n",
       " 6: 0,\n",
       " 7: 0,\n",
       " 8: 0,\n",
       " 9: 0,\n",
       " 10: 0,\n",
       " 11: 0,\n",
       " 12: 0,\n",
       " 13: 0,\n",
       " 14: 0,\n",
       " 15: 0,\n",
       " 16: 0,\n",
       " 17: 0,\n",
       " 18: 0,\n",
       " 19: 0,\n",
       " 20: 0,\n",
       " 21: 0,\n",
       " 22: 0,\n",
       " 23: 0,\n",
       " 24: 0,\n",
       " 25: 0,\n",
       " 26: 0,\n",
       " 27: 0,\n",
       " 28: 0,\n",
       " 29: 0,\n",
       " 30: 0,\n",
       " 31: 0,\n",
       " 32: 0,\n",
       " 33: 0,\n",
       " 34: 0,\n",
       " 35: 0,\n",
       " 36: 0,\n",
       " 37: 0,\n",
       " 38: 0,\n",
       " 39: 0,\n",
       " 40: 0,\n",
       " 41: 0,\n",
       " 42: 0,\n",
       " 43: 0,\n",
       " 44: 0,\n",
       " 45: 0,\n",
       " 46: 0,\n",
       " 47: 0,\n",
       " 48: 0,\n",
       " 49: 0,\n",
       " 50: 0,\n",
       " 51: 0,\n",
       " 52: 0,\n",
       " 53: 0,\n",
       " 54: 0,\n",
       " 55: 0,\n",
       " 56: 0,\n",
       " 57: 0,\n",
       " 58: 0,\n",
       " 59: 0,\n",
       " 60: 0,\n",
       " 61: 0,\n",
       " 62: 0,\n",
       " 63: 0,\n",
       " 64: 0,\n",
       " 65: 0,\n",
       " 66: 0,\n",
       " 67: 0,\n",
       " 68: 0,\n",
       " 69: 0,\n",
       " 70: 0,\n",
       " 71: 0,\n",
       " 72: 0,\n",
       " 73: 0,\n",
       " 74: 0,\n",
       " 75: 0,\n",
       " 76: 0,\n",
       " 77: 0,\n",
       " 78: 0,\n",
       " 79: 0,\n",
       " 80: 0,\n",
       " 81: 0,\n",
       " 82: 0,\n",
       " 83: 0,\n",
       " 84: 0,\n",
       " 85: 0,\n",
       " 86: 0,\n",
       " 87: 0,\n",
       " 88: 0,\n",
       " 89: 0,\n",
       " 90: 0,\n",
       " 91: 0,\n",
       " 92: 0,\n",
       " 93: 0,\n",
       " 94: 0,\n",
       " 95: 0,\n",
       " 96: 0,\n",
       " 97: 0,\n",
       " 98: 0,\n",
       " 99: 0,\n",
       " 100: 0}"
      ]
     },
     "execution_count": 151,
     "metadata": {},
     "output_type": "execute_result"
    }
   ],
   "source": [
    "dic_stones"
   ]
  },
  {
   "cell_type": "code",
   "execution_count": 156,
   "id": "878fb2ec",
   "metadata": {},
   "outputs": [],
   "source": [
    "def stones_in_string(string, dic):\n",
    "    #add an edge to the end of the line\n",
    "    string = string+'#'\n",
    "    count = 0\n",
    "    for i, ch in enumerate(string):\n",
    "        if ch=='O':\n",
    "            count+=1\n",
    "        if ch=='#':\n",
    "            for key in range(i, i-count, -1):\n",
    "                dic[key]+=key\n",
    "            count=0\n",
    "    #return dic"
   ]
  },
  {
   "cell_type": "code",
   "execution_count": 157,
   "id": "44c1930f",
   "metadata": {},
   "outputs": [],
   "source": [
    "for row in data_t:\n",
    "    stones_in_string(row, dic_stones)"
   ]
  },
  {
   "cell_type": "code",
   "execution_count": 158,
   "id": "d3f4c9ca",
   "metadata": {},
   "outputs": [
    {
     "data": {
      "text/plain": [
       "328398"
      ]
     },
     "execution_count": 158,
     "metadata": {},
     "output_type": "execute_result"
    }
   ],
   "source": [
    "sum(dic_stones.values())"
   ]
  },
  {
   "cell_type": "markdown",
   "id": "e4513d3b",
   "metadata": {},
   "source": [
    "## Task 2"
   ]
  },
  {
   "cell_type": "code",
   "execution_count": 159,
   "id": "3b995cc9",
   "metadata": {},
   "outputs": [],
   "source": [
    "input_data = open('Day_14_data/test_1.txt', \"r\").read().split('\\n\\n')\n",
    "data = input_data[0].split('\\n')"
   ]
  },
  {
   "cell_type": "code",
   "execution_count": 161,
   "id": "c8a24f22",
   "metadata": {},
   "outputs": [],
   "source": [
    "def clockwise_rotate(data):\n",
    "    data_t = [''.join(s) for s in zip(*data)]\n",
    "    data_t = [s[::-1] for s in data_t]\n",
    "    return data_t"
   ]
  },
  {
   "cell_type": "code",
   "execution_count": 162,
   "id": "94551792",
   "metadata": {},
   "outputs": [],
   "source": [
    "def rocks_roll(string):\n",
    "    #add an edge to the end of the line\n",
    "    string = string+'#'\n",
    "    final_string = ''\n",
    "    substr = ''\n",
    "    count_O=0\n",
    "    count_com = 0\n",
    "    for i, ch in enumerate(string):\n",
    "        if ch=='O':\n",
    "            count_O+=1\n",
    "        elif ch =='.':\n",
    "            count_com+=1\n",
    "        elif ch=='#':\n",
    "            substr = '.'*count_com + 'O'*count_O + '#'\n",
    "            count_O=0\n",
    "            count_com=0\n",
    "            final_string = final_string+substr\n",
    "    return final_string[:-1]\n",
    "    "
   ]
  },
  {
   "cell_type": "code",
   "execution_count": 163,
   "id": "48387ef5",
   "metadata": {},
   "outputs": [],
   "source": [
    "def count_load(data, length):\n",
    "    count = 0\n",
    "    for i, string in enumerate(data):\n",
    "        count_O = string.count('O')*(length-i)\n",
    "        count+=count_O\n",
    "    return count"
   ]
  },
  {
   "cell_type": "code",
   "execution_count": 164,
   "id": "4147f855",
   "metadata": {},
   "outputs": [],
   "source": [
    "def spin_cycle_90(data):\n",
    "    test_data = clockwise_rotate(data)\n",
    "    #for i, string in enumerate(test_data):\n",
    "    #    test_data[i] = rocks_roll(string)\n",
    "    test_data = list(map(rocks_roll, test_data))\n",
    "    return test_data"
   ]
  },
  {
   "cell_type": "code",
   "execution_count": 165,
   "id": "1a11277d",
   "metadata": {},
   "outputs": [],
   "source": [
    "def spin_cycle(data):\n",
    "    for i in range(4):\n",
    "        data = spin_cycle_90(data)\n",
    "    return data"
   ]
  },
  {
   "cell_type": "code",
   "execution_count": 166,
   "id": "e9b7a1d3",
   "metadata": {},
   "outputs": [],
   "source": [
    "for i in range(1000):\n",
    "    #print(i)\n",
    "    len_data = len(data)\n",
    "    data = spin_cycle(data)"
   ]
  },
  {
   "cell_type": "code",
   "execution_count": 177,
   "id": "aa773ef2",
   "metadata": {},
   "outputs": [],
   "source": [
    "data = spin_cycle_90(data)\n",
    "data = clockwise_rotate(data)"
   ]
  },
  {
   "cell_type": "code",
   "execution_count": 178,
   "id": "8ad49b3f",
   "metadata": {},
   "outputs": [
    {
     "data": {
      "text/plain": [
       "17872"
      ]
     },
     "execution_count": 178,
     "metadata": {},
     "output_type": "execute_result"
    }
   ],
   "source": [
    "count_load(data, 1000)"
   ]
  },
  {
   "cell_type": "markdown",
   "id": "8854dc10",
   "metadata": {},
   "source": [
    "# Day "
   ]
  },
  {
   "cell_type": "code",
   "execution_count": 179,
   "id": "eedee62b",
   "metadata": {},
   "outputs": [],
   "source": [
    "test_string = 'rn=1,cm-,qp=3,cm=2,qp-,pc=4,ot=9,ab=5,pc-,pc=6,ot=7'"
   ]
  },
  {
   "cell_type": "code",
   "execution_count": 180,
   "id": "8daaa96e",
   "metadata": {},
   "outputs": [],
   "source": [
    "test_string = test_string.split(',')"
   ]
  },
  {
   "cell_type": "code",
   "execution_count": 181,
   "id": "e4f461c1",
   "metadata": {},
   "outputs": [],
   "source": [
    "def hash_decoder(string: str) -> int:\n",
    "    count = 0\n",
    "    ascii_code = 0\n",
    "    for i in string:\n",
    "        ascii_code = ord(i)\n",
    "        count+=ascii_code\n",
    "        count=(count*17)%256\n",
    "    return count"
   ]
  },
  {
   "cell_type": "code",
   "execution_count": 182,
   "id": "f6a896ed",
   "metadata": {},
   "outputs": [],
   "source": [
    "res_list = list(map(hash_decoder, test_string))"
   ]
  },
  {
   "cell_type": "code",
   "execution_count": 183,
   "id": "38c2a9db",
   "metadata": {},
   "outputs": [
    {
     "data": {
      "text/plain": [
       "1320"
      ]
     },
     "execution_count": 183,
     "metadata": {},
     "output_type": "execute_result"
    }
   ],
   "source": [
    "sum(res_list)"
   ]
  },
  {
   "cell_type": "code",
   "execution_count": 184,
   "id": "4c149ac5",
   "metadata": {},
   "outputs": [],
   "source": [
    "input_data = open('Day_15_data/input.txt', \"r\").read()"
   ]
  },
  {
   "cell_type": "code",
   "execution_count": 185,
   "id": "496f8c14",
   "metadata": {},
   "outputs": [],
   "source": [
    "input_data = input_data.replace('\\n', '').split(',')"
   ]
  },
  {
   "cell_type": "code",
   "execution_count": 186,
   "id": "fc306960",
   "metadata": {},
   "outputs": [],
   "source": [
    "res_list = list(map(hash_decoder, input_data))"
   ]
  },
  {
   "cell_type": "code",
   "execution_count": 187,
   "id": "62486a2c",
   "metadata": {},
   "outputs": [
    {
     "data": {
      "text/plain": [
       "516657"
      ]
     },
     "execution_count": 187,
     "metadata": {},
     "output_type": "execute_result"
    }
   ],
   "source": [
    "sum(res_list)"
   ]
  },
  {
   "cell_type": "markdown",
   "id": "955ae6a5",
   "metadata": {},
   "source": [
    "## Task 2"
   ]
  },
  {
   "cell_type": "code",
   "execution_count": 189,
   "id": "5f4c8dbf",
   "metadata": {},
   "outputs": [],
   "source": [
    "import re"
   ]
  },
  {
   "cell_type": "code",
   "execution_count": 190,
   "id": "f3992532",
   "metadata": {},
   "outputs": [],
   "source": [
    "test_string = 'rn=1,cm-,qp=3,cm=2,qp-,pc=4,ot=9,ab=5,pc-,pc=6,ot=7'"
   ]
  },
  {
   "cell_type": "code",
   "execution_count": 194,
   "id": "558d02fe",
   "metadata": {},
   "outputs": [],
   "source": [
    "def hash_decoder(string: str) -> int:\n",
    "    count = 0\n",
    "    ascii_code = 0\n",
    "    for i in string:\n",
    "        ascii_code = ord(i)\n",
    "        count+=ascii_code\n",
    "        count=(count*17)%256\n",
    "    return count"
   ]
  },
  {
   "cell_type": "code",
   "execution_count": 195,
   "id": "f517f336",
   "metadata": {},
   "outputs": [],
   "source": [
    "box_dic = {}\n",
    "for i in range(257):\n",
    "    box_dic[i] = []"
   ]
  },
  {
   "cell_type": "code",
   "execution_count": 196,
   "id": "8bf4180e",
   "metadata": {},
   "outputs": [],
   "source": [
    "def search_label(string: str) -> int:    \n",
    "    return re.split('=|-',string)"
   ]
  },
  {
   "cell_type": "code",
   "execution_count": 197,
   "id": "b77f525c",
   "metadata": {},
   "outputs": [],
   "source": [
    "box_dic = {}\n",
    "for i in range(257):\n",
    "    box_dic[i] = []"
   ]
  },
  {
   "cell_type": "code",
   "execution_count": 200,
   "id": "332ed7e2",
   "metadata": {},
   "outputs": [],
   "source": [
    "for i in input_data:\n",
    "    label, length = search_label(i)\n",
    "    hash_encode = hash_decoder(label)\n",
    "    if len(length)>0:\n",
    "        ch = str(label)+' '+str(length)\n",
    "        if not box_dic[hash_encode]:\n",
    "            box_dic[hash_encode].append([label, length])\n",
    "        else:\n",
    "            flag = False\n",
    "            for lens in box_dic[hash_encode]:\n",
    "                if lens[0] == label:\n",
    "                    lens[1] = length\n",
    "                    flag=True\n",
    "            if not flag:\n",
    "                box_dic[hash_encode].append([label, length])\n",
    "    else:\n",
    "        for lens in box_dic[hash_encode]:\n",
    "            if lens[0]==label:\n",
    "                box_dic[hash_encode].remove(lens)"
   ]
  },
  {
   "cell_type": "code",
   "execution_count": 204,
   "id": "7970792a",
   "metadata": {},
   "outputs": [],
   "source": [
    "def focus_power(box_num: int, lens_list: List[int]) -> int:\n",
    "    count = 0\n",
    "    for i, el in enumerate(lens_list):\n",
    "        k = box_num*(i+1)*int(el[1])\n",
    "        count+=k\n",
    "    return count"
   ]
  },
  {
   "cell_type": "code",
   "execution_count": 205,
   "id": "e9cfb0ed",
   "metadata": {},
   "outputs": [],
   "source": [
    "count = 0\n",
    "for i, lens_list in box_dic.items():\n",
    "    count_lens = focus_power(i+1, lens_list)\n",
    "    count+=count_lens"
   ]
  },
  {
   "cell_type": "code",
   "execution_count": 206,
   "id": "9f61bf18",
   "metadata": {},
   "outputs": [
    {
     "data": {
      "text/plain": [
       "210906"
      ]
     },
     "execution_count": 206,
     "metadata": {},
     "output_type": "execute_result"
    }
   ],
   "source": [
    "count"
   ]
  },
  {
   "cell_type": "markdown",
   "id": "01457036",
   "metadata": {},
   "source": [
    "# Day 16"
   ]
  },
  {
   "cell_type": "markdown",
   "id": "4a4e7240",
   "metadata": {},
   "source": [
    "## Task 1"
   ]
  },
  {
   "cell_type": "code",
   "execution_count": 252,
   "id": "9b5e4a1e",
   "metadata": {},
   "outputs": [],
   "source": [
    "import numpy as np"
   ]
  },
  {
   "cell_type": "code",
   "execution_count": 253,
   "id": "6682dc2b",
   "metadata": {},
   "outputs": [],
   "source": [
    "def check_dash(grid_point, all_map):\n",
    "    if grid_point[-1] == 'w':\n",
    "        new_y, new_x = w_to_e(grid_point[0])\n",
    "        if new_x>=0:\n",
    "            return [[new_y, new_x], all_map[new_y][new_x], 'w']\n",
    "    elif grid_point[-1] == 'e':\n",
    "        new_y, new_x = e_to_w(grid_point[0])\n",
    "        if new_x>=0:\n",
    "            return [[new_y, new_x], all_map[new_y][new_x], 'e']\n",
    "    else:\n",
    "        new_y_1, new_x_1 = w_to_e(grid_point[0])\n",
    "        new_y_2, new_x_2 = e_to_w(grid_point[0])\n",
    "        if (new_x_1>=0) & (new_x_2>=0):\n",
    "            return [[[new_y_1, new_x_1], all_map[new_y_1][new_x_1], 'w'], [[new_y_2, new_x_2], all_map[new_y_2][new_x_2], 'e']]\n",
    "        elif (new_x_1>=0) & (new_x_2<0):\n",
    "            return [[new_y_1, new_x_1], all_map[new_y_1][new_x_1], 'w']\n",
    "        elif (new_x_1<0) & (new_x_2>=0):\n",
    "            return [[new_y_2, new_x_2], all_map[new_y_2][new_x_2], 'e']"
   ]
  },
  {
   "cell_type": "code",
   "execution_count": 254,
   "id": "3a67aaf2",
   "metadata": {},
   "outputs": [],
   "source": [
    "def check_pipe(grid_point, all_map):\n",
    "    if grid_point[-1] == 'n':\n",
    "        new_y, new_x = n_to_s(grid_point[0])\n",
    "        if new_x>=0:\n",
    "            return [[new_y, new_x], all_map[new_y][new_x], 'n']\n",
    "    elif grid_point[-1] == 's':\n",
    "        new_y, new_x = s_to_n(grid_point[0])\n",
    "        if new_x>=0:\n",
    "            return [[new_y, new_x], all_map[new_y][new_x], 's']\n",
    "    else:\n",
    "        new_y_1, new_x_1 = n_to_s(grid_point[0])\n",
    "        new_y_2, new_x_2 = s_to_n(grid_point[0])\n",
    "        if (new_x_1>=0) & (new_x_2>=0):\n",
    "            return [[[new_y_1, new_x_1], all_map[new_y_1][new_x_1], 'n'], [[new_y_2, new_x_2], all_map[new_y_2][new_x_2], 's']]\n",
    "        elif (new_x_1>=0) & (new_x_2<0):\n",
    "            return [[new_y_1, new_x_1], all_map[new_y_1][new_x_1], 'n']\n",
    "        elif (new_x_1<0) & (new_x_2>=0):\n",
    "            return [[new_y_2, new_x_2], all_map[new_y_2][new_x_2], 's']"
   ]
  },
  {
   "cell_type": "code",
   "execution_count": 255,
   "id": "f68c383c",
   "metadata": {},
   "outputs": [],
   "source": [
    "def check_dot(grid_point, all_map):\n",
    "    if grid_point[-1] == 'w':\n",
    "        new_y, new_x = w_to_e(grid_point[0])\n",
    "        if new_x>=0:\n",
    "            return [[new_y, new_x], all_map[new_y][new_x], 'w']\n",
    "    elif grid_point[-1] == 'e':\n",
    "        new_y, new_x = e_to_w(grid_point[0])\n",
    "        if new_x>=0:\n",
    "            return [[new_y, new_x], all_map[new_y][new_x], 'e']        \n",
    "    elif grid_point[-1] == 'n':\n",
    "        new_y, new_x = n_to_s(grid_point[0])\n",
    "        if new_x>=0:\n",
    "            return [[new_y, new_x], all_map[new_y][new_x], 'n']\n",
    "    elif grid_point[-1] == 's':\n",
    "        new_y, new_x = s_to_n(grid_point[0])\n",
    "        if new_x>=0:\n",
    "            return [[new_y, new_x], all_map[new_y][new_x], 's']"
   ]
  },
  {
   "cell_type": "code",
   "execution_count": 256,
   "id": "98717ca0",
   "metadata": {},
   "outputs": [],
   "source": [
    "def check_slash(grid_point, all_map):\n",
    "    if grid_point[-1] == 'w':\n",
    "        new_y, new_x = s_to_n(grid_point[0])\n",
    "        if new_x>=0:\n",
    "            return [[new_y, new_x], all_map[new_y][new_x], 's']\n",
    "    elif grid_point[-1] == 'e':\n",
    "        new_y, new_x = n_to_s(grid_point[0])\n",
    "        if new_x>=0:\n",
    "            return [[new_y, new_x], all_map[new_y][new_x], 'n']        \n",
    "    elif grid_point[-1] == 'n':\n",
    "        new_y, new_x = e_to_w(grid_point[0])\n",
    "        if new_x>=0:\n",
    "            return [[new_y, new_x], all_map[new_y][new_x], 'e']\n",
    "    elif grid_point[-1] == 's':\n",
    "        new_y, new_x = w_to_e(grid_point[0])\n",
    "        if new_x>=0:\n",
    "            return [[new_y, new_x], all_map[new_y][new_x], 'w']"
   ]
  },
  {
   "cell_type": "code",
   "execution_count": 257,
   "id": "9c140e4c",
   "metadata": {},
   "outputs": [],
   "source": [
    "def check_backslash(grid_point, all_map):\n",
    "    if grid_point[-1] == 'e':\n",
    "        new_y, new_x = s_to_n(grid_point[0])\n",
    "        if new_x>=0:\n",
    "            return [[new_y, new_x], all_map[new_y][new_x], 's']\n",
    "    elif grid_point[-1] == 'w':\n",
    "        new_y, new_x = n_to_s(grid_point[0])\n",
    "        if new_x>=0:\n",
    "            return [[new_y, new_x], all_map[new_y][new_x], 'n']        \n",
    "    elif grid_point[-1] == 's':\n",
    "        new_y, new_x = e_to_w(grid_point[0])\n",
    "        if new_x>=0:\n",
    "            return [[new_y, new_x], all_map[new_y][new_x], 'e']\n",
    "    elif grid_point[-1] == 'n':\n",
    "        new_y, new_x = w_to_e(grid_point[0])\n",
    "        if new_x>=0:\n",
    "            return [[new_y, new_x], all_map[new_y][new_x], 'w']"
   ]
  },
  {
   "cell_type": "code",
   "execution_count": 258,
   "id": "bb9363c0",
   "metadata": {},
   "outputs": [],
   "source": [
    "def e_to_w(coord):\n",
    "    if coord[1] > 0:\n",
    "        new_y = coord[0]\n",
    "        new_x = coord[1]-1\n",
    "        return new_y, new_x\n",
    "    else:\n",
    "        return -1, -1"
   ]
  },
  {
   "cell_type": "code",
   "execution_count": 259,
   "id": "98e73a52",
   "metadata": {},
   "outputs": [],
   "source": [
    "def w_to_e(coord):\n",
    "    if coord[1] < (column_count-1):\n",
    "        new_y = coord[0]\n",
    "        new_x = coord[1]+1\n",
    "        return new_y, new_x\n",
    "    else:\n",
    "        return -1, -1"
   ]
  },
  {
   "cell_type": "code",
   "execution_count": 260,
   "id": "e0181cf8",
   "metadata": {},
   "outputs": [],
   "source": [
    "def s_to_n(coord):\n",
    "    if coord[0] > 0:\n",
    "        new_y = coord[0]-1\n",
    "        new_x = coord[1]\n",
    "        return new_y, new_x\n",
    "    else:\n",
    "        return -1, -1"
   ]
  },
  {
   "cell_type": "code",
   "execution_count": 261,
   "id": "13b3a81e",
   "metadata": {},
   "outputs": [],
   "source": [
    "def n_to_s(coord):\n",
    "    if coord[0] < (row_count-1):\n",
    "        new_y = coord[0]+1\n",
    "        new_x = coord[1]\n",
    "        return new_y, new_x\n",
    "    else:\n",
    "        return -1, -1"
   ]
  },
  {
   "cell_type": "code",
   "execution_count": 262,
   "id": "ec86722f",
   "metadata": {},
   "outputs": [],
   "source": [
    "input_data = open('Day_16_data/input.txt', \"r\").read().split('\\n')"
   ]
  },
  {
   "cell_type": "code",
   "execution_count": 263,
   "id": "1b148758",
   "metadata": {},
   "outputs": [],
   "source": [
    "input_data = input_data[:-1]"
   ]
  },
  {
   "cell_type": "code",
   "execution_count": 264,
   "id": "5d2fa839",
   "metadata": {},
   "outputs": [],
   "source": [
    "all_map = list(map(list,input_data))\n",
    "row_count = len(all_map)\n",
    "column_count = len(all_map[0])"
   ]
  },
  {
   "cell_type": "code",
   "execution_count": 265,
   "id": "71f397df",
   "metadata": {},
   "outputs": [
    {
     "name": "stdout",
     "output_type": "stream",
     "text": [
      "110\n"
     ]
    }
   ],
   "source": [
    "print(column_count)"
   ]
  },
  {
   "cell_type": "code",
   "execution_count": 266,
   "id": "3c60e5f7",
   "metadata": {},
   "outputs": [],
   "source": [
    "list_to_check = [[[0,0],'\\\\','w']]\n",
    "list_checked = []"
   ]
  },
  {
   "cell_type": "code",
   "execution_count": 269,
   "id": "08a56b75",
   "metadata": {},
   "outputs": [],
   "source": [
    "while list_to_check:\n",
    "    current_point = list_to_check.pop()\n",
    "    if current_point not in list_checked:\n",
    "        list_checked.append(current_point)\n",
    "        if current_point[1] == '.':\n",
    "            new_point = check_dot(current_point, all_map)\n",
    "            if new_point:\n",
    "                list_to_check.append(new_point)\n",
    "        elif current_point[1] == '-':\n",
    "            new_point = check_dash(current_point, all_map)\n",
    "            if new_point:\n",
    "                if len(new_point)==2:\n",
    "                    list_to_check.extend(new_point)\n",
    "                else:\n",
    "                    list_to_check.append(new_point)\n",
    "        elif current_point[1] == '|':\n",
    "            new_point = check_pipe(current_point, all_map)\n",
    "            if new_point:\n",
    "                if len(new_point)==2:\n",
    "                    list_to_check.extend(new_point)\n",
    "                else:\n",
    "                    list_to_check.append(new_point)\n",
    "        elif current_point[1] == '/':\n",
    "            new_point = check_slash(current_point, all_map)\n",
    "            if new_point:\n",
    "                list_to_check.append(new_point)\n",
    "        elif current_point[1] == '\\\\':\n",
    "            new_point = check_backslash(current_point, all_map)\n",
    "            if new_point:\n",
    "                list_to_check.append(new_point)\n",
    "        "
   ]
  },
  {
   "cell_type": "code",
   "execution_count": 271,
   "id": "ef54059f",
   "metadata": {},
   "outputs": [],
   "source": [
    "list_without_dup = []\n",
    "for i in list_checked:\n",
    "    if i[0] not in list_without_dup:\n",
    "        list_without_dup.append(i[0])"
   ]
  },
  {
   "cell_type": "code",
   "execution_count": 272,
   "id": "6a3f43f9",
   "metadata": {},
   "outputs": [
    {
     "data": {
      "text/plain": [
       "6906"
      ]
     },
     "execution_count": 272,
     "metadata": {},
     "output_type": "execute_result"
    }
   ],
   "source": [
    "len(list_without_dup)"
   ]
  },
  {
   "cell_type": "markdown",
   "id": "862a0b33",
   "metadata": {},
   "source": [
    "## Task 2"
   ]
  },
  {
   "cell_type": "code",
   "execution_count": 274,
   "id": "3c549f33",
   "metadata": {},
   "outputs": [],
   "source": [
    "start_point = [[0,0],'\\\\','w']\n",
    "list_to_check = []\n",
    "def count_tiles(start_point, all_map):\n",
    "    list_to_check.append(start_point)\n",
    "    list_checked = []\n",
    "    while list_to_check:\n",
    "        current_point = list_to_check.pop()\n",
    "        if current_point not in list_checked:\n",
    "            list_checked.append(current_point)\n",
    "            if current_point[1] == '.':\n",
    "                new_point = check_dot(current_point, all_map)\n",
    "                if new_point:\n",
    "                    list_to_check.append(new_point)\n",
    "            elif current_point[1] == '-':\n",
    "                new_point = check_dash(current_point, all_map)\n",
    "                if new_point:\n",
    "                    if len(new_point)==2:\n",
    "                        list_to_check.extend(new_point)\n",
    "                    else:\n",
    "                        list_to_check.append(new_point)\n",
    "            elif current_point[1] == '|':\n",
    "                new_point = check_pipe(current_point, all_map)\n",
    "                if new_point:\n",
    "                    if len(new_point)==2:\n",
    "                        list_to_check.extend(new_point)\n",
    "                    else:\n",
    "                        list_to_check.append(new_point)\n",
    "            elif current_point[1] == '/':\n",
    "                new_point = check_slash(current_point, all_map)\n",
    "                if new_point:\n",
    "                    list_to_check.append(new_point)\n",
    "            elif current_point[1] == '\\\\':\n",
    "                new_point = check_backslash(current_point, all_map)\n",
    "                if new_point:\n",
    "                    list_to_check.append(new_point)\n",
    "    list_without_dup = []\n",
    "    for i in list_checked:\n",
    "        if i[0] not in list_without_dup:\n",
    "            list_without_dup.append(i[0])\n",
    "    return len(list_without_dup)"
   ]
  },
  {
   "cell_type": "code",
   "execution_count": 275,
   "id": "42314485",
   "metadata": {},
   "outputs": [
    {
     "data": {
      "text/plain": [
       "6906"
      ]
     },
     "execution_count": 275,
     "metadata": {},
     "output_type": "execute_result"
    }
   ],
   "source": [
    "count_tiles(start_point,all_map)"
   ]
  },
  {
   "cell_type": "code",
   "execution_count": 276,
   "id": "5f4fed13",
   "metadata": {},
   "outputs": [],
   "source": [
    "points_to_check = []\n",
    "for i in range(0, column_count):\n",
    "    points_to_check.append([[0,i], all_map[0][i], 'n'])\n",
    "    points_to_check.append([[row_count-1,i], all_map[row_count-1][i], 's'])\n",
    "for j in range(0, row_count):\n",
    "    points_to_check.append([[j,0], all_map[j][0], 'w'])\n",
    "    points_to_check.append([[j,column_count-1], all_map[j][column_count-1], 'e'])"
   ]
  },
  {
   "cell_type": "code",
   "execution_count": 277,
   "id": "2b853a5a",
   "metadata": {},
   "outputs": [
    {
     "data": {
      "text/plain": [
       "[[0, 0], '\\\\', 'n']"
      ]
     },
     "execution_count": 277,
     "metadata": {},
     "output_type": "execute_result"
    }
   ],
   "source": [
    "points_to_check[0]"
   ]
  },
  {
   "cell_type": "code",
   "execution_count": 278,
   "id": "4e8fe4be",
   "metadata": {},
   "outputs": [
    {
     "data": {
      "text/plain": [
       "440"
      ]
     },
     "execution_count": 278,
     "metadata": {},
     "output_type": "execute_result"
    }
   ],
   "source": [
    "len(points_to_check)"
   ]
  },
  {
   "cell_type": "code",
   "execution_count": null,
   "id": "be9f8707",
   "metadata": {},
   "outputs": [
    {
     "name": "stdout",
     "output_type": "stream",
     "text": [
      "[[0, 0], '\\\\', 'n']\n",
      "6875 [[0, 0], '\\\\', 'n']\n",
      "[[109, 0], '.', 's']\n",
      "23 [[109, 0], '.', 's']\n",
      "[[0, 1], '.', 'n']\n",
      "21 [[0, 1], '.', 'n']\n",
      "[[109, 1], '.', 's']\n",
      "41 [[109, 1], '.', 's']\n",
      "[[0, 2], '.', 'n']\n",
      "63 [[0, 2], '.', 'n']\n",
      "[[109, 2], '.', 's']\n",
      "6921 [[109, 2], '.', 's']\n",
      "[[0, 3], '.', 'n']\n",
      "6836 [[0, 3], '.', 'n']\n",
      "[[109, 3], '.', 's']\n",
      "49 [[109, 3], '.', 's']\n",
      "[[0, 4], '\\\\', 'n']\n",
      "6840 [[0, 4], '\\\\', 'n']\n",
      "[[109, 4], '.', 's']\n",
      "21 [[109, 4], '.', 's']\n",
      "[[0, 5], '.', 'n']\n",
      "6854 [[0, 5], '.', 'n']\n",
      "[[109, 5], '.', 's']\n",
      "77 [[109, 5], '.', 's']\n",
      "[[0, 6], '.', 'n']\n",
      "51 [[0, 6], '.', 'n']\n",
      "[[109, 6], '.', 's']\n",
      "6847 [[109, 6], '.', 's']\n",
      "[[0, 7], '.', 'n']\n",
      "41 [[0, 7], '.', 'n']\n",
      "[[109, 7], '.', 's']\n",
      "6868 [[109, 7], '.', 's']\n",
      "[[0, 8], '.', 'n']\n",
      "47 [[0, 8], '.', 'n']\n",
      "[[109, 8], '.', 's']\n",
      "6814 [[109, 8], '.', 's']\n",
      "[[0, 9], '.', 'n']\n",
      "83 [[0, 9], '.', 'n']\n",
      "[[109, 9], '.', 's']\n",
      "27 [[109, 9], '.', 's']\n",
      "[[0, 10], '.', 'n']\n",
      "78 [[0, 10], '.', 'n']\n",
      "[[109, 10], '.', 's']\n",
      "7163 [[109, 10], '.', 's']\n",
      "[[0, 11], '.', 'n']\n",
      "43 [[0, 11], '.', 'n']\n",
      "[[109, 11], '.', 's']\n",
      "6814 [[109, 11], '.', 's']\n",
      "[[0, 12], '.', 'n']\n",
      "6814 [[0, 12], '.', 'n']\n",
      "[[109, 12], '.', 's']\n",
      "50 [[109, 12], '.', 's']\n",
      "[[0, 13], '.', 'n']\n",
      "26 [[0, 13], '.', 'n']\n",
      "[[109, 13], '.', 's']\n",
      "58 [[109, 13], '.', 's']\n",
      "[[0, 14], '.', 'n']\n",
      "32 [[0, 14], '.', 'n']\n",
      "[[109, 14], '.', 's']\n",
      "94 [[109, 14], '.', 's']\n",
      "[[0, 15], '|', 'n']\n",
      "6830 [[0, 15], '|', 'n']\n",
      "[[109, 15], '.', 's']\n",
      "64 [[109, 15], '.', 's']\n",
      "[[0, 16], '.', 'n']\n",
      "43 [[0, 16], '.', 'n']\n",
      "[[109, 16], '.', 's']\n",
      "22 [[109, 16], '.', 's']\n",
      "[[0, 17], '.', 'n']\n",
      "6814 [[0, 17], '.', 'n']\n",
      "[[109, 17], '.', 's']\n",
      "68 [[109, 17], '.', 's']\n",
      "[[0, 18], '\\\\', 'n']\n",
      "12 [[0, 18], '\\\\', 'n']\n",
      "[[109, 18], '.', 's']\n",
      "7 [[109, 18], '.', 's']\n",
      "[[0, 19], '.', 'n']\n",
      "6875 [[0, 19], '.', 'n']\n",
      "[[109, 19], '.', 's']\n",
      "6814 [[109, 19], '.', 's']\n",
      "[[0, 20], '.', 'n']\n",
      "31 [[0, 20], '.', 'n']\n",
      "[[109, 20], '.', 's']\n",
      "82 [[109, 20], '.', 's']\n",
      "[[0, 21], '.', 'n']\n",
      "58 [[0, 21], '.', 'n']\n",
      "[[109, 21], '.', 's']\n",
      "8 [[109, 21], '.', 's']\n",
      "[[0, 22], '.', 'n']\n",
      "6820 [[0, 22], '.', 'n']\n",
      "[[109, 22], '.', 's']\n",
      "7 [[109, 22], '.', 's']\n",
      "[[0, 23], '.', 'n']\n",
      "95 [[0, 23], '.', 'n']\n",
      "[[109, 23], '.', 's']\n",
      "43 [[109, 23], '.', 's']\n",
      "[[0, 24], '.', 'n']\n",
      "6818 [[0, 24], '.', 'n']\n",
      "[[109, 24], '.', 's']\n",
      "8 [[109, 24], '.', 's']\n",
      "[[0, 25], '.', 'n']\n",
      "54 [[0, 25], '.', 'n']\n",
      "[[109, 25], '.', 's']\n",
      "42 [[109, 25], '.', 's']\n",
      "[[0, 26], '.', 'n']\n",
      "43 [[0, 26], '.', 'n']\n",
      "[[109, 26], '.', 's']\n",
      "40 [[109, 26], '.', 's']\n",
      "[[0, 27], '.', 'n']\n",
      "43 [[0, 27], '.', 'n']\n",
      "[[109, 27], '|', 's']\n",
      "7041 [[109, 27], '|', 's']\n",
      "[[0, 28], '.', 'n']\n",
      "6960 [[0, 28], '.', 'n']\n",
      "[[109, 28], '.', 's']\n",
      "6832 [[109, 28], '.', 's']\n",
      "[[0, 29], '/', 'n']\n",
      "12 [[0, 29], '/', 'n']\n",
      "[[109, 29], '.', 's']\n",
      "6814 [[109, 29], '.', 's']\n",
      "[[0, 30], '.', 'n']\n",
      "7172 [[0, 30], '.', 'n']\n",
      "[[109, 30], '.', 's']\n",
      "6830 [[109, 30], '.', 's']\n",
      "[[0, 31], '.', 'n']\n",
      "6908 [[0, 31], '.', 'n']\n",
      "[[109, 31], '.', 's']\n",
      "6864 [[109, 31], '.', 's']\n",
      "[[0, 32], '.', 'n']\n",
      "6864 [[0, 32], '.', 'n']\n",
      "[[109, 32], '.', 's']\n",
      "49 [[109, 32], '.', 's']\n",
      "[[0, 33], '.', 'n']\n",
      "52 [[0, 33], '.', 'n']\n",
      "[[109, 33], '-', 's']\n",
      "7041 [[109, 33], '-', 's']\n",
      "[[0, 34], '.', 'n']\n",
      "65 [[0, 34], '.', 'n']\n",
      "[[109, 34], '-', 's']\n",
      "7041 [[109, 34], '-', 's']\n",
      "[[0, 35], '.', 'n']\n",
      "55 [[0, 35], '.', 'n']\n",
      "[[109, 35], '.', 's']\n",
      "6857 [[109, 35], '.', 's']\n",
      "[[0, 36], '.', 'n']\n",
      "6817 [[0, 36], '.', 'n']\n",
      "[[109, 36], '.', 's']\n",
      "6844 [[109, 36], '.', 's']\n",
      "[[0, 37], '.', 'n']\n",
      "6814 [[0, 37], '.', 'n']\n",
      "[[109, 37], '.', 's']\n",
      "33 [[109, 37], '.', 's']\n",
      "[[0, 38], '.', 'n']\n",
      "84 [[0, 38], '.', 'n']\n",
      "[[109, 38], '.', 's']\n",
      "6855 [[109, 38], '.', 's']\n",
      "[[0, 39], '.', 'n']\n",
      "52 [[0, 39], '.', 'n']\n",
      "[[109, 39], '.', 's']\n",
      "6936 [[109, 39], '.', 's']\n",
      "[[0, 40], '.', 'n']\n",
      "42 [[0, 40], '.', 'n']\n",
      "[[109, 40], '.', 's']\n",
      "6846 [[109, 40], '.', 's']\n",
      "[[0, 41], '.', 'n']\n",
      "6814 [[0, 41], '.', 'n']\n",
      "[[109, 41], '.', 's']\n",
      "7141 [[109, 41], '.', 's']\n",
      "[[0, 42], '.', 'n']\n",
      "6814 [[0, 42], '.', 'n']\n",
      "[[109, 42], '.', 's']\n",
      "6814 [[109, 42], '.', 's']\n",
      "[[0, 43], '.', 'n']\n",
      "6814 [[0, 43], '.', 'n']\n",
      "[[109, 43], '.', 's']\n",
      "149 [[109, 43], '.', 's']\n",
      "[[0, 44], '.', 'n']\n",
      "47 [[0, 44], '.', 'n']\n",
      "[[109, 44], '.', 's']\n",
      "6841 [[109, 44], '.', 's']\n",
      "[[0, 45], '.', 'n']\n",
      "6852 [[0, 45], '.', 'n']\n",
      "[[109, 45], '.', 's']\n",
      "6814 [[109, 45], '.', 's']\n",
      "[[0, 46], '.', 'n']\n",
      "6815 [[0, 46], '.', 'n']\n",
      "[[109, 46], '.', 's']\n",
      "49 [[109, 46], '.', 's']\n",
      "[[0, 47], '.', 'n']\n",
      "6818 [[0, 47], '.', 'n']\n",
      "[[109, 47], '.', 's']\n",
      "7141 [[109, 47], '.', 's']\n",
      "[[0, 48], '.', 'n']\n",
      "6814 [[0, 48], '.', 'n']\n",
      "[[109, 48], '.', 's']\n",
      "7135 [[109, 48], '.', 's']\n",
      "[[0, 49], '.', 'n']\n",
      "6814 [[0, 49], '.', 'n']\n",
      "[[109, 49], '.', 's']\n",
      "33 [[109, 49], '.', 's']\n",
      "[[0, 50], '.', 'n']\n",
      "6814 [[0, 50], '.', 'n']\n",
      "[[109, 50], '.', 's']\n",
      "6889 [[109, 50], '.', 's']\n",
      "[[0, 51], '.', 'n']\n",
      "6814 [[0, 51], '.', 'n']\n",
      "[[109, 51], '.', 's']\n",
      "6840 [[109, 51], '.', 's']\n",
      "[[0, 52], '.', 'n']\n",
      "6814 [[0, 52], '.', 'n']\n",
      "[[109, 52], '.', 's']\n",
      "7148 [[109, 52], '.', 's']\n",
      "[[0, 53], '.', 'n']\n",
      "6824 [[0, 53], '.', 'n']\n",
      "[[109, 53], '.', 's']\n",
      "6900 [[109, 53], '.', 's']\n",
      "[[0, 54], '.', 'n']\n",
      "6814 [[0, 54], '.', 'n']\n",
      "[[109, 54], '.', 's']\n",
      "6856 [[109, 54], '.', 's']\n",
      "[[0, 55], '.', 'n']\n",
      "6814 [[0, 55], '.', 'n']\n",
      "[[109, 55], '.', 's']\n",
      "7194 [[109, 55], '.', 's']\n",
      "[[0, 56], '.', 'n']\n",
      "6832 [[0, 56], '.', 'n']\n",
      "[[109, 56], '.', 's']\n",
      "6850 [[109, 56], '.', 's']\n",
      "[[0, 57], '.', 'n']\n",
      "6818 [[0, 57], '.', 'n']\n",
      "[[109, 57], '.', 's']\n",
      "6826 [[109, 57], '.', 's']\n",
      "[[0, 58], '.', 'n']\n",
      "6826 [[0, 58], '.', 'n']\n",
      "[[109, 58], '.', 's']\n",
      "6814 [[109, 58], '.', 's']\n",
      "[[0, 59], '.', 'n']\n",
      "6814 [[0, 59], '.', 'n']\n",
      "[[109, 59], '.', 's']\n",
      "6856 [[109, 59], '.', 's']\n",
      "[[0, 60], '.', 'n']\n",
      "6978 [[0, 60], '.', 'n']\n",
      "[[109, 60], '.', 's']\n",
      "6833 [[109, 60], '.', 's']\n",
      "[[0, 61], '\\\\', 'n']\n",
      "6817 [[0, 61], '\\\\', 'n']\n",
      "[[109, 61], '.', 's']\n",
      "7093 [[109, 61], '.', 's']\n",
      "[[0, 62], '.', 'n']\n",
      "6818 [[0, 62], '.', 'n']\n",
      "[[109, 62], '.', 's']\n",
      "6996 [[109, 62], '.', 's']\n",
      "[[0, 63], '\\\\', 'n']\n",
      "47 [[0, 63], '\\\\', 'n']\n",
      "[[109, 63], '.', 's']\n",
      "7069 [[109, 63], '.', 's']\n",
      "[[0, 64], '.', 'n']\n",
      "7059 [[0, 64], '.', 'n']\n",
      "[[109, 64], '.', 's']\n",
      "6817 [[109, 64], '.', 's']\n",
      "[[0, 65], '.', 'n']\n",
      "6836 [[0, 65], '.', 'n']\n",
      "[[109, 65], '.', 's']\n",
      "162 [[109, 65], '.', 's']\n",
      "[[0, 66], '.', 'n']\n",
      "68 [[0, 66], '.', 'n']\n",
      "[[109, 66], '.', 's']\n",
      "6850 [[109, 66], '.', 's']\n",
      "[[0, 67], '.', 'n']\n",
      "6814 [[0, 67], '.', 'n']\n",
      "[[109, 67], '.', 's']\n",
      "6837 [[109, 67], '.', 's']\n",
      "[[0, 68], '.', 'n']\n",
      "6814 [[0, 68], '.', 'n']\n",
      "[[109, 68], '.', 's']\n",
      "6838 [[109, 68], '.', 's']\n",
      "[[0, 69], '.', 'n']\n",
      "6818 [[0, 69], '.', 'n']\n",
      "[[109, 69], '-', 's']\n",
      "7041 [[109, 69], '-', 's']\n",
      "[[0, 70], '.', 'n']\n",
      "49 [[0, 70], '.', 'n']\n",
      "[[109, 70], '.', 's']\n",
      "6882 [[109, 70], '.', 's']\n",
      "[[0, 71], '.', 'n']\n",
      "6814 [[0, 71], '.', 'n']\n",
      "[[109, 71], '.', 's']\n",
      "6963 [[109, 71], '.', 's']\n",
      "[[0, 72], '.', 'n']\n",
      "6832 [[0, 72], '.', 'n']\n",
      "[[109, 72], '.', 's']\n",
      "165 [[109, 72], '.', 's']\n",
      "[[0, 73], '.', 'n']\n",
      "6831 [[0, 73], '.', 'n']\n",
      "[[109, 73], '.', 's']\n",
      "6829 [[109, 73], '.', 's']\n",
      "[[0, 74], '.', 'n']\n",
      "6998 [[0, 74], '.', 'n']\n",
      "[[109, 74], '\\\\', 's']\n",
      "7041 [[109, 74], '\\\\', 's']\n",
      "[[0, 75], '.', 'n']\n",
      "49 [[0, 75], '.', 'n']\n",
      "[[109, 75], '.', 's']\n",
      "6839 [[109, 75], '.', 's']\n",
      "[[0, 76], '.', 'n']\n",
      "94 [[0, 76], '.', 'n']\n",
      "[[109, 76], '.', 's']\n",
      "17 [[109, 76], '.', 's']\n",
      "[[0, 77], '.', 'n']\n",
      "86 [[0, 77], '.', 'n']\n",
      "[[109, 77], '.', 's']\n",
      "6851 [[109, 77], '.', 's']\n",
      "[[0, 78], '.', 'n']\n",
      "7030 [[0, 78], '.', 'n']\n",
      "[[109, 78], '|', 's']\n",
      "6871 [[109, 78], '|', 's']\n",
      "[[0, 79], '.', 'n']\n",
      "6941 [[0, 79], '.', 'n']\n",
      "[[109, 79], '|', 's']\n",
      "6947 [[109, 79], '|', 's']\n",
      "[[0, 80], '.', 'n']\n",
      "6914 [[0, 80], '.', 'n']\n",
      "[[109, 80], '-', 's']\n",
      "6969 [[109, 80], '-', 's']\n",
      "[[0, 81], '.', 'n']\n",
      "6819 [[0, 81], '.', 'n']\n",
      "[[109, 81], '.', 's']\n",
      "6829 [[109, 81], '.', 's']\n",
      "[[0, 82], '.', 'n']\n",
      "6885 [[0, 82], '.', 'n']\n",
      "[[109, 82], '.', 's']\n",
      "142 [[109, 82], '.', 's']\n",
      "[[0, 83], '.', 'n']\n",
      "6819 [[0, 83], '.', 'n']\n",
      "[[109, 83], '.', 's']\n",
      "6937 [[109, 83], '.', 's']\n",
      "[[0, 84], '.', 'n']\n",
      "6831 [[0, 84], '.', 'n']\n",
      "[[109, 84], '.', 's']\n",
      "7069 [[109, 84], '.', 's']\n",
      "[[0, 85], '.', 'n']\n",
      "6957 [[0, 85], '.', 'n']\n",
      "[[109, 85], '.', 's']\n",
      "6969 [[109, 85], '.', 's']\n",
      "[[0, 86], '.', 'n']\n",
      "32 [[0, 86], '.', 'n']\n",
      "[[109, 86], '.', 's']\n",
      "6824 [[109, 86], '.', 's']\n",
      "[[0, 87], '.', 'n']\n",
      "6819 [[0, 87], '.', 'n']\n",
      "[[109, 87], '.', 's']\n",
      "6831 [[109, 87], '.', 's']\n",
      "[[0, 88], '.', 'n']\n",
      "5 [[0, 88], '.', 'n']\n",
      "[[109, 88], '.', 's']\n",
      "17 [[109, 88], '.', 's']\n",
      "[[0, 89], '.', 'n']\n"
     ]
    },
    {
     "name": "stdout",
     "output_type": "stream",
     "text": [
      "6872 [[0, 89], '.', 'n']\n",
      "[[109, 89], '.', 's']\n",
      "6999 [[109, 89], '.', 's']\n",
      "[[0, 90], '.', 'n']\n",
      "5 [[0, 90], '.', 'n']\n",
      "[[109, 90], '/', 's']\n",
      "2 [[109, 90], '/', 's']\n",
      "[[0, 91], '.', 'n']\n",
      "6814 [[0, 91], '.', 'n']\n",
      "[[109, 91], '\\\\', 's']\n",
      "2 [[109, 91], '\\\\', 's']\n",
      "[[0, 92], '.', 'n']\n",
      "6816 [[0, 92], '.', 'n']\n",
      "[[109, 92], '.', 's']\n",
      "6814 [[109, 92], '.', 's']\n",
      "[[0, 93], '.', 'n']\n",
      "6814 [[0, 93], '.', 'n']\n",
      "[[109, 93], '.', 's']\n",
      "59 [[109, 93], '.', 's']\n",
      "[[0, 94], '.', 'n']\n",
      "17 [[0, 94], '.', 'n']\n",
      "[[109, 94], '.', 's']\n",
      "6823 [[109, 94], '.', 's']\n",
      "[[0, 95], '.', 'n']\n",
      "40 [[0, 95], '.', 'n']\n",
      "[[109, 95], '.', 's']\n",
      "92 [[109, 95], '.', 's']\n",
      "[[0, 96], '.', 'n']\n",
      "7040 [[0, 96], '.', 'n']\n",
      "[[109, 96], '.', 's']\n",
      "128 [[109, 96], '.', 's']\n",
      "[[0, 97], '.', 'n']\n",
      "16 [[0, 97], '.', 'n']\n",
      "[[109, 97], '.', 's']\n",
      "112 [[109, 97], '.', 's']\n",
      "[[0, 98], '.', 'n']\n",
      "6976 [[0, 98], '.', 'n']\n",
      "[[109, 98], '-', 's']\n",
      "110 [[109, 98], '-', 's']\n",
      "[[0, 99], '.', 'n']\n",
      "61 [[0, 99], '.', 'n']\n",
      "[[109, 99], '.', 's']\n",
      "32 [[109, 99], '.', 's']\n",
      "[[0, 100], '.', 'n']\n"
     ]
    }
   ],
   "source": [
    "max_l = 0\n",
    "max_point = []\n",
    "for point in points_to_check:\n",
    "    print(point)\n",
    "    new_l = count_tiles(point,all_map)\n",
    "    print(new_l, point)\n",
    "    if new_l>max_l:\n",
    "        max_l=new_l\n",
    "        max_point=point"
   ]
  },
  {
   "cell_type": "code",
   "execution_count": null,
   "id": "100b6388",
   "metadata": {},
   "outputs": [],
   "source": [
    "max_l"
   ]
  },
  {
   "cell_type": "markdown",
   "id": "a3c29910",
   "metadata": {},
   "source": [
    "# Day 17"
   ]
  },
  {
   "cell_type": "markdown",
   "id": "a90c9cd9",
   "metadata": {},
   "source": [
    "## Task 1"
   ]
  },
  {
   "cell_type": "code",
   "execution_count": 8,
   "id": "ed16f2b9",
   "metadata": {},
   "outputs": [],
   "source": [
    "from collections import defaultdict\n",
    "from heapq import heappop, heappush"
   ]
  },
  {
   "cell_type": "code",
   "execution_count": 2,
   "id": "77208860",
   "metadata": {},
   "outputs": [],
   "source": [
    "input_data = open('Day_17_data/input.txt', \"r\").read().split('\\n')"
   ]
  },
  {
   "cell_type": "code",
   "execution_count": 3,
   "id": "77bd1d1c",
   "metadata": {},
   "outputs": [],
   "source": [
    "input_matrix = [list(i) for i in input_data]\n",
    "input_matrix = [list(map(int, i)) for i in input_matrix]"
   ]
  },
  {
   "cell_type": "code",
   "execution_count": 4,
   "id": "8dd70157",
   "metadata": {},
   "outputs": [],
   "source": [
    "start_point = [0, 0]\n",
    "m, n = len(input_matrix), len(input_matrix[0])\n",
    "end_point = [m-1, n-1]"
   ]
  },
  {
   "cell_type": "code",
   "execution_count": 11,
   "id": "3cf9564c",
   "metadata": {},
   "outputs": [],
   "source": [
    "delta = [[-1, 0],  # go up\n",
    "         [0, -1],  # go left\n",
    "         [1, 0],  # go down\n",
    "         [0, 1]\n",
    "        ]  # go right\n",
    "delta_name = ['^', '<', 'v', '>']\n",
    "\n",
    "\n",
    "# heat_loss, x, y, length, x_direction, y_direction\n",
    "q = [(0,0,0,0,0,0,'')]\n",
    "visited = set()\n",
    "\n",
    "while q:\n",
    "    heat_loss, x, y, length, x_step, y_step, path = heappop(q)\n",
    "    \n",
    "    ## check conitions:\n",
    "    if x == m-1 and y == n-1:\n",
    "        break\n",
    "    if (x, y, length, x_step, y_step) in visited:\n",
    "        continue     \n",
    "        \n",
    "    visited.add((x, y, length, x_step, y_step))\n",
    "    for i, directions in enumerate(delta):\n",
    "        x_delta, y_delta = directions[0], directions[1]\n",
    "        #check direction:\n",
    "        straight = ((x_step == x_delta) and (y_step == y_delta))\n",
    "        new_x, new_y = x+x_delta, y+y_delta\n",
    "        if any((x_step == -x_delta and y_step == -y_delta,\n",
    "            length==3 and straight,\n",
    "            new_y<0, new_x<0,\n",
    "            new_y == m, new_x == n)):\n",
    "            continue\n",
    "            \n",
    "        new_length = length+1 if straight else 1\n",
    "        heappush(q, (heat_loss + input_matrix[new_y][new_x], new_x, new_y, new_length, x_delta, y_delta, path+delta_name[i]))    "
   ]
  },
  {
   "cell_type": "code",
   "execution_count": 12,
   "id": "99e3a7dd",
   "metadata": {},
   "outputs": [
    {
     "data": {
      "text/plain": [
       "970"
      ]
     },
     "execution_count": 12,
     "metadata": {},
     "output_type": "execute_result"
    }
   ],
   "source": [
    "heat_loss"
   ]
  },
  {
   "cell_type": "code",
   "execution_count": 13,
   "id": "43eb514c",
   "metadata": {},
   "outputs": [
    {
     "data": {
      "text/plain": [
       "'>>v>>^>v>>>vv>>>v>>>v>>>^>>>v>>>^>>>^>>>v>>>v>>^>>>^>>^>>>v>>>^>>v>>^>>>v>>>^>>>v>>>^>>>v>>>^>>>^>>>v>>>^>>>v>>v>>>v>>vv>>>v>v>>v>>v>>>^>>vv>>>v>>>v>>>v>>>vv>vv>vv>vv>>v>>>v>v>vvv>>v>>v>vv>vvv>>>vvv>>vv>vv>v>>vvv>vvv<vvv>vv<vvv>vv>vvv>vv<vvv<<vv>vvv>v<vv>vvv<vvv<vvv>vv>vvv<v<vvv<vv>vvv<vvv>vvv>vvv>vvv<vvv>vvv>vv<vv<vvv<vv>vvv<vv>vvv>vvv>v>vvv'"
      ]
     },
     "execution_count": 13,
     "metadata": {},
     "output_type": "execute_result"
    }
   ],
   "source": [
    "path"
   ]
  },
  {
   "cell_type": "markdown",
   "id": "96bae632",
   "metadata": {},
   "source": [
    "## Task 2"
   ]
  },
  {
   "cell_type": "code",
   "execution_count": 14,
   "id": "8a9aa2da",
   "metadata": {},
   "outputs": [],
   "source": [
    "from collections import defaultdict\n",
    "from heapq import *"
   ]
  },
  {
   "cell_type": "code",
   "execution_count": 15,
   "id": "cea0660e",
   "metadata": {},
   "outputs": [],
   "source": [
    "delta = [[-1, 0],  # go up\n",
    "         [0, -1],  # go left\n",
    "         [1, 0],  # go down\n",
    "         [0, 1]\n",
    "        ]  # go right\n",
    "delta_name = ['^', '<', 'v', '>']\n",
    "\n",
    "input_data = open('Day_17_data/input.txt', \"r\").read().split('\\n')\n",
    "input_matrix = [list(i) for i in input_data]\n",
    "input_matrix = [list(map(int, i)) for i in input_matrix]"
   ]
  },
  {
   "cell_type": "code",
   "execution_count": 16,
   "id": "7c3b4c1b",
   "metadata": {},
   "outputs": [],
   "source": [
    "start_point = [0, 0]\n",
    "m, n = len(input_matrix), len(input_matrix[0])\n",
    "end_point = [m-1, n-1]"
   ]
  },
  {
   "cell_type": "code",
   "execution_count": 17,
   "id": "811f6c7c",
   "metadata": {},
   "outputs": [],
   "source": [
    "delta = [[-1, 0],  # go up\n",
    "         [0, -1],  # go left\n",
    "         [1, 0],  # go down\n",
    "         [0, 1]\n",
    "        ]  # go right\n",
    "delta_name = ['^', '<', 'v', '>']\n",
    "\n",
    "\n",
    "# heat_loss, x, y, length, x_direction, y_direction\n",
    "q = [(0,0,0,0,1,0,''), (0,0,0,0,0,1,'')]\n",
    "visited = set()\n",
    "\n",
    "while q:\n",
    "    heat_loss, x, y, length, x_step, y_step, path = heappop(q)\n",
    "    \n",
    "    ## check conitions:\n",
    "    if x == m-1 and y == n-1:\n",
    "        if length<4:\n",
    "            continue\n",
    "        break\n",
    "    if (x, y, length, x_step, y_step) in visited:\n",
    "        continue     \n",
    "        \n",
    "    visited.add((x, y, length, x_step, y_step))\n",
    "    for i, directions in enumerate(delta):\n",
    "        x_delta, y_delta = directions[0], directions[1]\n",
    "        #check direction:\n",
    "        straight = ((x_step == x_delta) and (y_step == y_delta))\n",
    "        new_x, new_y = x+x_delta, y+y_delta\n",
    "        if any((x_step == -x_delta and y_step == -y_delta,\n",
    "                length==10 and straight,\n",
    "                length<4 and not straight,\n",
    "                new_y<0, new_x<0,\n",
    "                new_y == m, new_x == n)):\n",
    "            continue\n",
    "    \n",
    "        new_length = length+1 if straight else 1\n",
    "        heappush(q, (heat_loss + input_matrix[new_y][new_x], new_x, new_y, new_length, x_delta, y_delta, path+delta_name[i]))    "
   ]
  },
  {
   "cell_type": "code",
   "execution_count": 18,
   "id": "31f3aa0b",
   "metadata": {},
   "outputs": [
    {
     "data": {
      "text/plain": [
       "1149"
      ]
     },
     "execution_count": 18,
     "metadata": {},
     "output_type": "execute_result"
    }
   ],
   "source": [
    "heat_loss"
   ]
  },
  {
   "cell_type": "code",
   "execution_count": 19,
   "id": "8623bbbd",
   "metadata": {},
   "outputs": [
    {
     "data": {
      "text/plain": [
       "'>>>>vvvvvvvvv>>>>vvvvvvvvvv<<<<vvvv<<<<vvvvvvvvvv>>>>vvvvvvvvv<<<<vvvvvvvvvv>>>>vvvvvvv<<<<vvvvvv>>>>vvvvvvvvv<<<<vvvvvvvvv>>>>vvvvvvvvvv>>>>>vvvvvvvvvv>>>>vvvvvvvvvv>>>>>>>>vvvvvvvvvv>>>>>>>>vvvvv>>>>>>>>>>vvvv>>>>>>>vvvv>>>>>>>>>>vvvv>>>>>>>>>>^^^^>>>>>>>>>>vvvv>>>>>>>>^^^^^>>>>>>>>>>vvvv>>>>>>>>>>^^^^>>>>>>>>>>vvvv>>>>>>>>>^^^^>>>>>>>>vvvvv>>>>>>>>>'"
      ]
     },
     "execution_count": 19,
     "metadata": {},
     "output_type": "execute_result"
    }
   ],
   "source": [
    "path"
   ]
  },
  {
   "cell_type": "markdown",
   "id": "45c9766a",
   "metadata": {},
   "source": [
    "# Day 18"
   ]
  },
  {
   "cell_type": "markdown",
   "id": "0c73720d",
   "metadata": {},
   "source": [
    "## Task 1"
   ]
  },
  {
   "cell_type": "code",
   "execution_count": 22,
   "id": "c51bab39",
   "metadata": {},
   "outputs": [],
   "source": [
    "route = []\n",
    "route_with_labels = []\n",
    "point = [0,0]\n",
    "perimeter = 0\n",
    "with open('Day_18_data/test_1.txt') as fp:\n",
    "    for line in fp:\n",
    "        split_line = line.split(' ')\n",
    "        perimeter+=int(split_line[1])\n",
    "        if split_line[0] == 'R':\n",
    "            point = [point[0], point[1]+int(split_line[1])]\n",
    "            route.append(point)\n",
    "        if split_line[0] == 'L':\n",
    "            point = [point[0], point[1]-int(split_line[1])]\n",
    "            route.append(point)\n",
    "        if split_line[0] == 'D':\n",
    "            point = [point[0]+int(split_line[1]), point[1]]\n",
    "            route.append(point)\n",
    "        if split_line[0] == 'U':\n",
    "            point = [point[0]-int(split_line[1]), point[1]]\n",
    "            route.append(point)\n",
    "            "
   ]
  },
  {
   "cell_type": "code",
   "execution_count": 23,
   "id": "1163d6bb",
   "metadata": {},
   "outputs": [],
   "source": [
    "route.sort(key=lambda x:x[0])"
   ]
  },
  {
   "cell_type": "code",
   "execution_count": 24,
   "id": "beb22d6f",
   "metadata": {},
   "outputs": [],
   "source": [
    "x, y = zip(*route)\n",
    "def shoelace_formula(x,y):\n",
    "    return 0.5*np.abs(np.dot(x,np.roll(y,1))-np.dot(y,np.roll(x,1)))"
   ]
  },
  {
   "cell_type": "code",
   "execution_count": 25,
   "id": "a5c3de73",
   "metadata": {},
   "outputs": [],
   "source": [
    "s = shoelace_formula(x, y)"
   ]
  },
  {
   "cell_type": "code",
   "execution_count": 26,
   "id": "183e954c",
   "metadata": {},
   "outputs": [
    {
     "data": {
      "text/plain": [
       "28.5"
      ]
     },
     "execution_count": 26,
     "metadata": {},
     "output_type": "execute_result"
    }
   ],
   "source": [
    "perimeter + (s+1-perimeter/2)"
   ]
  },
  {
   "cell_type": "markdown",
   "id": "43dbb31c",
   "metadata": {},
   "source": [
    "# Task 2"
   ]
  },
  {
   "cell_type": "code",
   "execution_count": 28,
   "id": "5767736b",
   "metadata": {},
   "outputs": [],
   "source": [
    "route = []\n",
    "point = [0,0]\n",
    "perimeter = 0\n",
    "with open('Day_18_data/input.txt') as fp:\n",
    "    for line in fp:\n",
    "        split_line = line.split(' ')\n",
    "        hex_code = line.split(' ')[2].strip()[1:-1]\n",
    "        dist = int(hex_code[1:-1], 16)\n",
    "        perimeter+=dist\n",
    "        if hex_code[-1:] == '0':\n",
    "            point = [point[0], point[1]+dist]\n",
    "            route.append(point)\n",
    "        if hex_code[-1:] == '2':\n",
    "            point = [point[0], point[1]-dist]\n",
    "            route.append(point)\n",
    "        if hex_code[-1:] == '1':\n",
    "            point = [point[0]+dist, point[1]]\n",
    "            route.append(point)\n",
    "        if hex_code[-1:] == '3':\n",
    "            point = [point[0]-dist, point[1]]\n",
    "            route.append(point)"
   ]
  },
  {
   "cell_type": "code",
   "execution_count": 30,
   "id": "c0f42910",
   "metadata": {},
   "outputs": [],
   "source": [
    "x, y = zip(*route)\n",
    "def shoelace_formula(x,y):\n",
    "    x=np.int64(x)\n",
    "    y=np.int64(y)\n",
    "    prod_1 = np.dot(x,np.roll(y,1))\n",
    "    print(prod_1)\n",
    "    prod_2 = np.dot(y,np.roll(x,1))\n",
    "    return 0.5*np.abs(prod_1-prod_2)"
   ]
  },
  {
   "cell_type": "code",
   "execution_count": 32,
   "id": "3bef4230",
   "metadata": {},
   "outputs": [
    {
     "name": "stdout",
     "output_type": "stream",
     "text": [
      "3109979676869708\n"
     ]
    }
   ],
   "source": [
    "s = shoelace_formula(x, y)"
   ]
  },
  {
   "cell_type": "code",
   "execution_count": 33,
   "id": "a702b733",
   "metadata": {},
   "outputs": [
    {
     "data": {
      "text/plain": [
       "167968940"
      ]
     },
     "execution_count": 33,
     "metadata": {},
     "output_type": "execute_result"
    }
   ],
   "source": [
    "perimeter"
   ]
  },
  {
   "cell_type": "code",
   "execution_count": 34,
   "id": "b90c31cf",
   "metadata": {},
   "outputs": [
    {
     "data": {
      "text/plain": [
       "79088855654037.0"
      ]
     },
     "execution_count": 34,
     "metadata": {},
     "output_type": "execute_result"
    }
   ],
   "source": [
    "(perimeter + (s+1-perimeter/2))"
   ]
  },
  {
   "cell_type": "markdown",
   "id": "a120c085",
   "metadata": {},
   "source": [
    "# Day 19"
   ]
  },
  {
   "cell_type": "markdown",
   "id": "e80d2e47",
   "metadata": {},
   "source": [
    "## Task 1"
   ]
  },
  {
   "cell_type": "code",
   "execution_count": 1,
   "id": "79d15866",
   "metadata": {},
   "outputs": [],
   "source": [
    "import networkx as nx\n",
    "import re\n",
    "from networkx.drawing.nx_pydot import graphviz_layout\n",
    "import matplotlib.pyplot as plt"
   ]
  },
  {
   "cell_type": "code",
   "execution_count": 2,
   "id": "a0b597d5",
   "metadata": {},
   "outputs": [],
   "source": [
    "input_data = open('Day_19_data/input.txt', \"r\").read().split('\\n\\n')"
   ]
  },
  {
   "cell_type": "code",
   "execution_count": 3,
   "id": "3f6bb0ca",
   "metadata": {},
   "outputs": [],
   "source": [
    "graph_list = input_data[0].split('\\n')"
   ]
  },
  {
   "cell_type": "code",
   "execution_count": 4,
   "id": "3cd86042",
   "metadata": {},
   "outputs": [],
   "source": [
    "def fun_create(features):\n",
    "    print(features[var])\n",
    "    print(f'{features[var]}{sign}{number}')\n",
    "    return eval(f'{features[var]}{sign}{number}')"
   ]
  },
  {
   "cell_type": "code",
   "execution_count": 5,
   "id": "8799e590",
   "metadata": {},
   "outputs": [],
   "source": [
    "def create_decision_graph(graph_list):\n",
    "    G = nx.DiGraph()\n",
    "    for string in graph_list:\n",
    "        node_name, children_list = string.split('{')\n",
    "        G.add_node(node_name, label=node_name)\n",
    "        children_list = children_list[:-1].split(',')\n",
    "        for child in children_list:\n",
    "            child = child.split(':')\n",
    "            if len(child)>1:\n",
    "                G.add_node(child[1], label=child[1])\n",
    "                feature = child[0][0]\n",
    "                op = child[0][1]\n",
    "                threshold = child[0][2:]\n",
    "                edge_condition = lambda features, feature=feature, op=op, threshold=int(threshold): eval(f\"features['{feature}'] {op} {threshold}\")\n",
    "                if not G.has_edge(node_name, child[1]):\n",
    "                    G.add_edge(node_name, child[1], condition=edge_condition, function_text=str(child[0]))\n",
    "                else:\n",
    "                    G.add_edge(node_name, f'{child[1]}_{feature}', condition=edge_condition, function_text=str(child[0]))\n",
    "            else:\n",
    "                if child[0] not in ['R', 'A']:\n",
    "                    if G.has_node(child[0]):\n",
    "                        G.add_edge(node_name, child[0], condition=lambda features: True, function_text=str('True'))\n",
    "                    else:\n",
    "                        G.add_node(child[0], label=child[0])\n",
    "                        G.add_edge(node_name, child[0], condition=lambda features: True, function_text=str('True'))\n",
    "                else:\n",
    "                    G.add_node(f'{child[0]}_D', label=f'{child[0]}_D')\n",
    "                    G.add_edge(node_name, f'{child[0]}_D', condition=lambda features: True, function_text=str('True'))\n",
    "    return G"
   ]
  },
  {
   "cell_type": "code",
   "execution_count": 6,
   "id": "fa3d54c7",
   "metadata": {},
   "outputs": [],
   "source": [
    "def graph_walk(graph, features):\n",
    "    current_node = \"in\"\n",
    "    while True:\n",
    "        neighbors = list(graph.neighbors(current_node))\n",
    "        if not neighbors:\n",
    "            break\n",
    "        next_node = None\n",
    "        for neighbor in neighbors:\n",
    "            condition = graph[current_node][neighbor].get(\"condition\")\n",
    "            if condition and condition(features):\n",
    "                next_node = neighbor\n",
    "                break\n",
    "        if next_node == None:\n",
    "            break\n",
    "        current_node = next_node\n",
    "    return current_node"
   ]
  },
  {
   "cell_type": "code",
   "execution_count": 7,
   "id": "6b4f7d73",
   "metadata": {},
   "outputs": [],
   "source": [
    "def drow_graph(G):\n",
    "    pos = nx.nx_agraph.graphviz_layout(G, prog='dot', args=\"-Grankdir=LR\")\n",
    "    labels = nx.get_node_attributes(G, 'label')\n",
    "    labels_e = nx.get_edge_attributes(G, 'function_text')\n",
    "    nx.draw(G, pos, with_labels=True, labels=labels, font_weight='bold', node_size=2000)\n",
    "    nx.draw_networkx_edge_labels(G, pos, edge_labels=labels_e)\n",
    "    plt.show()"
   ]
  },
  {
   "cell_type": "code",
   "execution_count": 8,
   "id": "f5636ba3",
   "metadata": {},
   "outputs": [],
   "source": [
    "my_G = create_decision_graph(graph_list)"
   ]
  },
  {
   "cell_type": "code",
   "execution_count": 9,
   "id": "1a2e5d42",
   "metadata": {},
   "outputs": [],
   "source": [
    "def visualize_decision_graph(graph):\n",
    "    pos = nx.spring_layout(graph, seed=42)\n",
    "    labels = {(u, v): data['function_text'] for u, v, data in graph.edges(data=True)}\n",
    "    nx.draw(graph, pos, with_labels=True, font_weight='bold', node_size=2000)\n",
    "    nx.draw_networkx_edge_labels(graph, pos, edge_labels=labels)\n",
    "    plt.show()"
   ]
  },
  {
   "cell_type": "code",
   "execution_count": 10,
   "id": "b21835b5",
   "metadata": {},
   "outputs": [
    {
     "name": "stderr",
     "output_type": "stream",
     "text": [
      "C:\\Users\\Me\\anaconda3\\envs\\graphs\\Lib\\site-packages\\pygraphviz\\agraph.py:1405: RuntimeWarning: \r\n",
      "(process:13632): GLib-GIO-WARNING **: 00:37:55.428: Unexpectedly, UWP app `Evernote.Evernote_10.74.1.0_x64__q4d96b2w5wcc2' (AUMId `Evernote.Evernote_q4d96b2w5wcc2!Evernote') supports 1 extensions but has no verbs\r\n",
      "\n",
      "  warnings.warn(b\"\".join(errors).decode(self.encoding), RuntimeWarning)\n"
     ]
    },
    {
     "data": {
      "image/png": "[encoded data removed]",
      "text/plain": [
       "<Figure size 640x480 with 1 Axes>"
      ]
     },
     "metadata": {},
     "output_type": "display_data"
    }
   ],
   "source": [
    "drow_graph(my_G)    "
   ]
  },
  {
   "cell_type": "code",
   "execution_count": 11,
   "id": "8c0252e7",
   "metadata": {},
   "outputs": [],
   "source": [
    "def convert_string_to_dict(string):\n",
    "    xmas = string[1:-1].split(',')\n",
    "    result_dict = {}\n",
    "    for pair in xmas:\n",
    "        key, value = pair.split('=')\n",
    "        result_dict[key.strip()] = int(value.strip())\n",
    "    return result_dict"
   ]
  },
  {
   "cell_type": "code",
   "execution_count": 12,
   "id": "61c86754",
   "metadata": {},
   "outputs": [],
   "source": [
    "parts = input_data[1].strip().split('\\n')"
   ]
  },
  {
   "cell_type": "code",
   "execution_count": 13,
   "id": "a2de2fb4",
   "metadata": {},
   "outputs": [
    {
     "data": {
      "text/plain": [
       "{'x': 530, 'm': 634, 'a': 3725, 's': 1229}"
      ]
     },
     "execution_count": 13,
     "metadata": {},
     "output_type": "execute_result"
    }
   ],
   "source": [
    "convert_string_to_dict(parts[0])"
   ]
  },
  {
   "cell_type": "code",
   "execution_count": 16,
   "id": "fd63fe61",
   "metadata": {},
   "outputs": [],
   "source": [
    "part_features = {}\n",
    "list_out = []\n",
    "count = 0\n",
    "A, R = 0,0\n",
    "for part in parts:\n",
    "    temp_dic = convert_string_to_dict(part)\n",
    "    if graph_walk(my_G, temp_dic)[0] == 'A':\n",
    "        A+=1\n",
    "        list_out.append(part)\n",
    "        count+=sum(temp_dic.values())"
   ]
  },
  {
   "cell_type": "code",
   "execution_count": 19,
   "id": "6682cdbb",
   "metadata": {},
   "outputs": [
    {
     "data": {
      "text/plain": [
       "406934"
      ]
     },
     "execution_count": 19,
     "metadata": {},
     "output_type": "execute_result"
    }
   ],
   "source": [
    "count"
   ]
  },
  {
   "cell_type": "markdown",
   "id": "a91d7537",
   "metadata": {},
   "source": [
    "## Task 2"
   ]
  },
  {
   "cell_type": "code",
   "execution_count": 20,
   "id": "73f173bc",
   "metadata": {},
   "outputs": [],
   "source": [
    "input_data = open('Day_19_data/input.txt', \"r\").read().split('\\n\\n')"
   ]
  },
  {
   "cell_type": "code",
   "execution_count": 22,
   "id": "45616082",
   "metadata": {},
   "outputs": [],
   "source": [
    "# create dictionary with nodes and rules\n",
    "rules_dic = {}\n",
    "for line in input_data[0].split('\\n'):\n",
    "    line = line.strip()\n",
    "    current_node = line.split('{')[0]\n",
    "    rules = line.split('{')[1]\n",
    "    rules_dic[current_node] = rules[:-1].split(',')"
   ]
  },
  {
   "cell_type": "code",
   "execution_count": 24,
   "id": "f0e0f02c",
   "metadata": {},
   "outputs": [],
   "source": [
    "def neg_rule(rule_string: str) -> str:\n",
    "    new_rule = ''\n",
    "    if '>' in rule_string:\n",
    "        var, number = rule_string.split('>')\n",
    "        new_rule = f'{var}<{int(number)+1}'\n",
    "    else:\n",
    "        var, number = rule_string.split('<')\n",
    "        new_rule = f'{var}>{int(number)-1}'\n",
    "    return new_rule"
   ]
  },
  {
   "cell_type": "code",
   "execution_count": 25,
   "id": "4366b6c5",
   "metadata": {},
   "outputs": [],
   "source": [
    "def add_neg_rules_to_dic(rule: str):\n",
    "    temp_dic = []\n",
    "    prev_rule = []\n",
    "    for i in rule:\n",
    "        node = i.split(':')\n",
    "        if len(node) > 1:\n",
    "            new_el = [node[1], list(map(neg_rule, prev_rule)) + [node[0]]]\n",
    "            temp_dic.append([node[1], list(map(neg_rule, prev_rule)) + [node[0]]])\n",
    "            prev_rule = prev_rule +[node[0]]\n",
    "        else:\n",
    "            temp_dic.append([node[0], list(map(neg_rule, prev_rule))])\n",
    "    return temp_dic"
   ]
  },
  {
   "cell_type": "code",
   "execution_count": 26,
   "id": "b9e15a10",
   "metadata": {},
   "outputs": [],
   "source": [
    "full_rules_dic = {}\n",
    "for k,v in rules_dic.items():\n",
    "    new_rules = add_neg_rules_to_dic(v)\n",
    "    full_rules_dic[k] = new_rules"
   ]
  },
  {
   "cell_type": "code",
   "execution_count": 30,
   "id": "4a35d30d",
   "metadata": {},
   "outputs": [],
   "source": [
    "def dfs(rules_dic, current_node, target_node, path=[], \n",
    "        all_path = [], current_rule=[], rule_list = [], \n",
    "        full_rule_list = []):\n",
    "    path = path + [current_node]\n",
    "    rule_list = rule_list + current_rule\n",
    "        \n",
    "    if current_node == target_node:\n",
    "        full_rule_list.append(rule_list)\n",
    "        all_path.append(path)\n",
    "        return\n",
    "    \n",
    "    if current_node not in list(rules_dic.keys()):\n",
    "        return\n",
    "    \n",
    "    for node in rules_dic[current_node]:\n",
    "        if node[0] not in path:\n",
    "            dfs(rules_dic, node[0], target_node, path, all_path, node[1], rule_list, full_rule_list)\n",
    "        "
   ]
  },
  {
   "cell_type": "code",
   "execution_count": 31,
   "id": "60454759",
   "metadata": {},
   "outputs": [],
   "source": [
    "all_paths = []\n",
    "all_rules = []\n",
    "dfs(full_rules_dic, 'in', 'A', [], all_paths, [], [], all_rules)"
   ]
  },
  {
   "cell_type": "code",
   "execution_count": 35,
   "id": "c3fb0e5d",
   "metadata": {},
   "outputs": [],
   "source": [
    "def list_of_rules(rule_list):\n",
    "    my_dic = {'x':[0, 4000], 'm':[0, 4000], 'a':[0, 4000], 's':[0, 4000]}\n",
    "    for rule in rule_list:\n",
    "        #print(rule)\n",
    "        if '<' in rule:\n",
    "            my_dic[rule[0]][1] = min((int(rule.split('<')[1])-1), my_dic[rule[0]][1])\n",
    "        else:\n",
    "            #print(int(rule.split('>')[1]))\n",
    "            my_dic[rule[0]][0] = max((int(rule.split('>')[1])), my_dic[rule[0]][0])\n",
    "    output_list = []\n",
    "    count = 1\n",
    "    for k,v in my_dic.items():\n",
    "        #print(v[1] - v[0])\n",
    "        count = count*(v[1] - (v[0]))\n",
    "        output_list.append([v[1], v[0]])\n",
    "    return count\n"
   ]
  },
  {
   "cell_type": "code",
   "execution_count": 36,
   "id": "6bdc847d",
   "metadata": {},
   "outputs": [],
   "source": [
    "sum_all = 0\n",
    "qqq = []\n",
    "for i in all_rules:\n",
    "    l = list_of_rules(i)\n",
    "    qqq.append(l)\n",
    "    sum_all+=l"
   ]
  },
  {
   "cell_type": "code",
   "execution_count": 37,
   "id": "64d1deba",
   "metadata": {},
   "outputs": [
    {
     "data": {
      "text/plain": [
       "131192538505367"
      ]
     },
     "execution_count": 37,
     "metadata": {},
     "output_type": "execute_result"
    }
   ],
   "source": [
    "sum_all"
   ]
  },
  {
   "cell_type": "markdown",
   "id": "65c9c2ee",
   "metadata": {},
   "source": [
    "# Day 12"
   ]
  },
  {
   "cell_type": "markdown",
   "id": "cada74a4",
   "metadata": {},
   "source": [
    "## Task 1"
   ]
  },
  {
   "cell_type": "code",
   "execution_count": 44,
   "id": "87a86e1f",
   "metadata": {},
   "outputs": [],
   "source": [
    "import re\n",
    "from typing import Tuple, List"
   ]
  },
  {
   "cell_type": "code",
   "execution_count": 45,
   "id": "0da376c7",
   "metadata": {},
   "outputs": [],
   "source": [
    "input_data = open('Day_12_data/input.txt', \"r\").read().split('\\n')"
   ]
  },
  {
   "cell_type": "code",
   "execution_count": 46,
   "id": "5943801e",
   "metadata": {},
   "outputs": [],
   "source": [
    "def create_new_string(input_string: str, number: int) -> Tuple[str, List[int]]:\n",
    "    input_string, pattern_numbers = input_string.split(' ')\n",
    "    input_string = '?'.join([input_string] * number)\n",
    "    pattern_numbers = list(map(int, pattern_numbers.split(',')))\n",
    "    pattern_numbers = pattern_numbers*number\n",
    "    #print(pattern_string)\n",
    "    return input_string, pattern_numbers"
   ]
  },
  {
   "cell_type": "code",
   "execution_count": 47,
   "id": "4ec27ad7",
   "metadata": {},
   "outputs": [],
   "source": [
    "def count_hashes(input_string: str) -> int:\n",
    "    pattern = re.compile(r'#+')\n",
    "    return [len(match.group()) for match in pattern.finditer(input_string)]\n",
    "\n",
    "def recursion_combi(pattern, index, string, count=[]):\n",
    "    if index==len(string):\n",
    "        if count_hashes(string)==pattern:\n",
    "            count.append(1)\n",
    "        return\n",
    "    \n",
    "    if string[index]=='?':\n",
    "        recursion_combi(pattern, index+1, string.replace('?', '#', 1), count)\n",
    "        recursion_combi(pattern, index+1, string.replace('?', '.', 1), count)\n",
    "    else:\n",
    "        recursion_combi(pattern, index+1, string, count)    "
   ]
  },
  {
   "cell_type": "code",
   "execution_count": 49,
   "id": "4018cd19",
   "metadata": {},
   "outputs": [
    {
     "name": "stdout",
     "output_type": "stream",
     "text": [
      "CPU times: total: 21.7 s\n",
      "Wall time: 22.2 s\n"
     ]
    },
    {
     "data": {
      "text/plain": [
       "7032"
      ]
     },
     "execution_count": 49,
     "metadata": {},
     "output_type": "execute_result"
    }
   ],
   "source": [
    "%%time\n",
    "count = 0\n",
    "combo_list_1 = []\n",
    "combo_list_2 = []\n",
    "for input_string in input_data:\n",
    "    input_string_parse, pattern_string = create_new_string(input_string,1)\n",
    "    all_combo = []\n",
    "    input_string_parse = input_string_parse\n",
    "    recursion_combi(pattern_string, 0, input_string_parse, all_combo)\n",
    "    combo_list_1.append(len(all_combo))\n",
    "    \n",
    "sum(combo_list_1)"
   ]
  },
  {
   "cell_type": "markdown",
   "id": "b5a7fe95",
   "metadata": {},
   "source": [
    "## Task 2"
   ]
  },
  {
   "cell_type": "code",
   "execution_count": 51,
   "id": "11bd69f7",
   "metadata": {},
   "outputs": [],
   "source": [
    "from itertools import product"
   ]
  },
  {
   "cell_type": "code",
   "execution_count": 52,
   "id": "e22aca0e",
   "metadata": {},
   "outputs": [],
   "source": [
    "input_data = open('Day_12_data/input.txt', \"r\").read().split('\\n')"
   ]
  },
  {
   "cell_type": "code",
   "execution_count": 53,
   "id": "8a1ad7d5",
   "metadata": {},
   "outputs": [],
   "source": [
    "def count_hashes(input_string: str) -> int:\n",
    "    pattern = re.compile(r'#+')\n",
    "    return [len(match.group()) for match in pattern.finditer(input_string)]"
   ]
  },
  {
   "cell_type": "code",
   "execution_count": 54,
   "id": "d1e914ed",
   "metadata": {},
   "outputs": [],
   "source": [
    "def create_new_string(input_string: str, number: int) -> Tuple[str, int]:\n",
    "    input_string, pattern_numbers = input_string.split(' ')\n",
    "    input_string = '?'.join([input_string] * number)\n",
    "    pattern_numbers = list(map(int, pattern_numbers.split(',')))\n",
    "    pattern_numbers = pattern_numbers*number\n",
    "    #print(pattern_string)\n",
    "    return input_string, pattern_numbers"
   ]
  },
  {
   "cell_type": "code",
   "execution_count": null,
   "id": "fa03a82d",
   "metadata": {},
   "outputs": [
    {
     "name": "stdout",
     "output_type": "stream",
     "text": [
      "0\n",
      "1\n"
     ]
    }
   ],
   "source": [
    "replacements = ['.', '#']\n",
    "result = []\n",
    "i=0\n",
    "for input_string in input_data:\n",
    "    print(i)\n",
    "    i+=1\n",
    "    input_string_parse, pattern_string = create_new_string(input_string,2)\n",
    "    diff = sum(pattern_string) - input_string_parse.count('#')\n",
    "    combinations = list(product(replacements, repeat=input_string_parse.count('?')))\n",
    "    count = 0\n",
    "    for combo in combinations:\n",
    "        if combo.count('#') == diff:\n",
    "            new_str = input_string_parse.replace('?', '{}').format(*combo)\n",
    "            if count_hashes(new_str)==pattern_string:\n",
    "                count+=1\n",
    "    result.append(count)"
   ]
  },
  {
   "cell_type": "markdown",
   "id": "d4037a79",
   "metadata": {},
   "source": [
    "## Task 3"
   ]
  },
  {
   "cell_type": "code",
   "execution_count": 4,
   "id": "b7da02d9",
   "metadata": {},
   "outputs": [],
   "source": [
    "import re\n",
    "from typing import Tuple, List"
   ]
  },
  {
   "cell_type": "code",
   "execution_count": 5,
   "id": "596959ef",
   "metadata": {},
   "outputs": [],
   "source": [
    "input_data = open('Day_12_data/input.txt', \"r\").read().split('\\n')"
   ]
  },
  {
   "cell_type": "code",
   "execution_count": 6,
   "id": "ea39876e",
   "metadata": {},
   "outputs": [],
   "source": [
    "def create_new_string(input_string: str, number: int) -> Tuple[str, List[int]]:\n",
    "    input_string, pattern_numbers = input_string.split(' ')\n",
    "    short_string = re.sub(r'\\.{2,}', '.', input_string)\n",
    "    short_string = '?'.join([short_string] * number)\n",
    "    pattern_numbers = list(map(int, pattern_numbers.split(',')))\n",
    "    pattern_numbers = pattern_numbers*number\n",
    "    #print(pattern_string)\n",
    "    return short_string, pattern_numbers"
   ]
  },
  {
   "cell_type": "code",
   "execution_count": 7,
   "id": "dbf9d028",
   "metadata": {},
   "outputs": [],
   "source": [
    "def count_hashes(input_string: str) -> int:\n",
    "    pattern = re.compile(r'#+')\n",
    "    return [len(match.group()) for match in pattern.finditer(input_string)]"
   ]
  },
  {
   "cell_type": "code",
   "execution_count": 8,
   "id": "f0541d8c",
   "metadata": {},
   "outputs": [],
   "source": [
    "from functools import cache\n",
    "@cache\n",
    "def recursion_combi(input_string: str, pattern: Tuple[int, ...]) -> int:\n",
    "    #print(input_string, pattern)\n",
    "    if not input_string:\n",
    "        return len(pattern) == 0\n",
    "\n",
    "    if not pattern:\n",
    "        return \"#\" not in input_string\n",
    "\n",
    "    char, string_rest = input_string[0], input_string[1:]\n",
    "    \n",
    "    if char == '.':\n",
    "        return recursion_combi(string_rest, pattern)\n",
    "    \n",
    "    if char == '#':\n",
    "        current_p = pattern[0]\n",
    "        if (\n",
    "            # long enough to match\n",
    "            len(input_string) >= current_p\n",
    "            # made of only things that can be `#` (no `.`)\n",
    "            and all(c != \".\" for c in input_string[:current_p])\n",
    "            # either at the end of the record (allowed)\n",
    "            # or the next character isn't also a `#` (would be too big)\n",
    "            and (len(input_string) == current_p or input_string[current_p] != \"#\")\n",
    "        ):\n",
    "            return recursion_combi(input_string[current_p+1:], pattern[1:])\n",
    "        return 0\n",
    "    if char == '?':\n",
    "        return recursion_combi(f'#{string_rest}', pattern) + recursion_combi(f'.{string_rest}', pattern)"
   ]
  },
  {
   "cell_type": "code",
   "execution_count": 9,
   "id": "d63ccb1c",
   "metadata": {},
   "outputs": [],
   "source": [
    "def combo_split(pattern_string: str, input_string: str) -> Tuple[str, str]:\n",
    "    #print(input_string, pattern_string)\n",
    "    string_groups = input_string.split('.')\n",
    "\n",
    "    string_length = [len(i) for i in string_groups]\n",
    "    #print(string_groups, string_length)\n",
    "    #for i in range(min(len(pattern_string), len(string_length))):\n",
    "    flag=True\n",
    "    while flag:\n",
    "        #print('input_string', input_string, pattern_string)    \n",
    "        if pattern_string[0]>string_length[0]:\n",
    "            #print('IF1: ', pattern_string, string_length)\n",
    "            len_group = string_length.pop(0)\n",
    "            input_string = input_string[len_group+1:]\n",
    "                #input_string = input_string[len_group+1:]\n",
    "        elif pattern_string[-1]>string_length[-1]:\n",
    "            #print('IF2: ', pattern_string, string_length)         \n",
    "            len_group = string_length.pop()\n",
    "            input_string = input_string[:-len_group-1]\n",
    "                #input_string = input_string[:-len_group-1]\n",
    "        elif len(string_length)>=2:\n",
    "            #print('IF4: ', pattern_string, string_length)      \n",
    "            if pattern_string[-1]==string_length[-1] and pattern_string[-1]>string_length[-2]:\n",
    "                pattern_string.pop()\n",
    "                len_group = string_length.pop()\n",
    "                input_string = input_string[:-len_group-1]\n",
    "                #print('IF5: ', pattern_string, string_length)  \n",
    "            elif pattern_string[0]==string_length[0] and pattern_string[0]>string_length[1]:\n",
    "                pattern_string.pop(0)\n",
    "                len_group = string_length.pop(0)\n",
    "                input_string = input_string[len_group+1:]\n",
    "                #print('IF6: ', pattern_string, string_length)  \n",
    "            else:\n",
    "                #print('IF7: ', pattern_string, string_length)      \n",
    "                break           \n",
    "        else:\n",
    "            flag=False\n",
    "    flag=True\n",
    "    \n",
    "\n",
    "    #print('EN:', string_groups, string_length, input_string)\n",
    "    return pattern_string, input_string"
   ]
  },
  {
   "cell_type": "code",
   "execution_count": 10,
   "id": "1a5ec7e4",
   "metadata": {},
   "outputs": [
    {
     "name": "stdout",
     "output_type": "stream",
     "text": [
      "CPU times: total: 1.23 s\n",
      "Wall time: 1.32 s\n"
     ]
    },
    {
     "data": {
      "text/plain": [
       "1493340882140"
      ]
     },
     "execution_count": 10,
     "metadata": {},
     "output_type": "execute_result"
    }
   ],
   "source": [
    "%%time\n",
    "count = 0\n",
    "combo_list_1 = []\n",
    "combo_list_2 = []\n",
    "i=0\n",
    "for input_string in input_data:\n",
    "    i+=1\n",
    "    flag = True\n",
    "    group_flag_start, group_flag_end = True, True\n",
    "    group_flag = True\n",
    "    count = 0\n",
    "    input_string_parse, pattern_string = create_new_string(input_string,5)\n",
    "    all_combo = []\n",
    "    input_string_parse = input_string_parse\n",
    "    while flag and input_string_parse and pattern_string and group_flag:\n",
    "        if len(input_string_parse)==(sum(pattern_string)+len(pattern_string)-1):\n",
    "            count=1\n",
    "            break     \n",
    "        input_string_parse = input_string_parse.strip('.')\n",
    "        if input_string_parse[0] == '#':\n",
    "            count_hash = pattern_string.pop(0)\n",
    "            input_string_parse=input_string_parse[count_hash+1:]\n",
    "        elif input_string_parse[-1] == '#':  \n",
    "            count_hash = pattern_string.pop()\n",
    "            input_string_parse=input_string_parse[:-count_hash-1]\n",
    "        elif input_string_parse.find('.')==pattern_string[0] and group_flag_start:          \n",
    "            count_hash = pattern_string[0]\n",
    "            if len(input_string_parse[count_hash+1:])<sum(pattern_string):\n",
    "                pattern_string.pop(0)\n",
    "                input_string_parse=input_string_parse[count_hash+1:]    \n",
    "            else:                \n",
    "                group_flag_start = False\n",
    "        elif (len(input_string_parse) - input_string_parse.rfind('.') - 1)==pattern_string[-1] and group_flag_end:\n",
    "            count_hash = pattern_string[-1]\n",
    "            if len(input_string_parse[:-count_hash-1])<sum(pattern_string):\n",
    "                pattern_string.pop()\n",
    "                input_string_parse=input_string_parse[:-count_hash-1]\n",
    "            else:\n",
    "                group_flag_end = False      \n",
    "        \n",
    "        else:\n",
    "            flag=False   \n",
    "    if count==1 or not pattern_string:\n",
    "        combo_list_1.append(1)\n",
    "    else:\n",
    "        pattern_string, input_string_parse = combo_split(pattern_string, input_string_parse)\n",
    "        combo_list_1.append(recursion_combi(input_string_parse, tuple(pattern_string)))\n",
    "    \n",
    "    #recursion_combi(pattern_string, 0, input_string_parse, all_combo)\n",
    "    \n",
    "    #input_string_parse, pattern_string = create_new_string(input_string,2)\n",
    "    #all_combo_2 = []\n",
    "    #recursion_combi(pattern_string, 0, input_string_parse, all_combo_2)\n",
    "    #combo_list_2.append(len(all_combo_2))\n",
    "    \n",
    "sum(combo_list_1)"
   ]
  },
  {
   "cell_type": "code",
   "execution_count": 12,
   "id": "8df4aaef",
   "metadata": {},
   "outputs": [
    {
     "data": {
      "text/plain": [
       "1493340882140"
      ]
     },
     "execution_count": 12,
     "metadata": {},
     "output_type": "execute_result"
    }
   ],
   "source": [
    "sum(combo_list_1)"
   ]
  },
  {
   "cell_type": "markdown",
   "id": "1361805c",
   "metadata": {},
   "source": [
    "# Day 21"
   ]
  },
  {
   "cell_type": "code",
   "execution_count": 15,
   "id": "7ec2d58b",
   "metadata": {},
   "outputs": [],
   "source": [
    "delta = [[-1, 0],  # go up\n",
    "         [0, -1],  # go left\n",
    "         [1, 0],  # go down\n",
    "         [0, 1]\n",
    "        ]  # go right\n",
    "\n",
    "input_data = open('Day_21_data/test_1.txt', \"r\").read().split('\\n')\n",
    "input_matrix = [list(i) for i in input_data]"
   ]
  },
  {
   "cell_type": "code",
   "execution_count": 16,
   "id": "b5f38208",
   "metadata": {},
   "outputs": [],
   "source": [
    "input_matrix = [list(i) for i in input_data]"
   ]
  },
  {
   "cell_type": "code",
   "execution_count": 17,
   "id": "914a2ce0",
   "metadata": {},
   "outputs": [],
   "source": [
    "m, n = 0,0\n",
    "for i in range(len(input_data)):\n",
    "    if 'S' in input_data[i]:\n",
    "        m,n=i,input_data[i].find('S')"
   ]
  },
  {
   "cell_type": "code",
   "execution_count": 18,
   "id": "8d9fc40c",
   "metadata": {},
   "outputs": [],
   "source": [
    " def lakes_map(list_of_lakes, all_map):\n",
    "    new_list_of_lakes = []    \n",
    "    for lake in list_of_lakes:\n",
    "        for direction in delta:\n",
    "            new_m = lake[0] + direction[0]\n",
    "            new_n = lake[1] + direction[1]\n",
    "            if (all_map[new_m][new_n]!='#') and ([new_m, new_n] not in new_list_of_lakes) \\\n",
    "            and (0<=new_m<(len(all_map) -1)and 0<=new_n<(len(all_map)-1)):\n",
    "                new_list_of_lakes.append([new_m, new_n])\n",
    "    return new_list_of_lakes\n",
    "            \n",
    "#lakes_map(list_of_lakes, input_matrix)"
   ]
  },
  {
   "cell_type": "code",
   "execution_count": 19,
   "id": "5bda797a",
   "metadata": {},
   "outputs": [
    {
     "name": "stdout",
     "output_type": "stream",
     "text": [
      "29\n"
     ]
    }
   ],
   "source": [
    "steps_num = 48\n",
    "list_of_lakes = [[m,n]]\n",
    "for i in range(steps_num):\n",
    "    list_of_lakes = lakes_map(list_of_lakes, input_matrix)\n",
    "print(len(list_of_lakes) + steps_num%2)"
   ]
  }
 ],
 "metadata": {
  "kernelspec": {
   "display_name": "Python [conda env:ml]",
   "language": "python",
   "name": "conda-env-ml-py"
  },
  "language_info": {
   "codemirror_mode": {
    "name": "ipython",
    "version": 3
   },
   "file_extension": ".py",
   "mimetype": "text/x-python",
   "name": "python",
   "nbconvert_exporter": "python",
   "pygments_lexer": "ipython3",
   "version": "3.11.4"
  },
  "toc": {
   "base_numbering": 1,
   "nav_menu": {},
   "number_sections": true,
   "sideBar": true,
   "skip_h1_title": false,
   "title_cell": "Table of Contents",
   "title_sidebar": "Contents",
   "toc_cell": false,
   "toc_position": {
    "height": "calc(100% - 180px)",
    "left": "10px",
    "top": "150px",
    "width": "349.091px"
   },
   "toc_section_display": true,
   "toc_window_display": false
  },
  "varInspector": {
   "cols": {
    "lenName": 16,
    "lenType": 16,
    "lenVar": 40
   },
   "kernels_config": {
    "python": {
     "delete_cmd_postfix": "",
     "delete_cmd_prefix": "del ",
     "library": "var_list.py",
     "varRefreshCmd": "print(var_dic_list())"
    },
    "r": {
     "delete_cmd_postfix": ") ",
     "delete_cmd_prefix": "rm(",
     "library": "var_list.r",
     "varRefreshCmd": "cat(var_dic_list()) "
    }
   },
   "types_to_exclude": [
    "module",
    "function",
    "builtin_function_or_method",
    "instance",
    "_Feature"
   ],
   "window_display": false
  }
 },
 "nbformat": 4,
 "nbformat_minor": 5
}
