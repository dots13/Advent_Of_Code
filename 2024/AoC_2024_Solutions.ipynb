{
  "nbformat": 4,
  "nbformat_minor": 0,
  "metadata": {
    "colab": {
      "provenance": [],
      "toc_visible": true
    },
    "kernelspec": {
      "name": "python3",
      "display_name": "Python 3"
    },
    "language_info": {
      "name": "python"
    }
  },
  "cells": [
    {
      "cell_type": "markdown",
      "source": [
        "# Day 1\n",
        "## Part 1\n"
      ],
      "metadata": {
        "id": "-eBEP6E85YeY"
      }
    },
    {
      "cell_type": "code",
      "execution_count": null,
      "metadata": {
        "id": "PoDbmnaQrgja"
      },
      "outputs": [],
      "source": [
        "l_1, l_2 = [], []\n",
        "with open('input.txt') as file:\n",
        "    for line in file:\n",
        "        string = list(map(int, line.split()))\n",
        "        l_1.append(string[0])\n",
        "        l_2.append(string[1])\n",
        "\n",
        "l_1.sort()\n",
        "l_2.sort()\n",
        "acc_sum = 0\n",
        "for i in range(len(l_1)):\n",
        "    acc_sum += abs(l_2[i] - l_1[i])"
      ]
    },
    {
      "cell_type": "code",
      "source": [
        "acc_sum"
      ],
      "metadata": {
        "id": "XwWj7l7-z439"
      },
      "execution_count": null,
      "outputs": []
    },
    {
      "cell_type": "markdown",
      "source": [
        "## Part 2"
      ],
      "metadata": {
        "id": "ZuoM1YSL2L8D"
      }
    },
    {
      "cell_type": "code",
      "source": [
        "dict_1, dict_2 = {}, {}\n",
        "with open('input.txt') as file:\n",
        "    for line in file:\n",
        "        string = list(map(int, line.split()))\n",
        "        dict_1[string[0]] = dict_1.get(string[0], 0) + 1\n",
        "        dict_2[string[1]] = dict_2.get(string[1], 0) + 1"
      ],
      "metadata": {
        "id": "l1pMBZce2KfE"
      },
      "execution_count": null,
      "outputs": []
    },
    {
      "cell_type": "code",
      "source": [
        "acc_sum = 0\n",
        "for k, v in dict_1.items():\n",
        "    temp = dict_2.get(k, 0)\n",
        "    acc_sum += temp * k * v"
      ],
      "metadata": {
        "id": "G4VDpK7z23kp"
      },
      "execution_count": null,
      "outputs": []
    },
    {
      "cell_type": "code",
      "source": [
        "acc_sum"
      ],
      "metadata": {
        "id": "DaSJYhOB32sA"
      },
      "execution_count": null,
      "outputs": []
    },
    {
      "cell_type": "markdown",
      "source": [
        "# Day 2\n",
        "## Part 1"
      ],
      "metadata": {
        "id": "YBLU0LJm6skh"
      }
    },
    {
      "cell_type": "code",
      "source": [
        "safe_count = 0\n",
        "with open('input.txt') as file:\n",
        "    for line in file:\n",
        "        string = list(map(int, line.split()))\n",
        "        prev_dist = string[-1] - string[0]\n",
        "        flag = True\n",
        "        for i in range(1, len(string)):\n",
        "            dist = string[i] - string[i - 1]\n",
        "            if prev_dist * dist <= 0 or abs(dist) not in {1, 2, 3}:\n",
        "                flag = False\n",
        "                break\n",
        "        if flag:\n",
        "            safe_count += 1"
      ],
      "metadata": {
        "id": "alYlIH1033ch"
      },
      "execution_count": null,
      "outputs": []
    },
    {
      "cell_type": "code",
      "source": [
        "safe_count"
      ],
      "metadata": {
        "id": "hqZOmgQv6_rQ"
      },
      "execution_count": null,
      "outputs": []
    },
    {
      "cell_type": "markdown",
      "source": [
        "## Part 2"
      ],
      "metadata": {
        "id": "qNVbm-CVAQQn"
      }
    },
    {
      "cell_type": "code",
      "source": [
        "def is_monotonic(seq):\n",
        "    return all(\n",
        "        seq[i] <= seq[i +1 ] and 0 < seq[i + 1] - seq[i] <= 3 for i in range(len(seq)-1)\n",
        "        ) or all(\n",
        "            seq[i] >= seq[i + 1] and 0 < seq[i] - seq[i + 1] <= 3 for i in range(len(seq)-1)\n",
        "            )\n",
        "\n",
        "\n",
        "safe_count = 0\n",
        "with open('input.txt') as file:\n",
        "    for line in file:\n",
        "        string = list(map(int, line.split()))\n",
        "\n",
        "        if is_monotonic(string):\n",
        "            #print(string)\n",
        "            safe_count += 1\n",
        "        else:\n",
        "            for i in range(len(string)):\n",
        "                temp_list = string[:i] + string[i + 1:]\n",
        "                if is_monotonic(temp_list):\n",
        "                    #print(string)\n",
        "                    safe_count += 1\n",
        "                    break\n"
      ],
      "metadata": {
        "id": "1AfVZK3-98-T"
      },
      "execution_count": null,
      "outputs": []
    },
    {
      "cell_type": "code",
      "source": [
        "safe_count"
      ],
      "metadata": {
        "id": "GtBTsDAgAZq_"
      },
      "execution_count": null,
      "outputs": []
    },
    {
      "cell_type": "markdown",
      "source": [
        "# Day 3\n",
        "## Task 1"
      ],
      "metadata": {
        "id": "omxOQLqpgi47"
      }
    },
    {
      "cell_type": "code",
      "source": [
        "import re\n",
        "acc_mul = 0\n",
        "pattern = r\"mul\\(\\d+,\\d+\\)\"\n",
        "int_pattern = r\"\\d+\"\n",
        "with open('input.txt') as file:\n",
        "    mul_list = []\n",
        "    for line in file:\n",
        "        mul_list = re.findall(pattern, line)\n",
        "        #print(mul_list)\n",
        "        for mul in mul_list:\n",
        "            m = list(map(int, (re.findall(int_pattern, mul))))\n",
        "            acc_mul += m[0] * m[1]"
      ],
      "metadata": {
        "id": "Fq6l0njaAaYP"
      },
      "execution_count": null,
      "outputs": []
    },
    {
      "cell_type": "code",
      "source": [
        "acc_mul"
      ],
      "metadata": {
        "id": "JBVeatCHgqHK"
      },
      "execution_count": null,
      "outputs": []
    },
    {
      "cell_type": "markdown",
      "source": [
        "## Part 2"
      ],
      "metadata": {
        "id": "EHTSr6UujBga"
      }
    },
    {
      "cell_type": "code",
      "source": [
        "import re\n",
        "\n",
        "\n",
        "acc_mul = 0\n",
        "pattern = r\"mul\\(\\d+,\\d+\\)\"\n",
        "control_pattern = r\"(do\\(\\)|don't\\(\\))\"\n",
        "int_pattern = r\"\\d+\"\n",
        "flag = True\n",
        "with open('input.txt') as file:\n",
        "    for line in file:\n",
        "        controls = re.findall(control_pattern, line)\n",
        "        controls_idx = [m.start() for m in re.finditer(control_pattern, line)]\n",
        "        start_idx = 0\n",
        "        print(controls)\n",
        "        print(controls_idx)\n",
        "        for i, control in enumerate(controls):\n",
        "            new_line = line[start_idx:controls_idx[i]]\n",
        "            mul_list = re.findall(pattern, new_line)\n",
        "            for mul in mul_list:\n",
        "                m = list(map(int, re.findall(int_pattern, mul)))\n",
        "                if flag:\n",
        "                    acc_mul += m[0] * m[1]\n",
        "            if control == 'do()':\n",
        "                mul_enabled = True\n",
        "            elif control == \"don't()\":\n",
        "                mul_enabled = False\n",
        "            start_idx = controls_idx[i] + len(control)\n",
        "\n",
        "\n",
        "        new_line = line[start_idx:]\n",
        "        mul_list = re.findall(pattern, new_line)\n",
        "        for mul in mul_list:\n",
        "            m = list(map(int, re.findall(int_pattern, mul)))\n",
        "            if mul_enabled:\n",
        "                acc_mul += m[0] * m[1]\n",
        "\n",
        "print(acc_mul)"
      ],
      "metadata": {
        "id": "jvrMNS6zruLL"
      },
      "execution_count": null,
      "outputs": []
    },
    {
      "cell_type": "markdown",
      "source": [
        "# Day 4\n",
        "## Part 1\n"
      ],
      "metadata": {
        "id": "AttGKtlP5iRl"
      }
    },
    {
      "cell_type": "code",
      "source": [
        "from typing import List\n",
        "string_matrix = []\n",
        "with open('input.txt') as file:\n",
        "    for line in file:\n",
        "        string_matrix.append(line.strip())\n",
        "\n",
        "string_matrix_rotated = [''.join(tup) for tup in zip(*string_matrix)]"
      ],
      "metadata": {
        "id": "LiMHt7JAqmA2"
      },
      "execution_count": null,
      "outputs": []
    },
    {
      "cell_type": "code",
      "source": [
        "def count_xmas_horizontal(input_matrix: List[str]) -> int:\n",
        "    xmas_count = 0\n",
        "    for line in input_matrix:\n",
        "        xmas_count += line.count('XMAS')\n",
        "        xmas_count += line.count('SAMX')\n",
        "    return xmas_count"
      ],
      "metadata": {
        "id": "fXHxrqSR8xau"
      },
      "execution_count": null,
      "outputs": []
    },
    {
      "cell_type": "code",
      "source": [
        "def get_diagonals_simple(input_matrix: List[str]) -> List[str]:\n",
        "    n, m = len(input_matrix), len(input_matrix[0])\n",
        "    diagonals = []\n",
        "\n",
        "    # Top-left to bottom-right diagonals\n",
        "    for start_row in range(n):\n",
        "        diagonal = []\n",
        "        row, col = start_row, 0\n",
        "        while row < n and col < m:\n",
        "            diagonal.append(input_matrix[row][col])\n",
        "            row += 1\n",
        "            col += 1\n",
        "        diagonals.append(''.join(diagonal))\n",
        "    for start_col in range(1, m):\n",
        "        diagonal = []\n",
        "        row, col = 0, start_col\n",
        "        while row < n and col < m:\n",
        "            diagonal.append(input_matrix[row][col])\n",
        "            row += 1\n",
        "            col += 1\n",
        "        diagonals.append(''.join(diagonal))\n",
        "\n",
        "    # Top-right to bottom-left diagonals\n",
        "    for start_row in range(n):\n",
        "        diagonal = []\n",
        "        row, col = start_row, m - 1\n",
        "        while row < n and col >= 0:\n",
        "            diagonal.append(input_matrix[row][col])\n",
        "            row += 1\n",
        "            col -= 1\n",
        "        diagonals.append(''.join(diagonal))\n",
        "    for start_col in range(m - 2, -1, -1):\n",
        "        diagonal = []\n",
        "        row, col = 0, start_col\n",
        "        while row < n and col >= 0:\n",
        "            diagonal.append(input_matrix[row][col])\n",
        "            row += 1\n",
        "            col -= 1\n",
        "        diagonals.append(''.join(diagonal))\n",
        "\n",
        "    return diagonals\n"
      ],
      "metadata": {
        "id": "mc8bjVDD-nl5"
      },
      "execution_count": null,
      "outputs": []
    },
    {
      "cell_type": "code",
      "source": [
        "def count_xmas_diagonal(input_matrix: List[str]) -> int:\n",
        "    diagonals = get_diagonals_simple(input_matrix)\n",
        "    return count_xmas_horizontal(diagonals)"
      ],
      "metadata": {
        "id": "uRT_qbLADUU9"
      },
      "execution_count": null,
      "outputs": []
    },
    {
      "cell_type": "code",
      "source": [
        "acc_count = 0\n",
        "acc_count += count_xmas_horizontal(string_matrix)\n",
        "print(acc_count)\n",
        "acc_count += count_xmas_diagonal(string_matrix)\n",
        "print(acc_count)\n",
        "\n",
        "acc_count += count_xmas_horizontal(string_matrix_rotated)\n",
        "print(acc_count)"
      ],
      "metadata": {
        "id": "Y6GFFaKa7pCE"
      },
      "execution_count": null,
      "outputs": []
    },
    {
      "cell_type": "code",
      "source": [
        "acc_count"
      ],
      "metadata": {
        "id": "RubTBczbA2cY"
      },
      "execution_count": null,
      "outputs": []
    },
    {
      "cell_type": "markdown",
      "source": [
        "## Part 2"
      ],
      "metadata": {
        "id": "PKt5ovYIEsUx"
      }
    },
    {
      "cell_type": "code",
      "source": [
        "string_matrix = []\n",
        "with open('input.txt') as file:\n",
        "    for line in file:\n",
        "        string_matrix.append(line.strip())"
      ],
      "metadata": {
        "id": "pbxSE7_aEw7a"
      },
      "execution_count": null,
      "outputs": []
    },
    {
      "cell_type": "code",
      "source": [
        "def count_xmas_pattern(matrix: List[str]) -> int:\n",
        "    n, m = len(matrix), len(matrix[0])\n",
        "    count = 0\n",
        "    for i in range(1, n - 1):\n",
        "        for j in range(1, m - 1):\n",
        "            if (\n",
        "                matrix[i][j] == 'A' and\n",
        "                matrix[i - 1][j - 1] == 'M' and\n",
        "                matrix[i - 1][j + 1] == 'S' and\n",
        "                matrix[i + 1][j - 1] == 'M' and\n",
        "                matrix[i + 1][j + 1] == 'S'\n",
        "            ) or (\n",
        "                matrix[i][j] == 'A' and\n",
        "                matrix[i - 1][j - 1] == 'M' and\n",
        "                matrix[i - 1][j + 1] == 'M' and\n",
        "                matrix[i + 1][j - 1] == 'S' and\n",
        "                matrix[i + 1][j + 1] == 'S'\n",
        "            ) or (\n",
        "                matrix[i][j] == 'A' and\n",
        "                matrix[i - 1][j - 1] == 'S' and\n",
        "                matrix[i - 1][j + 1] == 'S' and\n",
        "                matrix[i + 1][j - 1] == 'M' and\n",
        "                matrix[i + 1][j + 1] == 'M'\n",
        "            ) or (\n",
        "                matrix[i][j] == 'A' and\n",
        "                matrix[i - 1][j - 1] == 'S' and\n",
        "                matrix[i - 1][j + 1] == 'M' and\n",
        "                matrix[i + 1][j - 1] == 'S' and\n",
        "                matrix[i + 1][j + 1] == 'M'\n",
        "            ):\n",
        "                #print(i, j)\n",
        "                count += 1\n",
        "\n",
        "    return count"
      ],
      "metadata": {
        "id": "fi1UjgiDBSUd"
      },
      "execution_count": null,
      "outputs": []
    },
    {
      "cell_type": "code",
      "source": [
        "acc_count = count_xmas_pattern(string_matrix)\n",
        "print(acc_count)"
      ],
      "metadata": {
        "id": "tTm1CYe9E8U4"
      },
      "execution_count": null,
      "outputs": []
    },
    {
      "cell_type": "markdown",
      "source": [
        "# Day 5\n",
        "## Part 1"
      ],
      "metadata": {
        "id": "cGzAp6ZXG2tv"
      }
    },
    {
      "cell_type": "code",
      "source": [
        "with open('short_input.txt') as file:\n",
        "    lines = file.read().strip().split('\\n')"
      ],
      "metadata": {
        "id": "KLLJGajoFByX"
      },
      "execution_count": null,
      "outputs": []
    },
    {
      "cell_type": "code",
      "source": [
        "nodes = {}\n",
        "updates = []\n",
        "for line in lines:\n",
        "    if '|' in line:\n",
        "        l = list(map(int, line.split('|')))\n",
        "        if l[0] in nodes:\n",
        "            nodes[l[0]].append(l[1])\n",
        "        else:\n",
        "            nodes[l[0]] = [l[1]]\n",
        "    elif line == '':\n",
        "        pass\n",
        "    else:\n",
        "        updates.append(list(map(int, line.split(','))))"
      ],
      "metadata": {
        "id": "yfaRh8bELNq7"
      },
      "execution_count": null,
      "outputs": []
    },
    {
      "cell_type": "code",
      "source": [
        "acc_count = 0\n",
        "for update in updates:\n",
        "    flag = True\n",
        "    n = len(update)\n",
        "    for i in range(n - 1):\n",
        "        if (update[i] in nodes.keys()) and (update[i + 1] in nodes[update[i]]):\n",
        "            continue\n",
        "        else:\n",
        "            flag = False\n",
        "    if flag:\n",
        "        if n % 2 == 0:\n",
        "            print('ALERT: ', update)\n",
        "        acc_count += update[n//2]"
      ],
      "metadata": {
        "id": "JIzUY7EZLvtF"
      },
      "execution_count": null,
      "outputs": []
    },
    {
      "cell_type": "code",
      "source": [
        "acc_count"
      ],
      "metadata": {
        "id": "BUhlNujLQT6i"
      },
      "execution_count": null,
      "outputs": []
    },
    {
      "cell_type": "markdown",
      "source": [
        "## Part 2"
      ],
      "metadata": {
        "id": "z4PSRMa3T3iW"
      }
    },
    {
      "cell_type": "code",
      "source": [
        "from typing import List, Dict\n",
        "\n",
        "with open('input.txt') as file:\n",
        "    lines = file.read().strip().split('\\n')\n",
        "\n",
        "nodes = {}\n",
        "updates = []\n",
        "for line in lines:\n",
        "    if '|' in line:\n",
        "        l = list(map(int, line.split('|')))\n",
        "        if l[0] in nodes:\n",
        "            nodes[l[0]].append(l[1])\n",
        "        else:\n",
        "            nodes[l[0]] = [l[1]]\n",
        "    elif line == '':\n",
        "        pass\n",
        "    else:\n",
        "        updates.append(list(map(int, line.split(','))))"
      ],
      "metadata": {
        "id": "SjRQy0kiT9F4"
      },
      "execution_count": null,
      "outputs": []
    },
    {
      "cell_type": "code",
      "source": [
        "def sort_list_nodes(graph, node_list):\n",
        "    sort_list = []\n",
        "    last_element = float('inf')\n",
        "    while len(node_list) > 0:\n",
        "        cur_el = node_list.pop(0)\n",
        "        if cur_el in graph:\n",
        "            #print(cur_el)\n",
        "            flag = False\n",
        "            for l in node_list:\n",
        "                if l not in graph[cur_el]:\n",
        "                    flag = True\n",
        "                    break\n",
        "            if flag:\n",
        "                node_list.append(cur_el)\n",
        "            else:\n",
        "                sort_list.append(cur_el)\n",
        "        else:\n",
        "            last_element = cur_el\n",
        "    if last_element != float('inf'):\n",
        "        sort_list.append(last_element)\n",
        "    return sort_list"
      ],
      "metadata": {
        "id": "Ima5enCzkIxj"
      },
      "execution_count": null,
      "outputs": []
    },
    {
      "cell_type": "code",
      "source": [
        "acc_count = 0\n",
        "for update in updates:\n",
        "    flag = True\n",
        "    n = len(update)\n",
        "    for i in range(n - 1):\n",
        "        if (update[i] in nodes.keys()) and (update[i + 1] in nodes[update[i]]):\n",
        "            continue\n",
        "        else:\n",
        "            flag = False\n",
        "            break\n",
        "    if not flag:\n",
        "        sorted_update = sort_list_nodes(nodes, update)\n",
        "        acc_count += sorted_update[n//2]"
      ],
      "metadata": {
        "id": "-1_udt9PUuen"
      },
      "execution_count": null,
      "outputs": []
    },
    {
      "cell_type": "code",
      "source": [
        "acc_count"
      ],
      "metadata": {
        "id": "ME-Sh1A5oD1p"
      },
      "execution_count": null,
      "outputs": []
    },
    {
      "cell_type": "markdown",
      "source": [
        "# Day 6\n",
        "## Part 1"
      ],
      "metadata": {
        "id": "gTjkM9FEA5lV"
      }
    },
    {
      "cell_type": "code",
      "source": [
        "map = []\n",
        "clockwise_directions = ['^', '>', 'v', '<']\n",
        "i = 0\n",
        "visited_set = set()\n",
        "with open('input.txt') as file:\n",
        "    for line in file:\n",
        "        for d in clockwise_directions:\n",
        "            if d in line:\n",
        "                current_i = i\n",
        "                current_j = line.find(d)\n",
        "                current_direction = d\n",
        "        map.append(line.strip())\n",
        "        i += 1\n"
      ],
      "metadata": {
        "id": "FHyCX4QfjKHX"
      },
      "execution_count": null,
      "outputs": []
    },
    {
      "cell_type": "code",
      "source": [
        "def move(x, y, direction):\n",
        "    if direction == '^':\n",
        "        return x - 1, y\n",
        "    elif direction == '>':\n",
        "        return x, y + 1\n",
        "    elif direction == 'v':\n",
        "        return x + 1, y\n",
        "    elif direction == '<':\n",
        "        return x, y - 1\n",
        "    return x, y\n",
        "def turn_right(direction):\n",
        "    direction_idx = clockwise_directions.index(direction)\n",
        "    direction_idx = (direction_idx + 1) % 4\n",
        "    return clockwise_directions[direction_idx]"
      ],
      "metadata": {
        "id": "qiRTZaZJHtEe"
      },
      "execution_count": null,
      "outputs": []
    },
    {
      "cell_type": "code",
      "source": [
        "visited_set.add((current_i, current_j))\n",
        "while current_i != 0 and current_i != (len(map) - 1) and current_j != 0 and current_j != (len(map[0]) - 1):\n",
        "    new_i, new_j = move(current_i, current_j, current_direction)\n",
        "    while map[new_i][new_j] == '#':\n",
        "        current_direction = turn_right(current_direction)\n",
        "        new_i, new_j = move(current_i, current_j, current_direction)\n",
        "    current_i, current_j = new_i, new_j\n",
        "    visited_set.add((current_i, current_j))"
      ],
      "metadata": {
        "id": "cb_QzU8TJJ7o"
      },
      "execution_count": null,
      "outputs": []
    },
    {
      "cell_type": "code",
      "source": [
        "len(visited_set)"
      ],
      "metadata": {
        "id": "GKHdN2UeDAWo"
      },
      "execution_count": null,
      "outputs": []
    },
    {
      "cell_type": "markdown",
      "source": [
        "## Part 2"
      ],
      "metadata": {
        "id": "YHaXe5M_OYNk"
      }
    },
    {
      "cell_type": "code",
      "source": [
        "data_map = []\n",
        "clockwise_directions = ['^', '>', 'v', '<']\n",
        "i = 0\n",
        "with open('input.txt') as file:\n",
        "    for line in file:\n",
        "        for d in clockwise_directions:\n",
        "            if d in line:\n",
        "                current_i = i\n",
        "                current_j = line.find(d)\n",
        "                current_direction = d\n",
        "        data_map.append(line.strip())\n",
        "        i += 1"
      ],
      "metadata": {
        "id": "DZXiVJ7tMSjI"
      },
      "execution_count": null,
      "outputs": []
    },
    {
      "cell_type": "code",
      "source": [
        "def move(x, y, direction):\n",
        "    if direction == '^':\n",
        "        return x - 1, y\n",
        "    elif direction == '>':\n",
        "        return x, y + 1\n",
        "    elif direction == 'v':\n",
        "        return x + 1, y\n",
        "    elif direction == '<':\n",
        "        return x, y - 1\n",
        "    return x, y\n",
        "\n",
        "\n",
        "def turn_right(direction):\n",
        "    direction_idx = clockwise_directions.index(direction)\n",
        "    direction_idx = (direction_idx + 1) % 4\n",
        "    return clockwise_directions[direction_idx]"
      ],
      "metadata": {
        "id": "zihKrvBiSWXf"
      },
      "execution_count": null,
      "outputs": []
    },
    {
      "cell_type": "code",
      "source": [
        "def simulate_guard_path(map, current_i, current_j, current_direction):\n",
        "    visited_set = set()\n",
        "    visited_set.add((current_i, current_j, current_direction))\n",
        "    loop_flag = False\n",
        "    while current_i != 0 and current_i != (len(map) - 1) and current_j != 0 and current_j != (len(map[0]) - 1):\n",
        "        new_i, new_j = move(current_i, current_j, current_direction)\n",
        "        while map[new_i][new_j] == '#':\n",
        "            current_direction = turn_right(current_direction)\n",
        "            new_i, new_j = move(current_i, current_j, current_direction)\n",
        "        if (new_i, new_j, current_direction) in visited_set:\n",
        "            loop_flag = True\n",
        "            break\n",
        "        current_i, current_j = new_i, new_j\n",
        "        visited_set.add((current_i, current_j, current_direction))\n",
        "    return visited_set, loop_flag"
      ],
      "metadata": {
        "id": "ZETnoQKSSXLW"
      },
      "execution_count": null,
      "outputs": []
    },
    {
      "cell_type": "code",
      "source": [
        "visited_set, flag = simulate_guard_path(data_map, current_i, current_j, current_direction)\n",
        "count_obstructions = 0\n",
        "set_obstructions = set()"
      ],
      "metadata": {
        "id": "oXG-46jjuHIm"
      },
      "execution_count": null,
      "outputs": []
    },
    {
      "cell_type": "code",
      "source": [
        "for spot in visited_set:\n",
        "    i = spot[0]\n",
        "    j = spot[1]\n",
        "    if (i, j) in set_obstructions:\n",
        "        continue\n",
        "    new_map = [list(row) for row in data_map]\n",
        "    new_map[i][j] = '#'\n",
        "    new_visited, loop_flag = simulate_guard_path(new_map, current_i, current_j, current_direction)\n",
        "    if loop_flag:\n",
        "        set_obstructions.add((i, j))\n"
      ],
      "metadata": {
        "id": "7XbtfXTds29c"
      },
      "execution_count": null,
      "outputs": []
    },
    {
      "cell_type": "code",
      "source": [
        "len(set_obstructions)"
      ],
      "metadata": {
        "id": "AadwV1XYyTnU"
      },
      "execution_count": null,
      "outputs": []
    },
    {
      "cell_type": "markdown",
      "source": [
        "# Day 7\n",
        "## Part 1"
      ],
      "metadata": {
        "id": "hl8KLOEi5efl"
      }
    },
    {
      "cell_type": "code",
      "source": [
        "answers_list = []\n",
        "equations_list = []\n",
        "with open('input.txt') as file:\n",
        "    for line in file:\n",
        "        line = line.strip().split(':')\n",
        "        answers_list.append(int(line[0]))\n",
        "        equations_list.append(list(map(int, line[1].strip().split())))"
      ],
      "metadata": {
        "id": "sXpGJRri9vml"
      },
      "execution_count": null,
      "outputs": []
    },
    {
      "cell_type": "code",
      "source": [
        "#possible_options = []\n",
        "def dfs(arr, res, real_answer, flag):\n",
        "    if not arr:\n",
        "        return res == real_answer or flag\n",
        "    current_num = arr[0]\n",
        "    flag = dfs(arr[1:], current_num + res, real_answer, flag)\n",
        "    flag = dfs(arr[1:], current_num * res, real_answer, flag)\n",
        "    return flag"
      ],
      "metadata": {
        "id": "7Ify__XR_lUQ"
      },
      "execution_count": null,
      "outputs": []
    },
    {
      "cell_type": "code",
      "source": [
        "res_answer = 0\n",
        "for ans, eq in zip(answers_list, equations_list):\n",
        "    current_num = eq.pop(0)\n",
        "    if dfs(eq, current_num, ans, False):\n",
        "        res_answer += ans"
      ],
      "metadata": {
        "id": "6RwWDkfQ-rGx"
      },
      "execution_count": null,
      "outputs": []
    },
    {
      "cell_type": "code",
      "source": [
        "res_answer"
      ],
      "metadata": {
        "id": "mugQoTBx2fnW"
      },
      "execution_count": null,
      "outputs": []
    },
    {
      "cell_type": "markdown",
      "source": [
        "## Part 2"
      ],
      "metadata": {
        "id": "dFlL4O2VFhS0"
      }
    },
    {
      "cell_type": "code",
      "source": [
        "def dfs(arr, res, real_answer, flag):\n",
        "    if not arr:\n",
        "        return res == real_answer or flag\n",
        "    current_num = arr[0]\n",
        "    flag = dfs(arr[1:], current_num + res, real_answer, flag)\n",
        "    flag = dfs(arr[1:], current_num * res, real_answer, flag)\n",
        "    flag = dfs(arr[1:], int(str(res) + str(current_num)), real_answer, flag)\n",
        "    return flag"
      ],
      "metadata": {
        "id": "njeRijXpFiTu"
      },
      "execution_count": null,
      "outputs": []
    },
    {
      "cell_type": "code",
      "source": [
        "answers_list = []\n",
        "equations_list = []\n",
        "with open('input.txt') as file:\n",
        "    for line in file:\n",
        "        line = line.strip().split(':')\n",
        "        answers_list.append(int(line[0]))\n",
        "        equations_list.append(list(map(int, line[1].strip().split())))"
      ],
      "metadata": {
        "id": "ZRqVZrNIFmOP"
      },
      "execution_count": null,
      "outputs": []
    },
    {
      "cell_type": "code",
      "source": [
        "res_answer = 0\n",
        "for ans, eq in zip(answers_list, equations_list):\n",
        "    current_num = eq.pop(0)\n",
        "    if dfs(eq, current_num, ans, False):\n",
        "        res_answer += ans"
      ],
      "metadata": {
        "id": "1Azk6RycFoY-"
      },
      "execution_count": null,
      "outputs": []
    },
    {
      "cell_type": "code",
      "source": [
        "res_answer"
      ],
      "metadata": {
        "id": "E2rLgP6-Gj21"
      },
      "execution_count": null,
      "outputs": []
    },
    {
      "cell_type": "markdown",
      "source": [
        "# Day 8\n",
        "## Part 1"
      ],
      "metadata": {
        "id": "vKwHmtvgG6iC"
      }
    },
    {
      "cell_type": "code",
      "source": [
        "antenna_dict = {}\n",
        "i = 0\n",
        "m, n = 0, 0\n",
        "antenna_coord = set()\n",
        "with open('short_input.txt') as file:\n",
        "    for i, line in enumerate(file):\n",
        "        line = line.strip()\n",
        "        for j, ch in enumerate(line):\n",
        "            if ch != '.':\n",
        "                antenna_dict.setdefault(ch, []).append((i, j))\n",
        "m = i\n",
        "n = len(line) - 1"
      ],
      "metadata": {
        "id": "SPjM05oBG6D7"
      },
      "execution_count": null,
      "outputs": []
    },
    {
      "cell_type": "code",
      "source": [
        "antinode_set = set()\n",
        "for k, values in antenna_dict.items():\n",
        "    while values:\n",
        "        current = values.pop(0)\n",
        "        for val in values:\n",
        "            new_i_less = current[0] - (val[0] - current[0])\n",
        "            new_j_less = current[1] - (val[1] - current[1])\n",
        "\n",
        "            if (\n",
        "                0 <= new_i_less <= m and\n",
        "                0 <= new_j_less <= n\n",
        "                ):\n",
        "                antinode_set.add((new_i_less, new_j_less))\n",
        "\n",
        "            new_i_more = val[0] + (val[0] - current[0])\n",
        "            new_j_more = val[1] + (val[1] - current[1])\n",
        "\n",
        "            if (\n",
        "                0 <= new_i_more <= m and\n",
        "                0 <= new_j_more <= n\n",
        "                ):\n",
        "                antinode_set.add((new_i_more, new_j_more))"
      ],
      "metadata": {
        "id": "_ntyHDcEKOBy"
      },
      "execution_count": null,
      "outputs": []
    },
    {
      "cell_type": "code",
      "source": [
        "len(antinode_set)"
      ],
      "metadata": {
        "id": "Z7L9Q48YLdfc"
      },
      "execution_count": null,
      "outputs": []
    },
    {
      "cell_type": "markdown",
      "source": [
        "## Part 2"
      ],
      "metadata": {
        "id": "n9lGq1D-Q6qg"
      }
    },
    {
      "cell_type": "code",
      "source": [
        "antenna_dict = {}\n",
        "i = 0\n",
        "m, n = 0, 0\n",
        "antenna_coord = set()\n",
        "with open('input.txt') as file:\n",
        "    for i, line in enumerate(file):\n",
        "        line = line.strip()\n",
        "        for j, ch in enumerate(line):\n",
        "            if ch != '.':\n",
        "                antenna_dict.setdefault(ch, []).append((i, j))\n",
        "m = i\n",
        "n = len(line) - 1"
      ],
      "metadata": {
        "id": "Y7S7eJT5QLjK"
      },
      "execution_count": null,
      "outputs": []
    },
    {
      "cell_type": "code",
      "source": [
        "antinode_set = set()\n",
        "for values in antenna_dict.values():\n",
        "    while values:\n",
        "        current = values.pop(0)\n",
        "        antinode_set.add(current)\n",
        "        for val in values:\n",
        "            diff_i = val[0] - current[0]\n",
        "            diff_j = val[1] - current[1]\n",
        "            temp_i, temp_j = current\n",
        "            #print(val, diff_i, diff_j, temp_i, temp_j)\n",
        "            while 0 <= temp_i  - diff_i <= m and 0 <= temp_j - diff_j <= n:\n",
        "                temp_i -= diff_i\n",
        "                temp_j -= diff_j\n",
        "\n",
        "                antinode_set.add((temp_i, temp_j))\n",
        "\n",
        "            temp_i, temp_j = val\n",
        "            while 0 <= temp_i + diff_i <= m and 0 <= temp_j + diff_j <= n:\n",
        "                temp_i += diff_i\n",
        "                temp_j += diff_j\n",
        "                antinode_set.add((temp_i, temp_j))"
      ],
      "metadata": {
        "id": "zfFh_mq0Q9sU"
      },
      "execution_count": null,
      "outputs": []
    },
    {
      "cell_type": "code",
      "source": [
        "len(antinode_set)"
      ],
      "metadata": {
        "id": "y5PV6WxrSAT-"
      },
      "execution_count": null,
      "outputs": []
    },
    {
      "cell_type": "markdown",
      "source": [
        "# Day 9\n",
        "## Part 1"
      ],
      "metadata": {
        "id": "cJYh7rGqa9p-"
      }
    },
    {
      "cell_type": "code",
      "source": [
        "input_str = ''\n",
        "with open('input.txt') as file:\n",
        "    for line in file:\n",
        "        input_str += line.strip()"
      ],
      "metadata": {
        "id": "tSvgD9w5Z4xo"
      },
      "execution_count": null,
      "outputs": []
    },
    {
      "cell_type": "code",
      "source": [
        "values = []\n",
        "free_spaces = []\n",
        "keys = []\n",
        "for i, ch in enumerate(input_str):\n",
        "    if i % 2 == 0:\n",
        "        keys.append(i // 2)\n",
        "        values.append(int(ch))\n",
        "    else:\n",
        "        free_spaces.append(int(ch))"
      ],
      "metadata": {
        "id": "tw0ZbKyykzX4"
      },
      "execution_count": null,
      "outputs": []
    },
    {
      "cell_type": "code",
      "source": [
        "final_res = 0\n",
        "global_idx = 0\n",
        "while keys:\n",
        "    k = keys.pop(0)\n",
        "    v = values.pop(0)\n",
        "    final_res += sum(global_idx + i for i in range(v)) * k\n",
        "    global_idx += v\n",
        "    f_space = int(free_spaces.pop(0))\n",
        "    while values and f_space >= values[-1]:\n",
        "        v_end = values.pop()\n",
        "        k_end = keys.pop()\n",
        "        final_res += sum(global_idx + i for i in range(v_end)) * k_end\n",
        "        global_idx += v_end\n",
        "        f_space -= v_end\n",
        "    if values and f_space < values[-1]:\n",
        "        v_end = values.pop()\n",
        "        final_res += sum(global_idx + i for i in range(f_space)) * keys[-1]\n",
        "        global_idx += f_space\n",
        "        values.append(v_end - f_space)\n"
      ],
      "metadata": {
        "id": "Can_yj1zmGdB"
      },
      "execution_count": null,
      "outputs": []
    },
    {
      "cell_type": "code",
      "source": [
        "final_res"
      ],
      "metadata": {
        "id": "eJ5lwQANFWic"
      },
      "execution_count": null,
      "outputs": []
    },
    {
      "cell_type": "markdown",
      "source": [
        "## Part 2"
      ],
      "metadata": {
        "id": "8TFSdfA7ItDn"
      }
    },
    {
      "cell_type": "code",
      "source": [
        "input_str = ''\n",
        "with open('input.txt') as file:\n",
        "    for line in file:\n",
        "        input_str += line.strip()\n",
        "\n",
        "values = []\n",
        "free_spaces = []\n",
        "keys = []\n",
        "for i, ch in enumerate(input_str):\n",
        "    if i % 2 == 0:\n",
        "        keys.append(i // 2)\n",
        "        values.append(int(ch))\n",
        "    else:\n",
        "        free_spaces.append(int(ch))"
      ],
      "metadata": {
        "id": "j6qf19-K-LUt"
      },
      "execution_count": null,
      "outputs": []
    },
    {
      "cell_type": "code",
      "source": [
        "free_spaces"
      ],
      "metadata": {
        "id": "QA87G1mxIqNn"
      },
      "execution_count": null,
      "outputs": []
    },
    {
      "cell_type": "code",
      "source": [
        "keys"
      ],
      "metadata": {
        "id": "ho21MvklMBP7"
      },
      "execution_count": null,
      "outputs": []
    },
    {
      "cell_type": "code",
      "source": [
        "values"
      ],
      "metadata": {
        "id": "m7ArJI0FMBSi"
      },
      "execution_count": null,
      "outputs": []
    },
    {
      "cell_type": "code",
      "source": [
        "final_res = 0\n",
        "global_idx = 0\n",
        "copy_values = values[:]\n",
        "for idx in range(len(values)):\n",
        "    final_res += sum(global_idx + i for i in range(values[idx])) * keys[idx]\n",
        "    global_idx += copy_values[idx]\n",
        "    if idx < len(free_spaces):\n",
        "        free_space_current = free_spaces[idx]\n",
        "        for inverse_i in range(len(values) - 1, idx, -1):\n",
        "            if 0 < values[inverse_i] <= free_space_current:\n",
        "                final_res += sum(global_idx + i for i in range(values[inverse_i])) * keys[inverse_i]\n",
        "                global_idx += values[inverse_i]\n",
        "                free_space_current -= values[inverse_i]\n",
        "                values[inverse_i] = 0\n",
        "        free_spaces[idx] = free_space_current\n",
        "        if free_spaces[idx] > 0:\n",
        "            global_idx += free_spaces[idx]"
      ],
      "metadata": {
        "id": "RBrxUCNKP4sA"
      },
      "execution_count": null,
      "outputs": []
    },
    {
      "cell_type": "code",
      "source": [
        "final_res"
      ],
      "metadata": {
        "id": "ZFxm2_86O7uk"
      },
      "execution_count": null,
      "outputs": []
    },
    {
      "cell_type": "code",
      "source": [
        "s = '0099211177704403330000555506666000008888'\n",
        "ss = '0011123334455556666777888899'"
      ],
      "metadata": {
        "id": "WAFhbx12JKk2"
      },
      "execution_count": null,
      "outputs": []
    },
    {
      "cell_type": "markdown",
      "source": [
        "#Day 10"
      ],
      "metadata": {
        "id": "yFZPiAg2NzPi"
      }
    },
    {
      "cell_type": "code",
      "source": [
        "map = []\n",
        "zero_positions = []\n",
        "with open('input.txt') as file:\n",
        "    for i, line in enumerate(file):\n",
        "        line = line.strip()\n",
        "        current_line = []\n",
        "        for j, ch in enumerate(line):\n",
        "            if ch == '0':\n",
        "                zero_positions.append((i, j))\n",
        "            current_line.append(int(ch))\n",
        "        map.append(current_line)\n"
      ],
      "metadata": {
        "id": "FyU9gT7fKTAY"
      },
      "execution_count": null,
      "outputs": []
    },
    {
      "cell_type": "code",
      "source": [
        "def dfs(map, x, y, visited):\n",
        "    if (x, y) in visited:\n",
        "        return 0\n",
        "    if map[x][y] == 9:\n",
        "        visited.add((x, y))\n",
        "        return 1\n",
        "    count_nines = 0\n",
        "    directions = [(1, 0), (-1, 0), (0, 1), (0, -1)]\n",
        "    visited.add((x, y))\n",
        "    for dx, dy in directions:\n",
        "        nx, ny = x + dx, y + dy\n",
        "        if (\n",
        "            0 <= nx < len(map) and\n",
        "            0 <= ny < len(map[0])\n",
        "            ):\n",
        "            diff = map[nx][ny] - map[x][y]\n",
        "            if diff == 1:\n",
        "                count_nines += dfs(map, nx, ny, visited)\n",
        "    return count_nines"
      ],
      "metadata": {
        "id": "Xn8zHirvioVF"
      },
      "execution_count": null,
      "outputs": []
    },
    {
      "cell_type": "code",
      "source": [
        "res = 0\n",
        "for zero_pos in zero_positions:\n",
        "    visited = set()\n",
        "    res += dfs(map, zero_pos[0], zero_pos[1], visited)"
      ],
      "metadata": {
        "id": "Q8tNadEYVJZq"
      },
      "execution_count": null,
      "outputs": []
    },
    {
      "cell_type": "code",
      "source": [
        "res"
      ],
      "metadata": {
        "id": "yQEoROPfiy8n"
      },
      "execution_count": null,
      "outputs": []
    },
    {
      "cell_type": "markdown",
      "source": [
        "## Part 2"
      ],
      "metadata": {
        "id": "uJOOq1T2ffgf"
      }
    },
    {
      "cell_type": "code",
      "source": [
        "map = []\n",
        "zero_positions = []\n",
        "with open('input.txt') as file:\n",
        "    for i, line in enumerate(file):\n",
        "        line = line.strip()\n",
        "        current_line = []\n",
        "        for j, ch in enumerate(line):\n",
        "            if ch == '0':\n",
        "                zero_positions.append((i, j))\n",
        "            current_line.append(int(ch))\n",
        "        map.append(current_line)"
      ],
      "metadata": {
        "id": "P1aZ0_7MY8MV"
      },
      "execution_count": null,
      "outputs": []
    },
    {
      "cell_type": "code",
      "source": [
        "def dfs(map, x, y, visited):\n",
        "    if (x, y) in visited:\n",
        "        return 0\n",
        "    if map[x][y] == 9:\n",
        "        return 1\n",
        "    rating = 0\n",
        "    directions = [(1, 0), (-1, 0), (0, 1), (0, -1)]\n",
        "    visited.add((x, y))\n",
        "    for dx, dy in directions:\n",
        "        nx, ny = x + dx, y + dy\n",
        "        if (\n",
        "            0 <= nx < len(map) and\n",
        "            0 <= ny < len(map[0])\n",
        "            ):\n",
        "            diff = map[nx][ny] - map[x][y]\n",
        "            if diff == 1:\n",
        "                rating += dfs(map, nx, ny, visited)\n",
        "    visited.remove((x, y))\n",
        "    return rating"
      ],
      "metadata": {
        "id": "KZINjE5Vfhs0"
      },
      "execution_count": null,
      "outputs": []
    },
    {
      "cell_type": "code",
      "source": [
        "res = 0\n",
        "for zero_pos in zero_positions:\n",
        "    visited = set()\n",
        "    res += dfs(map, zero_pos[0], zero_pos[1], visited)"
      ],
      "metadata": {
        "id": "s4VBXvv6giko"
      },
      "execution_count": null,
      "outputs": []
    },
    {
      "cell_type": "code",
      "source": [
        "res"
      ],
      "metadata": {
        "id": "H_ArnkQcf91x"
      },
      "execution_count": null,
      "outputs": []
    },
    {
      "cell_type": "markdown",
      "source": [
        "# Day 11\n",
        "## Part 1"
      ],
      "metadata": {
        "id": "_5yW9b-0t_mc"
      }
    },
    {
      "cell_type": "code",
      "source": [
        "def transform_rules(num_str):\n",
        "    if num_str == '0':\n",
        "        return ['1']\n",
        "    elif len(num_str) % 2 == 0:\n",
        "        half = len(num_str) // 2\n",
        "        first_half = num_str[:half]\n",
        "        second_half = str(int(num_str[half:]))\n",
        "        return [first_half, second_half]\n",
        "    else:\n",
        "      return [str(int(num_str) * 2024)]\n"
      ],
      "metadata": {
        "id": "TZrHBk-XuRgs"
      },
      "execution_count": null,
      "outputs": []
    },
    {
      "cell_type": "code",
      "source": [
        "input_list = []\n",
        "with open('short_input.txt') as file:\n",
        "    for line in file:\n",
        "        input_line = line.strip()\n",
        "        input_list.extend(input_line.split())\n",
        "print(input_list)"
      ],
      "metadata": {
        "id": "goZe4xfawgUd"
      },
      "execution_count": null,
      "outputs": []
    },
    {
      "cell_type": "code",
      "source": [
        "count_blinks = 25\n",
        "for _ in range(count_blinks):\n",
        "    new_list = []\n",
        "    for i in input_list:\n",
        "        new_list.extend(transform_rules(i))\n",
        "    input_list = new_list\n",
        "print(len(input_list))"
      ],
      "metadata": {
        "id": "WgNDr1mVxEkS"
      },
      "execution_count": null,
      "outputs": []
    },
    {
      "cell_type": "markdown",
      "source": [
        "## Part 2"
      ],
      "metadata": {
        "id": "eAoitCb00DKL"
      }
    },
    {
      "cell_type": "code",
      "source": [
        "from collections import defaultdict\n",
        "input_list = []\n",
        "with open('input.txt') as file:\n",
        "    for line in file:\n",
        "        input_line = line.strip()\n",
        "        input_list.extend(input_line.split())\n",
        "print(input_list)"
      ],
      "metadata": {
        "id": "QzCMCeFxyelT"
      },
      "execution_count": null,
      "outputs": []
    },
    {
      "cell_type": "code",
      "source": [
        "input_list_int = list(map(int, input_list))\n",
        "input_list_int"
      ],
      "metadata": {
        "id": "oKtStcETvw4Y"
      },
      "execution_count": null,
      "outputs": []
    },
    {
      "cell_type": "code",
      "source": [
        "def count_stones(stones_list_int, blinks):\n",
        "    stone_dict = defaultdict(int)\n",
        "    for stone in stones_list_int:\n",
        "        stone_dict[stone] += 1\n",
        "\n",
        "    for _ in range(blinks):\n",
        "        next_stone_dict = defaultdict(int)\n",
        "        for stone, count in stone_dict.items():\n",
        "            if stone == 0:\n",
        "                next_stone_dict[1] += count\n",
        "            elif len(str(stone)) % 2 == 0:\n",
        "                str_stone = str(stone)\n",
        "                mid = len(str_stone) // 2\n",
        "                left, right = int(str_stone[:mid]), int(str_stone[mid:])\n",
        "                next_stone_dict[left] += count\n",
        "                next_stone_dict[right] += count\n",
        "            else:\n",
        "                next_stone_dict[stone * 2024] += count\n",
        "        stone_dict = next_stone_dict\n",
        "    #print(stone_dict)\n",
        "    return sum(stone_dict.values())"
      ],
      "metadata": {
        "id": "Z_9TZq0Ev4So"
      },
      "execution_count": null,
      "outputs": []
    },
    {
      "cell_type": "code",
      "source": [
        "count_stones(input_list_int, 75)"
      ],
      "metadata": {
        "id": "lYSZFNwpv6CA"
      },
      "execution_count": null,
      "outputs": []
    },
    {
      "cell_type": "markdown",
      "source": [
        "# Day 12\n",
        "## Part 1"
      ],
      "metadata": {
        "id": "q0caDTHM2wjo"
      }
    },
    {
      "cell_type": "code",
      "source": [
        "map = []\n",
        "with open('input.txt') as file:\n",
        "    for i, line in enumerate(file):\n",
        "        line = line.strip()\n",
        "        map.append(line)"
      ],
      "metadata": {
        "id": "Qs5D3v5Rv68k"
      },
      "execution_count": null,
      "outputs": []
    },
    {
      "cell_type": "code",
      "source": [
        "m, n = len(map), len(map[0])"
      ],
      "metadata": {
        "id": "DA1DNdzAQ6Gb"
      },
      "execution_count": null,
      "outputs": []
    },
    {
      "cell_type": "code",
      "source": [
        "def dfs(map, i, j, plant_type, visited):\n",
        "    rows, cols = len(map), len(map[0])\n",
        "    stack = [(i, j)]\n",
        "    area = 0\n",
        "    perimeter = 0\n",
        "\n",
        "    directions = [(-1, 0), (1, 0), (0, -1), (0, 1)]\n",
        "    while stack:\n",
        "        x, y = stack.pop()\n",
        "        if visited[x][y]:\n",
        "            continue\n",
        "        visited[x][y] = True\n",
        "        area += 1\n",
        "\n",
        "        for dx, dy in directions:\n",
        "            nx, ny = x + dx, y + dy\n",
        "            if (\n",
        "                nx < 0 or nx >= rows or\n",
        "                ny < 0 or ny >= cols or\n",
        "                map[nx][ny] != plant_type\n",
        "                ):\n",
        "                perimeter += 1\n",
        "            if (\n",
        "                0 <= nx < rows and\n",
        "                0 <= ny < cols and\n",
        "                not visited[nx][ny] and\n",
        "                map[nx][ny] == plant_type\n",
        "                ):\n",
        "                    stack.append((nx, ny))\n",
        "    return area, perimeter\n"
      ],
      "metadata": {
        "id": "DuLuewqSV-BZ"
      },
      "execution_count": null,
      "outputs": []
    },
    {
      "cell_type": "code",
      "source": [
        "rows, cols = len(map), len(map[0])\n",
        "visited = [[False for _ in range(cols)] for _ in range(rows)]\n",
        "total_cost = 0\n",
        "for i in range(rows):\n",
        "    for j in range(cols):\n",
        "        if not visited[i][j]:\n",
        "            plant_type = map[i][j]\n",
        "            area_size, perimeter = dfs(map, i, j, plant_type, visited)\n",
        "            #print(area_size, perimeter, plant_type)\n",
        "            total_cost += (area_size * perimeter)\n",
        "print(total_cost)"
      ],
      "metadata": {
        "id": "sRleq4pZXx4m"
      },
      "execution_count": null,
      "outputs": []
    },
    {
      "cell_type": "markdown",
      "source": [
        "## Part 2"
      ],
      "metadata": {
        "id": "LTvdwTBUawPX"
      }
    },
    {
      "cell_type": "code",
      "source": [
        "map = []\n",
        "with open('input.txt') as file:\n",
        "    for i, line in enumerate(file):\n",
        "        line = line.strip()\n",
        "        map.append(line)"
      ],
      "metadata": {
        "id": "H_pNdolNXx88"
      },
      "execution_count": null,
      "outputs": []
    },
    {
      "cell_type": "code",
      "source": [
        "def check_external_angel(map, i, j, plant_type):\n",
        "    directions = [(-1, 0), (0, 1), (1, 0), (0, -1)]\n",
        "    n_list = []\n",
        "\n",
        "    for idx, (dx, dy) in enumerate(directions):\n",
        "        nx, ny = i + dx, j + dy\n",
        "        if 0 <= nx < rows and 0 <= ny < cols and map[nx][ny] == plant_type:\n",
        "            n_list.append(idx)\n",
        "    if len(n_list) == 4:\n",
        "        if (map[i - 1][j - 1] == map[i + 1][j - 1] ==\n",
        "            map[i + 1][j + 1] == map[i - 1][j + 1] == plant_type):\n",
        "            return 4\n",
        "        return 3\n",
        "\n",
        "    if len(n_list) == 3:\n",
        "        return 2\n",
        "\n",
        "    if len(n_list) == 2:\n",
        "        if n_list[1] - n_list[0] != 2:\n",
        "            if (n_list == [1, 2] and map[i + 1][j + 1] != plant_type) or \\\n",
        "               (n_list == [0, 3] and map[i - 1][j - 1] != plant_type) or \\\n",
        "               (n_list == [0, 1] and map[i - 1][j + 1] != plant_type) or \\\n",
        "               (n_list == [2, 3] and map[i + 1][j - 1] != plant_type):\n",
        "                return 0\n",
        "            return 1\n",
        "        return 1\n",
        "\n",
        "    return 0"
      ],
      "metadata": {
        "id": "DK_0NCqQ7gVf"
      },
      "execution_count": null,
      "outputs": []
    },
    {
      "cell_type": "code",
      "source": [
        "def dfs(map, i, j, plant_type, visited):\n",
        "    rows, cols = len(map), len(map[0])\n",
        "    stack = [(i, j)]\n",
        "    directions = [(-1, 0), (0, 1), (1, 0), (0, -1)]\n",
        "    area = 0\n",
        "    internal_angels = []\n",
        "    external_angels = []\n",
        "    external_set = set()\n",
        "    ext_count = 0\n",
        "\n",
        "    while stack:\n",
        "        x, y = stack.pop()\n",
        "        if visited[x][y]:\n",
        "            continue\n",
        "        visited[x][y] = True\n",
        "        area += 1\n",
        "        perimeter_list = []\n",
        "        perimeter = 0\n",
        "        for i, d in enumerate(directions):\n",
        "            dx, dy = d[0], d[1]\n",
        "            nx, ny = x + dx, y + dy\n",
        "\n",
        "            if (\n",
        "                nx < 0 or nx >= rows or\n",
        "                ny < 0 or ny >= cols or\n",
        "                map[nx][ny] != plant_type\n",
        "                ):\n",
        "                perimeter += 1\n",
        "                perimeter_list.append(i)\n",
        "            if (\n",
        "                0 <= nx < rows and\n",
        "                0 <= ny < cols and\n",
        "                not visited[nx][ny] and\n",
        "                map[nx][ny] == plant_type\n",
        "                ):\n",
        "                    stack.append((nx, ny))\n",
        "            elif (\n",
        "                0 <= nx < rows and\n",
        "                0 <= ny < cols and\n",
        "                map[nx][ny] != plant_type):\n",
        "                ext = check_external_angel(map, nx, ny, plant_type)\n",
        "                if ext > 0 and (nx, ny) not in external_set:\n",
        "                    ext_count += ext\n",
        "                    external_set.add((nx, ny))\n",
        "        if perimeter == 3:\n",
        "            internal_angels.append(2)\n",
        "        elif perimeter == 2:\n",
        "            if perimeter_list[1] - perimeter_list[0] != 2:\n",
        "                internal_angels.append(1)\n",
        "        elif perimeter == 4:\n",
        "            internal_angels.append(4)\n",
        "    res = sum(internal_angels) + ext_count\n",
        "    #print(internal_angels, external_set, res, ext_count, area)\n",
        "    return res, area"
      ],
      "metadata": {
        "id": "yVonDXrebUbg"
      },
      "execution_count": null,
      "outputs": []
    },
    {
      "cell_type": "code",
      "source": [
        "rows, cols = len(map), len(map[0])\n",
        "visited = [[False for _ in range(cols)] for _ in range(rows)]\n",
        "total_cost = 0\n",
        "temp_dict_2 = {}\n",
        "for i in range(rows):\n",
        "    for j in range(cols):\n",
        "        if not visited[i][j]:\n",
        "            plant_type = map[i][j]\n",
        "            sides_count, area = dfs(map, i, j, plant_type, visited)\n",
        "            #print(plant_type, sides_count, area)\n",
        "            total_cost += (sides_count * area)\n",
        "            if plant_type not in temp_dict_2:\n",
        "                temp_dict_2[plant_type] = [(area, sides_count)]\n",
        "            else: temp_dict_2[plant_type].append((area, sides_count))\n",
        "print(total_cost)"
      ],
      "metadata": {
        "id": "e3IyJoAxVM1b"
      },
      "execution_count": null,
      "outputs": []
    },
    {
      "cell_type": "markdown",
      "source": [
        "# Day 13\n",
        "## Part 1"
      ],
      "metadata": {
        "id": "1B76rIO3Jzwe"
      }
    },
    {
      "cell_type": "code",
      "source": [
        "import re\n",
        "with open('input.txt') as file:\n",
        "    file_content = file.read()\n",
        "\n",
        "pattern = re.compile(\n",
        "    r\"Button A: X\\+(\\d+), Y\\+(\\d+)\\n\"\n",
        "    r\"Button B: X\\+(\\d+), Y\\+(\\d+)\\n\"\n",
        "    r\"Prize: X=(\\d+), Y=(\\d+)\"\n",
        ")\n",
        "\n",
        "machines = [\n",
        "    tuple(map(int, match))\n",
        "    for match in pattern.findall(file_content)\n",
        "]\n",
        "\n",
        "print(\"machines =\", machines)"
      ],
      "metadata": {
        "id": "6qeWjUnrJnhl"
      },
      "execution_count": null,
      "outputs": []
    },
    {
      "cell_type": "code",
      "source": [
        "res = []\n",
        "acc_sum = 0\n",
        "for ax, ay, bx, by, px, py in machines:\n",
        "    #print(ax, ay, bx, by, px, py)\n",
        "    for i in range(101):\n",
        "        for j in range(101, 0, -1):\n",
        "            eq_1 = ax * i + bx * j\n",
        "            eq_2 = ay * i + by * j\n",
        "            if eq_1 == px and eq_2 == py:\n",
        "                res.append((i, j))\n",
        "                acc_sum += (3 * i + j)\n",
        "                break\n",
        "print(acc_sum)\n"
      ],
      "metadata": {
        "id": "0ZHjVSpKLx7Q"
      },
      "execution_count": null,
      "outputs": []
    },
    {
      "cell_type": "markdown",
      "source": [
        "## Part 2"
      ],
      "metadata": {
        "id": "00tyHnPfwFMw"
      }
    },
    {
      "cell_type": "code",
      "source": [
        "import re\n",
        "with open('input.txt') as file:\n",
        "    file_content = file.read()\n",
        "\n",
        "pattern = re.compile(\n",
        "    r\"Button A: X\\+(\\d+), Y\\+(\\d+)\\n\"\n",
        "    r\"Button B: X\\+(\\d+), Y\\+(\\d+)\\n\"\n",
        "    r\"Prize: X=(\\d+), Y=(\\d+)\"\n",
        ")\n",
        "\n",
        "machines = [\n",
        "    tuple(map(int, match))\n",
        "    for match in pattern.findall(file_content)\n",
        "]\n",
        "\n",
        "print(\"machines =\", machines)"
      ],
      "metadata": {
        "id": "A5tLjy8ZXxML"
      },
      "execution_count": null,
      "outputs": []
    },
    {
      "cell_type": "code",
      "source": [
        "from sympy import symbols, Eq, solve\n",
        "ten_trillion = 10000000000000"
      ],
      "metadata": {
        "id": "tllKBd2EwLCB"
      },
      "execution_count": null,
      "outputs": []
    },
    {
      "cell_type": "code",
      "source": [
        "def solve_equation(ax, ay, bx, by, px, py):\n",
        "    token = 0\n",
        "    a, b = symbols('a b', integer=True)\n",
        "    eq1 = Eq(ax * a + bx * b, ten_trillion + px)\n",
        "    eq2 = Eq(ay * a + by * b, ten_trillion + py)\n",
        "    solution = solve((eq1, eq2), (a, b))\n",
        "    if solution:\n",
        "        token += (solution[a] * 3 + solution[b] * 1)\n",
        "    return token"
      ],
      "metadata": {
        "id": "hvf8pOk8wq1M"
      },
      "execution_count": null,
      "outputs": []
    },
    {
      "cell_type": "code",
      "source": [
        "acc_sum = 0\n",
        "for ax, ay, bx, by, px, py in machines:\n",
        "    #print(ax, ay, bx, by, px, py)\n",
        "    acc_sum += solve_equation(ax, ay, bx, by, px, py)\n",
        "print(acc_sum)"
      ],
      "metadata": {
        "id": "EzUHZp4wbSsk"
      },
      "execution_count": null,
      "outputs": []
    },
    {
      "cell_type": "markdown",
      "source": [
        "# Day 14\n",
        "## Part 1"
      ],
      "metadata": {
        "id": "C1H0IzmH1Xhq"
      }
    },
    {
      "cell_type": "code",
      "source": [
        "pattern = re.compile(r\"-?\\d+\")\n",
        "input_list = []\n",
        "with open('input.txt') as file:\n",
        "    for line in file:\n",
        "        numbers_in_line = pattern.findall(line)\n",
        "        input_list.append(list(map(int, numbers_in_line)))"
      ],
      "metadata": {
        "id": "4mv_S0FMyAKE"
      },
      "execution_count": null,
      "outputs": []
    },
    {
      "cell_type": "code",
      "source": [
        "def calc_new_position(wide, tall, seconds, p_1, p_2, v_1, v_2):\n",
        "    a, b = p_1, p_2\n",
        "    for i in range(seconds):\n",
        "        a += v_1\n",
        "        b += v_2\n",
        "    return (a%wide, b%tall)"
      ],
      "metadata": {
        "id": "oNzfNaN11_jl"
      },
      "execution_count": null,
      "outputs": []
    },
    {
      "cell_type": "code",
      "source": [
        "new_pos_list = []\n",
        "for  p_1, p_2, v_1, v_2 in input_list:\n",
        "    wide = 101\n",
        "    tall = 103\n",
        "    seconds = 100\n",
        "    new_pos_list.append(calc_new_position(wide, tall, seconds, p_1, p_2, v_1, v_2))"
      ],
      "metadata": {
        "id": "6xSMhK_16twr"
      },
      "execution_count": null,
      "outputs": []
    },
    {
      "cell_type": "code",
      "source": [
        "new_pos_list.sort(key = lambda x: (x[0], x[1]))\n",
        "quadrant_list = [0, 0, 0, 0]\n",
        "\n",
        "half_vertical = wide // 2\n",
        "half_horizontal = tall // 2\n",
        "\n",
        "for pos in new_pos_list:\n",
        "    if pos[0] < half_vertical and pos[1] < half_horizontal:\n",
        "        quadrant_list[0] += 1\n",
        "    elif pos[0] > half_vertical and pos[1] < half_horizontal:\n",
        "        quadrant_list[1] += 1\n",
        "    elif pos[0] < half_vertical and pos[1] > half_horizontal:\n",
        "        quadrant_list[2] += 1\n",
        "    elif pos[0] > half_vertical and pos[1] > half_horizontal:\n",
        "        quadrant_list[3] += 1\n",
        "    #print(pos, quadrant_list)"
      ],
      "metadata": {
        "id": "HfvO090e7GgY"
      },
      "execution_count": null,
      "outputs": []
    },
    {
      "cell_type": "code",
      "source": [
        "res = 1\n",
        "for robot_count in quadrant_list:\n",
        "    res *= robot_count\n",
        "print(res)"
      ],
      "metadata": {
        "id": "6JP5xvrZ7HVA"
      },
      "execution_count": null,
      "outputs": []
    },
    {
      "cell_type": "markdown",
      "source": [
        "## Part 2"
      ],
      "metadata": {
        "id": "jciq-W29Aycb"
      }
    },
    {
      "cell_type": "code",
      "source": [
        "import numpy as np\n",
        "import matplotlib.pyplot as plt\n",
        "from matplotlib.animation import FuncAnimation\n",
        "import ipywidgets as widgets\n",
        "from IPython.display import display\n",
        "import re"
      ],
      "metadata": {
        "id": "QYKwTJT48f5w"
      },
      "execution_count": null,
      "outputs": []
    },
    {
      "cell_type": "code",
      "source": [
        "pattern = re.compile(r\"-?\\d+\")\n",
        "input_list = []\n",
        "with open('input.txt') as file:\n",
        "    for line in file:\n",
        "        numbers_in_line = pattern.findall(line)\n",
        "        input_list.append(list(map(int, numbers_in_line)))"
      ],
      "metadata": {
        "id": "Gus-ICg9A9Kc"
      },
      "execution_count": null,
      "outputs": []
    },
    {
      "cell_type": "code",
      "source": [
        "new_pos_dict = {}\n",
        "seconds = 10001\n",
        "wide = 101\n",
        "tall = 103\n",
        "for p_1, p_2, v_1, v_2 in input_list:\n",
        "    a, b = p_1, p_2\n",
        "    for i in range(1, seconds):\n",
        "        a += v_1\n",
        "        b += v_2\n",
        "        position = (a % wide, b % tall)\n",
        "        if i not in new_pos_dict:\n",
        "            new_pos_dict[i] = [position]\n",
        "        else:\n",
        "            new_pos_dict[i].append(position)"
      ],
      "metadata": {
        "id": "tvwL96jgBBmk"
      },
      "execution_count": null,
      "outputs": []
    },
    {
      "cell_type": "code",
      "source": [
        "def create_plot(step):\n",
        "    plt.figure(figsize=(8, 6))\n",
        "    fig, ax = plt.subplots()\n",
        "    ax.set_xlim(-1, wide + 2)\n",
        "    ax.set_ylim(-1, tall + 2)\n",
        "\n",
        "    for pos_list in new_pos_dict[step]:\n",
        "        x, y = pos_list\n",
        "        plt.plot(x, y, 'o', markersize=5)\n",
        "\n",
        "    plt.title(f\"Step {step}\")\n",
        "    plt.xlabel(\"X\")\n",
        "    plt.ylabel(\"Y\")\n",
        "    plt.grid(True)\n",
        "    plt.show()\n",
        "\n",
        "def update_plot(change):\n",
        "    create_plot(change['new'])\n",
        "\n",
        "limit_slider = widgets.IntSlider(value=1, min=7890, max=7900, step=1, description='Seconds: ')\n",
        "limit_slider.observe(update_plot, 'value')\n",
        "display(limit_slider)\n",
        "create_plot(limit_slider.value)"
      ],
      "metadata": {
        "id": "zY_f0oM5BC_6"
      },
      "execution_count": null,
      "outputs": []
    },
    {
      "cell_type": "code",
      "source": [
        "from IPython.display import HTML\n",
        "fig, ax = plt.subplots(figsize=(8, 6))\n",
        "ax.set_xlim(-1, wide + 2)\n",
        "ax.set_ylim(-1, tall + 2)\n",
        "ax.set_xlabel(\"X\")\n",
        "ax.set_ylabel(\"Y\")\n",
        "ax.grid(True)\n",
        "\n",
        "scatter = ax.scatter([], [], s = 50, c = 'g')\n",
        "\n",
        "def update(frame):\n",
        "    positions = new_pos_dict[frame]\n",
        "    x, y = zip(*positions)\n",
        "    scatter.set_offsets(np.c_[x, y])\n",
        "    ax.set_title(f\"Time: {frame} seconds\")\n",
        "    return scatter,\n",
        "\n",
        "seconds = 8000\n",
        "ani = FuncAnimation(fig, update, frames=range(7000, seconds), interval=100, blit=True)\n",
        "\n",
        "ani.save('animation_7_8_20.gif', writer='imagemagick', fps=20)\n",
        "print(\"GIF saved as 'animation.gif'\")"
      ],
      "metadata": {
        "id": "bHWcU-DwBNu9"
      },
      "execution_count": null,
      "outputs": []
    },
    {
      "cell_type": "markdown",
      "source": [
        "# Day 15\n",
        "## Part 1"
      ],
      "metadata": {
        "id": "3Ub7CFTCsi4y"
      }
    },
    {
      "cell_type": "code",
      "source": [
        "map = []\n",
        "directions_str = ''\n",
        "start_position = (0, 0)\n",
        "with open('input.txt') as file:\n",
        "    for idx, line in enumerate(file):\n",
        "        line = line.strip()\n",
        "        if line and ('<' not in line or '>' not in line):\n",
        "            curr = []\n",
        "            for i in line:\n",
        "                curr.append(i)\n",
        "            map.append(curr)\n",
        "            if '@' in line:\n",
        "                j = line.find('@')\n",
        "                start_position = (idx, j)\n",
        "        elif '<' in line:\n",
        "            directions_str += line"
      ],
      "metadata": {
        "id": "6SpuhVCRsMHH"
      },
      "execution_count": null,
      "outputs": []
    },
    {
      "cell_type": "code",
      "source": [
        "start_position"
      ],
      "metadata": {
        "id": "0GSgS66tI0U8"
      },
      "execution_count": null,
      "outputs": []
    },
    {
      "cell_type": "code",
      "source": [
        "directions_dict = {\n",
        "    '>': (0, 1),\n",
        "    'v': (1, 0),\n",
        "    '<': (0, -1),\n",
        "    '^': (-1, 0)\n",
        "}"
      ],
      "metadata": {
        "id": "alMpf8Glue6d"
      },
      "execution_count": null,
      "outputs": []
    },
    {
      "cell_type": "code",
      "source": [
        "def create_new_string_r(current_string, x, y):\n",
        "    str_before = current_string[:y]\n",
        "    str_after = current_string[y:]\n",
        "    if '#' in str_after:\n",
        "        hashtag_idx = str_after.index('#')\n",
        "        str_before_hashtag = str_after[:hashtag_idx]\n",
        "        str_after_hashtag = str_after[hashtag_idx:]\n",
        "        if '.' in str_before_hashtag:\n",
        "            r_dot = str_before_hashtag.index('.')\n",
        "            str_before_dot = str_before_hashtag[:r_dot]\n",
        "            str_after_dot = str_before_hashtag[r_dot + 1:]\n",
        "            new_str = str_before + ['.'] + str_before_dot + str_after_dot + str_after_hashtag\n",
        "            if len(new_str) != len(current_string):\n",
        "                print('ALERT!!!: R\\n', new_str, '\\n', current_string, '\\n', x, y)\n",
        "            return new_str, x, y + 1\n",
        "        else:\n",
        "            return current_string, x, y\n",
        "    #print(current_string, r_dot)\n",
        "    else:\n",
        "        return current_string, x, y"
      ],
      "metadata": {
        "id": "cNSLsKmoHbEO"
      },
      "execution_count": null,
      "outputs": []
    },
    {
      "cell_type": "code",
      "source": [
        "def create_new_string_l(current_string, x, y):\n",
        "    str_before = current_string[:y + 1]\n",
        "    str_after = current_string[y + 1:]\n",
        "    if '#' in str_before:\n",
        "        hashtag_idx = len(str_before) - 1 - str_before[::-1].index('#')\n",
        "        str_before_hashtag = str_before[:hashtag_idx]\n",
        "        str_after_hashtag = str_before[hashtag_idx:]\n",
        "        if '.' in str_after_hashtag:\n",
        "            l_dot = len(str_after_hashtag) - 1 - str_after_hashtag[::-1].index('.')\n",
        "            str_before_dot = str_after_hashtag[:l_dot]\n",
        "            str_after_dot = str_after_hashtag[l_dot + 1:]\n",
        "            new_str = str_before_hashtag + str_before_dot + str_after_dot + ['.'] + str_after\n",
        "            if len(new_str) != len(current_string):\n",
        "                print('ALERT!!!: L', current_string, x, y)\n",
        "            return new_str, x, y - 1\n",
        "        else:\n",
        "            return current_string, x, y\n",
        "    else:\n",
        "        return current_string, x, y"
      ],
      "metadata": {
        "id": "V7GNeC5-GQ0R"
      },
      "execution_count": null,
      "outputs": []
    },
    {
      "cell_type": "code",
      "source": [
        "def move_map(x, y, direction):\n",
        "    if direction == '<':\n",
        "        current_string = map[x]\n",
        "        new_str, nx, ny = create_new_string_l(current_string, x, y)\n",
        "        map[x] = new_str\n",
        "        return nx, ny\n",
        "    elif direction == '>':\n",
        "        current_string = map[x]\n",
        "        new_str, nx, ny = create_new_string_r(current_string, x, y)\n",
        "        map[x] = new_str\n",
        "        return nx, ny\n",
        "    elif direction == '^':\n",
        "        current_string = []\n",
        "        for i in map:\n",
        "            current_string.append(i[y])\n",
        "        new_str, ny, nx = create_new_string_l(current_string, y, x)\n",
        "        for i, line in enumerate(map):\n",
        "            map[i] = line[:y] +  [new_str[i]] + line[y + 1:]\n",
        "        return nx, ny\n",
        "    elif direction == 'v':\n",
        "        current_string = []\n",
        "        for i in map:\n",
        "            current_string.append(i[y])\n",
        "        new_str, ny, nx = create_new_string_r(current_string, y, x)\n",
        "        for i, line in enumerate(map):\n",
        "            map[i] = line[:y] +  [new_str[i]] + line[y + 1:]\n",
        "        return nx, ny"
      ],
      "metadata": {
        "id": "A2qiC_YDxsnQ"
      },
      "execution_count": null,
      "outputs": []
    },
    {
      "cell_type": "code",
      "source": [
        "def next_move(x, y, direction):\n",
        "    dx, dy = directions_dict[direction]\n",
        "    nx, ny = x + dx, y + dy\n",
        "    if map[nx][ny] == '.':\n",
        "        map[x][y] = '.'\n",
        "        return nx, ny\n",
        "    elif map[nx][ny] == '#':\n",
        "        return x, y\n",
        "    elif map[nx][ny] == 'O':\n",
        "        nx, ny = move_map(x, y, direction)\n",
        "        return nx, ny"
      ],
      "metadata": {
        "id": "YfbKiVLTu9Bq"
      },
      "execution_count": null,
      "outputs": []
    },
    {
      "cell_type": "code",
      "source": [
        "x, y = start_position\n",
        "for d in directions_str:\n",
        "    x, y = next_move(x, y, d)\n",
        "    map[x][y] = '@'"
      ],
      "metadata": {
        "id": "nlnLvzIxBWvO"
      },
      "execution_count": null,
      "outputs": []
    },
    {
      "cell_type": "code",
      "source": [
        "acc_sum = 0\n",
        "for i in range(len(map)):\n",
        "    for j in range(len(map[0])):\n",
        "        if map[i][j] == 'O':\n",
        "            acc_sum += (100 * i + j)\n"
      ],
      "metadata": {
        "id": "lMZhgXSVDY63"
      },
      "execution_count": null,
      "outputs": []
    },
    {
      "cell_type": "code",
      "source": [
        "acc_sum"
      ],
      "metadata": {
        "id": "fQuBbApFL32y"
      },
      "execution_count": null,
      "outputs": []
    },
    {
      "cell_type": "markdown",
      "source": [
        "## Part 2"
      ],
      "metadata": {
        "id": "lh4SmoLRaAZd"
      }
    },
    {
      "cell_type": "code",
      "source": [
        "map = []\n",
        "directions_str = ''\n",
        "start_position = (0, 0)\n",
        "with open('input.txt') as file:\n",
        "    is_map = True\n",
        "    for idx, line in enumerate(file):\n",
        "        line = line.strip()\n",
        "        if is_map:\n",
        "            if not line or all(c in '<>^v' for c in line):\n",
        "                is_map = False\n",
        "                directions_str += line\n",
        "                continue\n",
        "            curr = []\n",
        "            for i, char in enumerate(line):\n",
        "                if char == '#':\n",
        "                    curr.extend(['#', '#'])\n",
        "                elif char == 'O':\n",
        "                    curr.extend(['[', ']'])\n",
        "                elif char == '.':\n",
        "                    curr.extend(['.', '.'])\n",
        "                elif char == '@':\n",
        "                    curr.extend(['@', '.'])\n",
        "                    start_position = (idx, i * 2)\n",
        "            map.append(curr)\n",
        "        else:\n",
        "            directions_str += line"
      ],
      "metadata": {
        "id": "-SAAMmfUL4lR"
      },
      "execution_count": null,
      "outputs": []
    },
    {
      "cell_type": "code",
      "source": [
        "def move_left(x, y):\n",
        "    current_str = map[x]\n",
        "    list_before_at = current_str[:y + 1]\n",
        "    list_after_at = current_str[y + 1:]\n",
        "    hash_index = len(list_before_at) - 1 - list_before_at[::-1].index('#')\n",
        "    list_before_hash = list_before_at[:hash_index + 1]\n",
        "    list_after_hash = list_before_at[hash_index + 1:]\n",
        "    if '.' in list_after_hash:\n",
        "        dot_index = len(list_after_hash) - 1 - list_after_hash[::-1].index('.')\n",
        "        list_before_dot = list_after_hash[:dot_index]\n",
        "        list_after_dot = list_after_hash[dot_index + 1:]\n",
        "        res_list = list_before_hash + list_before_dot + list_after_dot + ['.'] +list_after_at\n",
        "        if len(res_list) != len(map[x]):\n",
        "            print('move_left error!!!')\n",
        "        map[x] = res_list\n",
        "        #print(res_list)\n",
        "        return x, y - 1\n",
        "    else:\n",
        "        return x, y"
      ],
      "metadata": {
        "id": "h9yNNJpWaMTG"
      },
      "execution_count": null,
      "outputs": []
    },
    {
      "cell_type": "code",
      "source": [
        "def move_right(x, y):\n",
        "    current_str = map[x]\n",
        "    list_before_at = current_str[:y]\n",
        "    list_after_at = current_str[y:]\n",
        "    hash_index = list_after_at.index('#')\n",
        "    list_before_hash = list_after_at[:hash_index]\n",
        "    list_after_hash = list_after_at[hash_index:]\n",
        "    #print('list_after_hash: ', list_before_hash)\n",
        "    if '.' in list_before_hash:\n",
        "        dot_index = list_before_hash.index('.')\n",
        "        list_before_dot = list_before_hash[:dot_index]\n",
        "        list_after_dot = list_before_hash[dot_index + 1:]\n",
        "        res_list = list_before_at + ['.'] + list_before_dot + list_after_dot + list_after_hash\n",
        "        #print(res_list)\n",
        "        if len(res_list) != len(map[x]):\n",
        "            print('move_right error!!!')\n",
        "        map[x] = res_list\n",
        "        return x, y + 1\n",
        "    else:\n",
        "        return x, y"
      ],
      "metadata": {
        "id": "xPtHWoL2E1K-"
      },
      "execution_count": null,
      "outputs": []
    },
    {
      "cell_type": "code",
      "source": [
        "def move_vert(x, y, down):\n",
        "    block_dict = {}\n",
        "    current_row = x + 1 if down else x - 1\n",
        "    if map[current_row][y] == ']':\n",
        "        block_dict[current_row] = [y - 1, y]\n",
        "    elif map[current_row][y] == '[':\n",
        "        block_dict[current_row] = [y, y + 1]\n",
        "\n",
        "    while True:\n",
        "        prev_row = current_row + 1 if down else current_row - 1\n",
        "        new_positions = set()\n",
        "        count_dots = 0\n",
        "        for j in block_dict[current_row]:\n",
        "            if map[prev_row][j] == ']':\n",
        "                new_positions.update([j, j - 1])\n",
        "            elif map[prev_row][j] == '[':\n",
        "                new_positions.update([j, j + 1])\n",
        "            elif map[prev_row][j] == '.':\n",
        "                count_dots += 1\n",
        "            elif map[prev_row][j] == '#':\n",
        "                return x, y\n",
        "        if count_dots == len(block_dict[current_row]):\n",
        "            break\n",
        "        block_dict[prev_row] = sorted(new_positions)\n",
        "        current_row = prev_row\n",
        "\n",
        "    for row, columns in reversed(block_dict.items()):\n",
        "        for idx, col in enumerate(columns):\n",
        "            map[row][col] = '.'\n",
        "            next_row = row + 1 if down else row - 1\n",
        "            map[next_row][col] = '[' if idx % 2 == 0 else ']'\n",
        "\n",
        "    map[x][y] = '.'\n",
        "    next_x = x + 1 if down else x - 1\n",
        "    map[next_x][y] = '@'\n",
        "    return next_x, y\n"
      ],
      "metadata": {
        "id": "NC58Op2ktVFR"
      },
      "execution_count": null,
      "outputs": []
    },
    {
      "cell_type": "code",
      "source": [
        "def next_move(map, x, y, direction):\n",
        "    moves = {\n",
        "        '>': (0, 1),\n",
        "        '<': (0, -1),\n",
        "        'v': (1, 0),\n",
        "        '^': (-1, 0)\n",
        "    }\n",
        "\n",
        "    dx, dy = moves[direction]\n",
        "    nx, ny = x + dx, y + dy\n",
        "\n",
        "    if map[nx][ny] == '.':\n",
        "        map[x][y] = '.'\n",
        "        map[nx][ny] = '@'\n",
        "        return nx, ny\n",
        "    elif map[nx][ny] == '#':\n",
        "        return x, y\n",
        "    else:\n",
        "        if direction in ['>', '<']:\n",
        "            return move_right(x, y) if direction == '>' else move_left(x, y)\n",
        "        else:\n",
        "            return move_vert(x, y, direction == 'v')"
      ],
      "metadata": {
        "id": "_8gmjh4B1XuT"
      },
      "execution_count": null,
      "outputs": []
    },
    {
      "cell_type": "code",
      "source": [
        "x, y = start_position\n",
        "for d in directions_str:\n",
        "    x, y = next_move(map, x, y, d)"
      ],
      "metadata": {
        "id": "FA9vSEgP4V1q"
      },
      "execution_count": null,
      "outputs": []
    },
    {
      "cell_type": "code",
      "source": [
        "acc_sum = 0\n",
        "for i in range(len(map)):\n",
        "    for j in range(len(map[0])):\n",
        "        if map[i][j] == '[':\n",
        "            acc_sum += (100 * i + j)"
      ],
      "metadata": {
        "id": "arUcj3Lm9MmL"
      },
      "execution_count": null,
      "outputs": []
    },
    {
      "cell_type": "code",
      "source": [
        "acc_sum"
      ],
      "metadata": {
        "id": "CO2239-p_1bc"
      },
      "execution_count": null,
      "outputs": []
    },
    {
      "cell_type": "markdown",
      "source": [
        "# Day 16\n",
        "## Part 1"
      ],
      "metadata": {
        "id": "ZreT4SESqW1x"
      }
    },
    {
      "cell_type": "code",
      "source": [
        "from heapq import heappop, heappush\n",
        "\n",
        "map = []\n",
        "start_position = (0, 0)\n",
        "end_position = (0, 0)\n",
        "with open('input.txt') as file:\n",
        "    for idx, line in enumerate(file):\n",
        "        line = line.strip()\n",
        "        current_line = []\n",
        "        for j_idx, j in enumerate(line):\n",
        "            current_line.append(j)\n",
        "            if j == 'S':\n",
        "                start_position = (idx, j_idx)\n",
        "            if j == 'E':\n",
        "                end_position = (idx, j_idx)\n",
        "        map.append(current_line)"
      ],
      "metadata": {
        "id": "RCqI4aDIYZYs"
      },
      "execution_count": null,
      "outputs": []
    },
    {
      "cell_type": "code",
      "source": [
        "start_position"
      ],
      "metadata": {
        "id": "Pi4kHW8-rJ2W"
      },
      "execution_count": null,
      "outputs": []
    },
    {
      "cell_type": "code",
      "source": [
        "end_position"
      ],
      "metadata": {
        "id": "SYLaJ6mPrMro"
      },
      "execution_count": null,
      "outputs": []
    },
    {
      "cell_type": "code",
      "source": [
        "directions = [(-1, 0), (0, 1), (1, 0), (0, -1)]\n",
        "def serch_path(map, start, end):\n",
        "    m, n = len(map), len(map[0])\n",
        "    start_x, start_y = start_position\n",
        "    end_x, end_y = end_position\n",
        "\n",
        "    pq = [(0, start_x, start_y, 1)]\n",
        "    visited = set()\n",
        "    while pq:\n",
        "        #print(pq)\n",
        "        score, x, y, dir_idx = heappop(pq)\n",
        "        if (x, y) == (end_x, end_y):\n",
        "            return score\n",
        "\n",
        "        if (x, y, dir_idx) in visited:\n",
        "            continue\n",
        "\n",
        "        visited.add((x, y, dir_idx))\n",
        "\n",
        "        nx = x + directions[dir_idx][0]\n",
        "        ny = y + directions[dir_idx][1]\n",
        "\n",
        "        if 0 <= nx < m and 0 <= ny < n and map[nx][ny] != '#':\n",
        "            heappush(pq, (score + 1, nx, ny, dir_idx))\n",
        "\n",
        "        new_dir_idx = (dir_idx + 1) % 4\n",
        "        heappush(pq, (score + 1000, x, y, new_dir_idx))\n",
        "\n",
        "        new_dir_idx = (dir_idx - 1) % 4\n",
        "        heappush(pq, (score + 1000, x, y, new_dir_idx))\n",
        "\n",
        "    return -1"
      ],
      "metadata": {
        "id": "5_u6m38b8bba"
      },
      "execution_count": null,
      "outputs": []
    },
    {
      "cell_type": "code",
      "source": [
        "result = serch_path(map, start_position, end_position)"
      ],
      "metadata": {
        "id": "G7PYZSz4-JEN"
      },
      "execution_count": null,
      "outputs": []
    },
    {
      "cell_type": "code",
      "source": [
        "result"
      ],
      "metadata": {
        "id": "mCcoutmD-RJZ"
      },
      "execution_count": null,
      "outputs": []
    },
    {
      "cell_type": "markdown",
      "source": [
        "## Part 2"
      ],
      "metadata": {
        "id": "DSDpYF7QAgZg"
      }
    },
    {
      "cell_type": "code",
      "source": [
        "from collections import defaultdict, deque\n",
        "import heapq\n",
        "import networkx as nx\n",
        "\n",
        "import networkx as nx\n",
        "import matplotlib.pyplot as plt\n",
        "\n",
        "map = []\n",
        "start_position = (0, 0, 1)\n",
        "end_position = (0, 0, 0)\n",
        "with open('input.txt') as file:\n",
        "    for idx, line in enumerate(file):\n",
        "        line = line.strip()\n",
        "        current_line = []\n",
        "        for j_idx, j in enumerate(line):\n",
        "            current_line.append(j)\n",
        "            if j == 'S':\n",
        "                start_position = (idx, j_idx, 1)\n",
        "            if j == 'E':\n",
        "                end_position = (idx, j_idx, 0)\n",
        "        map.append(current_line)"
      ],
      "metadata": {
        "id": "ZEwJfMaV5r-P"
      },
      "execution_count": null,
      "outputs": []
    },
    {
      "cell_type": "code",
      "source": [
        "directions = [(-1, 0), (0, 1), (1, 0), (0, -1)]\n",
        "def build_graph(start):\n",
        "    graph = nx.DiGraph()\n",
        "    for r, row in enumerate(map):\n",
        "        for c, ch in enumerate(row):\n",
        "            if ch != \"#\":\n",
        "                for d in range(4):\n",
        "                    graph.add_node((r, c, d))\n",
        "    #print(graph.nodes)\n",
        "    for r, c, d in list(graph.nodes):\n",
        "        dr, dc = directions[d]\n",
        "        targetr, targetc = r + dr, c + dc\n",
        "        if (targetr, targetc, d) in graph.nodes:\n",
        "            graph.add_edge((r, c, d), (targetr, targetc, d), weight=1)\n",
        "        for i in range(4):\n",
        "            graph.add_edge((r, c, d), (r, c, i), weight=1000)\n",
        "    return graph\n"
      ],
      "metadata": {
        "id": "3oOjWI34OxxC"
      },
      "execution_count": null,
      "outputs": []
    },
    {
      "cell_type": "code",
      "source": [
        "G = build_graph(start_position)\n",
        "\n",
        "# Draw the graph\n",
        "#pos = nx.spring_layout(G)\n",
        "#nx.draw(G, pos, with_labels=True, node_size=200, node_color=\"skyblue\", font_size=12, font_weight=\"bold\", arrows=True)\n"
      ],
      "metadata": {
        "id": "1c1j5-nIPDEd"
      },
      "execution_count": null,
      "outputs": []
    },
    {
      "cell_type": "code",
      "source": [
        "all_shortest_paths = nx.all_shortest_paths(G, start_position, end_position, weight=\"weight\")\n",
        "seats = set()\n",
        "for path in all_shortest_paths:\n",
        "    for node in path:\n",
        "        seats.add((node[0], node[1]))\n",
        "print(len(seats))"
      ],
      "metadata": {
        "id": "mqBpGE8pP7EY"
      },
      "execution_count": null,
      "outputs": []
    },
    {
      "cell_type": "markdown",
      "source": [
        "# Day 17\n",
        "## Part 1\n"
      ],
      "metadata": {
        "id": "bM-OVeOxycN6"
      }
    },
    {
      "cell_type": "code",
      "source": [
        "registers = {}\n",
        "program = ''\n",
        "with open('input.txt') as file:\n",
        "    for line in file:\n",
        "        if line.startswith('Register A:'):\n",
        "            registers['A'] = int(line.split(':')[1])\n",
        "        elif line.startswith('Register B:'):\n",
        "            registers['B'] = int(line.split(':')[1])\n",
        "        elif line.startswith('Register C:'):\n",
        "            registers['C'] = int(line.split(':')[1])\n",
        "        elif line.startswith('Program:'):\n",
        "            program = line.split(': ')[1]"
      ],
      "metadata": {
        "id": "Y6QEUaaLRg9o"
      },
      "execution_count": null,
      "outputs": []
    },
    {
      "cell_type": "code",
      "source": [
        "program = program.split(',')\n",
        "program_int = list(map(int, program))\n",
        "print(program_int)"
      ],
      "metadata": {
        "id": "-QtsnoCUaK-V"
      },
      "execution_count": null,
      "outputs": []
    },
    {
      "cell_type": "code",
      "source": [
        "def get_combo_operand_value(operand, registers):\n",
        "    if operand <= 3:\n",
        "        return operand\n",
        "    elif operand == 4:\n",
        "        return registers['A']\n",
        "    elif operand == 5:\n",
        "        return registers['B']\n",
        "    elif operand == 6:\n",
        "        return registers['C']\n",
        "    else:\n",
        "        raise ValueError(\"Invalid combo operand.\")"
      ],
      "metadata": {
        "id": "86db0QmSax35"
      },
      "execution_count": null,
      "outputs": []
    },
    {
      "cell_type": "code",
      "source": [
        "output = []\n",
        "instruction_pointer = 0\n",
        "while instruction_pointer < len(program_int) - 1:\n",
        "    #print(instruction_pointer, registers, output)\n",
        "    opcode = program_int[instruction_pointer]\n",
        "    operand = program_int[instruction_pointer + 1] if instruction_pointer + 1 < len(program) else None\n",
        "    jump_flag = True\n",
        "    match opcode:\n",
        "        case 0:\n",
        "            denominator = 2 ** get_combo_operand_value(operand, registers)\n",
        "            registers['A'] //= denominator\n",
        "        case 1:\n",
        "            registers['B'] ^= operand\n",
        "        case 2:\n",
        "            registers['B'] = get_combo_operand_value(operand, registers) % 8\n",
        "        case 3:\n",
        "            if registers['A'] != 0:\n",
        "                instruction_pointer = operand\n",
        "                jump_flag = False\n",
        "        case 4:\n",
        "            registers['B'] ^= registers['C']\n",
        "        case 5:\n",
        "            output.append(get_combo_operand_value(operand, registers) % 8)\n",
        "        case 6:\n",
        "            denominator = 2 ** get_combo_operand_value(operand, registers)\n",
        "            registers['B'] = registers['A'] // denominator\n",
        "        case 7:\n",
        "            denominator = 2 ** get_combo_operand_value(operand, registers)\n",
        "            registers['C'] = registers['A'] // denominator\n",
        "    if jump_flag:\n",
        "        instruction_pointer += 2\n",
        "print(registers)\n",
        "print(output)\n",
        "print(','.join(str(ch) for ch in output))"
      ],
      "metadata": {
        "id": "9IKxqx0_c7PB"
      },
      "execution_count": null,
      "outputs": []
    },
    {
      "cell_type": "markdown",
      "source": [
        "## Part 2"
      ],
      "metadata": {
        "id": "6fDQdAVlDFfy"
      }
    },
    {
      "cell_type": "code",
      "source": [
        "!pip install z3-solver"
      ],
      "metadata": {
        "id": "-OSNzY28DKc0"
      },
      "execution_count": null,
      "outputs": []
    },
    {
      "cell_type": "code",
      "source": [
        "import z3\n",
        "program = ''\n",
        "with open('input.txt') as file:\n",
        "    for line in file:\n",
        "        if line.startswith('Register A:'):\n",
        "            A = int(line.split(':')[1])\n",
        "        elif line.startswith('Register B:'):\n",
        "            B = int(line.split(':')[1])\n",
        "        elif line.startswith('Register C:'):\n",
        "            C = int(line.split(':')[1])\n",
        "        elif line.startswith('Program:'):\n",
        "            program = line.split(': ')[1]"
      ],
      "metadata": {
        "id": "u3hL7dSdDW-c"
      },
      "execution_count": null,
      "outputs": []
    },
    {
      "cell_type": "code",
      "source": [
        "\n",
        "program = program.split(',')\n",
        "program_int = list(map(int, program))\n",
        "print(program_int)"
      ],
      "metadata": {
        "id": "V6Vg_Oi3D8Po"
      },
      "execution_count": null,
      "outputs": []
    },
    {
      "cell_type": "code",
      "source": [
        "print(f\"A, B, C: ({A}, {B}, {C})\")\n",
        "print(program_int)"
      ],
      "metadata": {
        "id": "iX0QqsVQMld4"
      },
      "execution_count": null,
      "outputs": []
    },
    {
      "cell_type": "code",
      "source": [
        "def get_combo_operand_value(operand):\n",
        "    if operand <= 3:\n",
        "        return operand\n",
        "    elif operand == 4:\n",
        "        return A\n",
        "    elif operand == 5:\n",
        "        return B\n",
        "    elif operand == 6:\n",
        "        return C\n",
        "    else:\n",
        "        raise ValueError(\"Invalid combo operand.\")"
      ],
      "metadata": {
        "id": "6EIElOo3D9W0"
      },
      "execution_count": null,
      "outputs": []
    },
    {
      "cell_type": "code",
      "source": [
        "program_len = len(program)\n",
        "\n",
        "A = z3.BitVec(\"A\", 64)\n",
        "constraints = []\n",
        "constraints.append(A > 0)\n",
        "constraints.append(A < 164542125272764)\n",
        "#constraints.append(A < 202975183645226)"
      ],
      "metadata": {
        "id": "VAcZsk1-MImy"
      },
      "execution_count": null,
      "outputs": []
    },
    {
      "cell_type": "code",
      "source": [
        "try:\n",
        "    #print('try: ', A, B, C)\n",
        "    outputs = []\n",
        "    outputs_len = 0\n",
        "    ip = 0\n",
        "    while ip < program_len - 1 and outputs_len < len(program_int):  # Need 2 values to read\n",
        "        #print('try: ', ip, A, B, C)\n",
        "        opcode = program_int[ip]\n",
        "        operand = program_int[ip + 1]\n",
        "\n",
        "        match opcode:\n",
        "            case 0:\n",
        "                # division stored to A\n",
        "                combo_op = get_combo_operand_value(operand)\n",
        "                numerator = A\n",
        "                result = numerator >> combo_op\n",
        "                A = result\n",
        "            case 1:\n",
        "                # bitwise XOR\n",
        "                result = B ^ operand\n",
        "                B = result\n",
        "            case 2:\n",
        "                # store combo operand to B\n",
        "                combo_op = get_combo_operand_value(operand)\n",
        "                result = combo_op & 0x07\n",
        "                B = result\n",
        "            case 3:\n",
        "                # jump if not zero\n",
        "                constraints.append(A != 0)\n",
        "                ip = operand\n",
        "                continue\n",
        "            case 4:\n",
        "                # bitwise XOR of B and C\n",
        "                result = B ^ C\n",
        "                B = result\n",
        "            case 5:\n",
        "                # output\n",
        "                combo_op = get_combo_operand_value(operand)\n",
        "                result = combo_op & 0x07\n",
        "                constraints.append(result == program_int[len(outputs)])\n",
        "                outputs.append(result)\n",
        "                outputs_len += 1\n",
        "            case 6:\n",
        "                # division stored to B\n",
        "                combo_op = get_combo_operand_value(operand)\n",
        "                numerator = A\n",
        "                result = numerator >> combo_op\n",
        "                B = result\n",
        "            case 7:\n",
        "                # division stored to C\n",
        "                combo_op = get_combo_operand_value(operand)\n",
        "                numerator = A\n",
        "                result = numerator >> combo_op\n",
        "                C = result\n",
        "            case _:\n",
        "                raise Exception(f\"Unexpected opcode: {opcode}\")\n",
        "\n",
        "        ip += 2\n",
        "\n",
        "except Exception as e:\n",
        "    print(f\"Swallowing exception: {e}.\")\n"
      ],
      "metadata": {
        "id": "vUIHSolTECPz"
      },
      "execution_count": null,
      "outputs": []
    },
    {
      "cell_type": "code",
      "source": [
        "constraints.append(A == 0)\n",
        "solver = z3.Solver()\n",
        "solver.add(*constraints)\n",
        "if solver.check() == z3.sat:\n",
        "    result = solver.model().evaluate(A)\n",
        "    print(result)\n",
        "    print(solver.model())\n",
        "    solver.add(A < result)"
      ],
      "metadata": {
        "id": "zAlaeU_4L5oV"
      },
      "execution_count": null,
      "outputs": []
    },
    {
      "cell_type": "code",
      "source": [
        "164542125272765"
      ],
      "metadata": {
        "id": "ikiW7dyGYX6O"
      },
      "execution_count": null,
      "outputs": []
    },
    {
      "cell_type": "markdown",
      "source": [
        "# Day 18\n",
        "## Part 1"
      ],
      "metadata": {
        "id": "Nuaa1RBptK1o"
      }
    },
    {
      "cell_type": "code",
      "source": [
        "from collections import deque"
      ],
      "metadata": {
        "id": "8ca9W3sH6NQI"
      },
      "execution_count": null,
      "outputs": []
    },
    {
      "cell_type": "code",
      "source": [
        "NUM_OF_BYTES = 1024\n",
        "M, N = 70, 70\n",
        "corrupted_coord = set()\n",
        "\n",
        "i = 0\n",
        "with open('input.txt') as file:\n",
        "    for i, line in enumerate(file):\n",
        "        if i >= NUM_OF_BYTES:\n",
        "            break\n",
        "        x, y = list(map(int, line.strip().split(',')))\n",
        "        corrupted_coord.add((x, y))"
      ],
      "metadata": {
        "id": "Pm3oC5fvcUcA"
      },
      "execution_count": null,
      "outputs": []
    },
    {
      "cell_type": "code",
      "source": [
        "def is_valid_move(corrupted_coord, visited, x, y):\n",
        "    return (\n",
        "        0 <= x <= M and\n",
        "        0 <= y <= N and\n",
        "        (x, y) not in corrupted_coord and\n",
        "        (x, y) not in visited\n",
        "        )"
      ],
      "metadata": {
        "id": "wGe9Rone4Tet"
      },
      "execution_count": null,
      "outputs": []
    },
    {
      "cell_type": "code",
      "source": [
        "directions = [(1, 0), (0, 1), (-1, 0), (0, -1)]\n",
        "start = (0, 0)\n",
        "end = (M, N)"
      ],
      "metadata": {
        "id": "35cSj9ie3mN8"
      },
      "execution_count": null,
      "outputs": []
    },
    {
      "cell_type": "code",
      "source": [
        "def bfs(start, end):\n",
        "    visited = set()\n",
        "    queue = deque([(start[0], start[1], 0)])\n",
        "    visited.add(start)\n",
        "    while queue:\n",
        "        #print(queue)\n",
        "        x, y, dist = queue.popleft()\n",
        "        if (x, y) == end:\n",
        "            return dist\n",
        "\n",
        "        for direction in directions:\n",
        "            nx, ny = x + direction[0], y + direction[1]\n",
        "\n",
        "            if is_valid_move(corrupted_coord, visited, nx, ny):\n",
        "                visited.add((nx, ny))\n",
        "                queue.append((nx, ny, dist + 1))\n",
        "\n",
        "    return -1"
      ],
      "metadata": {
        "id": "IjE9ivQL5Tx5"
      },
      "execution_count": null,
      "outputs": []
    },
    {
      "cell_type": "code",
      "source": [
        "shortest_path_length = bfs(start, end)"
      ],
      "metadata": {
        "id": "RLHA27Xf6x8u"
      },
      "execution_count": null,
      "outputs": []
    },
    {
      "cell_type": "code",
      "source": [
        "shortest_path_length"
      ],
      "metadata": {
        "id": "VzfJQpWo6zm9"
      },
      "execution_count": null,
      "outputs": []
    },
    {
      "cell_type": "markdown",
      "source": [
        "## Part 2"
      ],
      "metadata": {
        "id": "LEOUJRTG_JRa"
      }
    },
    {
      "cell_type": "code",
      "source": [
        "from collections import deque"
      ],
      "metadata": {
        "id": "KieKIiUc7K87"
      },
      "execution_count": null,
      "outputs": []
    },
    {
      "cell_type": "code",
      "source": [
        "#NUM_OF_BYTES = 1024\n",
        "M, N = 70, 70\n",
        "corrupted_coord = []\n",
        "\n",
        "i = 0\n",
        "with open('input.txt') as file:\n",
        "    for i, line in enumerate(file):\n",
        "        x, y = list(map(int, line.strip().split(',')))\n",
        "        corrupted_coord.append((x, y))"
      ],
      "metadata": {
        "id": "YX79Cfsk_PzJ"
      },
      "execution_count": null,
      "outputs": []
    },
    {
      "cell_type": "code",
      "source": [
        "def is_valid_move(corrupted_coord, visited, x, y):\n",
        "    return (\n",
        "        0 <= x <= M and\n",
        "        0 <= y <= N and\n",
        "        (x, y) not in corrupted_coord and\n",
        "        (x, y) not in visited\n",
        "        )\n",
        "\n",
        "directions = [(1, 0), (0, 1), (-1, 0), (0, -1)]\n",
        "start = (0, 0)\n",
        "end = (M, N)\n",
        "\n",
        "def bfs(corrupted_coord, start, end):\n",
        "    visited = set()\n",
        "    queue = deque([(start[0], start[1], 0)])\n",
        "    visited.add(start)\n",
        "    while queue:\n",
        "        #print(queue)\n",
        "        x, y, dist = queue.popleft()\n",
        "        if (x, y) == end:\n",
        "            return True\n",
        "\n",
        "        for direction in directions:\n",
        "            nx, ny = x + direction[0], y + direction[1]\n",
        "\n",
        "            if is_valid_move(corrupted_coord, visited, nx, ny):\n",
        "                visited.add((nx, ny))\n",
        "                queue.append((nx, ny, dist + 1))\n",
        "\n",
        "    return False\n"
      ],
      "metadata": {
        "id": "ldGxGYlo_Qw4"
      },
      "execution_count": null,
      "outputs": []
    },
    {
      "cell_type": "code",
      "source": [
        "def binary_search_blocked_path(corrupted_coord):\n",
        "    left, right = 0, len(corrupted_coord) - 1\n",
        "\n",
        "    while left <= right:\n",
        "        mid = left + (right - left) // 2\n",
        "        corrupted_coord_current = set(corrupted_coord[:mid])\n",
        "\n",
        "        if not bfs(corrupted_coord_current, start, end):\n",
        "            right = mid - 1\n",
        "        else:\n",
        "            left = mid + 1\n",
        "    return corrupted_coord[left - 1]\n"
      ],
      "metadata": {
        "id": "a31ef_nQ_aq2"
      },
      "execution_count": null,
      "outputs": []
    },
    {
      "cell_type": "code",
      "source": [
        "binary_search_blocked_path(corrupted_coord)"
      ],
      "metadata": {
        "id": "0H8wZQMrBp7p"
      },
      "execution_count": null,
      "outputs": []
    },
    {
      "cell_type": "markdown",
      "source": [
        "# Day **19**\n",
        "## Part 1\n"
      ],
      "metadata": {
        "id": "pV16QYJplIzw"
      }
    },
    {
      "cell_type": "code",
      "source": [
        "designs = []\n",
        "with open('input.txt') as file:\n",
        "    for i, line in enumerate(file):\n",
        "        if i == 0:\n",
        "            print(line)\n",
        "            patterns = line.strip().split(', ')\n",
        "        if i > 1:\n",
        "            designs.append(line.strip())"
      ],
      "metadata": {
        "id": "fRKxV1MVotqR"
      },
      "execution_count": null,
      "outputs": []
    },
    {
      "cell_type": "code",
      "source": [
        "def can_form_design(design, patterns):\n",
        "    n = len(design)\n",
        "    dp = [False] * (n + 1)\n",
        "    dp[0] = True\n",
        "\n",
        "    for i in range(1, n + 1):\n",
        "        for pattern in patterns:\n",
        "            pattern_len = len(pattern)\n",
        "            if i >= pattern_len and design[i - pattern_len:i] == pattern:\n",
        "                dp[i] = dp[i] or dp[i - pattern_len]\n",
        "            #print(design, i, pattern, dp)\n",
        "    #('dp[n]: ', dp)\n",
        "    return dp[n]\n",
        "\n",
        "possible_count = sum(can_form_design(design, patterns) for design in designs)"
      ],
      "metadata": {
        "id": "ug7AHmMnlNo4"
      },
      "execution_count": null,
      "outputs": []
    },
    {
      "cell_type": "code",
      "source": [
        "possible_count"
      ],
      "metadata": {
        "id": "Vr1MYlLvrQmf"
      },
      "execution_count": null,
      "outputs": []
    },
    {
      "cell_type": "markdown",
      "source": [
        "## Part 2"
      ],
      "metadata": {
        "id": "Isnc6QI8taZF"
      }
    },
    {
      "cell_type": "code",
      "source": [
        "designs = []\n",
        "with open('input.txt') as file:\n",
        "    for i, line in enumerate(file):\n",
        "        if i == 0:\n",
        "            patterns = line.strip().split(', ')\n",
        "        if i > 1:\n",
        "            designs.append(line.strip())"
      ],
      "metadata": {
        "id": "zkce_x8Oszis"
      },
      "execution_count": null,
      "outputs": []
    },
    {
      "cell_type": "code",
      "source": [
        "def can_form_design(design, patterns):\n",
        "    n = len(design)\n",
        "    dp = [False] * (n + 1)\n",
        "    dp[0] = True\n",
        "\n",
        "    for i in range(1, n + 1):\n",
        "        for pattern in patterns:\n",
        "            pattern_len = len(pattern)\n",
        "            if i >= pattern_len and design[i - pattern_len:i] == pattern:\n",
        "                dp[i] += dp[i - pattern_len]\n",
        "            #print(design, i, pattern, dp)\n",
        "    #print('dp[n]: ', dp)\n",
        "    return dp[n]\n",
        "\n",
        "possible_count = sum(can_form_design(design, patterns) for design in designs)"
      ],
      "metadata": {
        "id": "_t0rHpAKtbrz"
      },
      "execution_count": null,
      "outputs": []
    },
    {
      "cell_type": "code",
      "source": [
        "possible_count"
      ],
      "metadata": {
        "id": "JsVmc1Oltlet"
      },
      "execution_count": null,
      "outputs": []
    },
    {
      "cell_type": "markdown",
      "source": [
        "# Day 20\n",
        "## Part 1"
      ],
      "metadata": {
        "id": "smijcaUBAw2d"
      }
    },
    {
      "cell_type": "code",
      "source": [
        "start_point = (0, 0)\n",
        "end_point = (0, 0)\n",
        "\n",
        "map = []\n",
        "with open('input.txt') as file:\n",
        "    for i, line in enumerate(file):\n",
        "        current_line = []\n",
        "        for j, ch in enumerate(line.strip()):\n",
        "            current_line.append(ch)\n",
        "            if ch == 'S':\n",
        "                start_point = (j, i)\n",
        "            if ch == 'E':\n",
        "                end_point = (j, i)\n",
        "        map.append(current_line)"
      ],
      "metadata": {
        "id": "w5FahH1Pt4Fs"
      },
      "execution_count": null,
      "outputs": []
    },
    {
      "cell_type": "code",
      "source": [
        "path = [start_point]\n",
        "directions = [(1, 0), (0, 1), (-1, 0), (0, -1)]\n",
        "current_coord = start_point\n",
        "while current_coord != end_point:\n",
        "    for direction in directions:\n",
        "        nx, ny = current_coord[0] + direction[0], current_coord[1] + direction[1]\n",
        "        #print(map[ny][nx], nx, ny)\n",
        "        if (map[ny][nx] == '.' or map[ny][nx] == 'E') and (nx, ny) not in path:\n",
        "            current_coord = (nx, ny)\n",
        "            path.append((nx, ny))\n",
        "            break"
      ],
      "metadata": {
        "id": "ldyUSMvLC_kN"
      },
      "execution_count": null,
      "outputs": []
    },
    {
      "cell_type": "code",
      "source": [
        "len(path)"
      ],
      "metadata": {
        "id": "zW-Mq_5BEMdm"
      },
      "execution_count": null,
      "outputs": []
    },
    {
      "cell_type": "code",
      "source": [
        "dict_dist = {}\n",
        "for i, p in enumerate(path):\n",
        "    for j in range(i + 1, len(path)):\n",
        "        if (\n",
        "            (abs(p[0] - path[j][0]) == 2 and abs(p[1] - path[j][1]) == 0 and map[p[1]][(p[0] + path[j][0])//2] == '#') or \\\n",
        "            (abs(p[0] - path[j][0]) == 0 and abs(p[1] - path[j][1]) == 2 and map[(p[1] + path[j][1])//2][p[0]] == '#')\n",
        "           ):\n",
        "          #print(i, j, p, path[j])\n",
        "          save_len = abs(j - i) - 2\n",
        "          dict_dist[save_len] = dict_dist.get(save_len, 0) + 1\n"
      ],
      "metadata": {
        "id": "0F4H1Hv1PqUN"
      },
      "execution_count": null,
      "outputs": []
    },
    {
      "cell_type": "code",
      "source": [
        "result = sum(value for key, value in dict_dist.items() if key >= 100)\n",
        "result"
      ],
      "metadata": {
        "id": "lukGCRi2TxED"
      },
      "execution_count": null,
      "outputs": []
    },
    {
      "cell_type": "markdown",
      "source": [
        "## Part 2"
      ],
      "metadata": {
        "id": "krPTaY2NWCHU"
      }
    },
    {
      "cell_type": "code",
      "source": [
        "start_point = (0, 0)\n",
        "end_point = (0, 0)\n",
        "\n",
        "map = []\n",
        "with open('input.txt') as file:\n",
        "    for i, line in enumerate(file):\n",
        "        current_line = []\n",
        "        for j, ch in enumerate(line.strip()):\n",
        "            current_line.append(ch)\n",
        "            if ch == 'S':\n",
        "                start_point = (j, i)\n",
        "            if ch == 'E':\n",
        "                end_point = (j, i)\n",
        "        map.append(current_line)"
      ],
      "metadata": {
        "id": "mY8z1ON_UhII"
      },
      "execution_count": null,
      "outputs": []
    },
    {
      "cell_type": "code",
      "source": [
        "map[start_point[1]][start_point[0]] = 0\n",
        "prev_coor = (-1, -1)"
      ],
      "metadata": {
        "id": "lWI8bil6hg_U"
      },
      "execution_count": null,
      "outputs": []
    },
    {
      "cell_type": "code",
      "source": [
        "path = [start_point]\n",
        "directions = [(1, 0), (0, 1), (-1, 0), (0, -1)]\n",
        "current_coord = start_point\n",
        "while current_coord != end_point:\n",
        "    for direction in directions:\n",
        "        nx, ny = current_coord[0] + direction[0], current_coord[1] + direction[1]\n",
        "        #print(map[ny][nx], nx, ny)\n",
        "        if (map[ny][nx] != '#') and ((nx, ny) != prev_coor):\n",
        "            prev_coor = current_coord\n",
        "            current_coord = (nx, ny)\n",
        "            break\n",
        "    map[current_coord[1]][current_coord[0]] = map[prev_coor[1]][prev_coor[0]] + 1"
      ],
      "metadata": {
        "id": "L_astzewWDo3"
      },
      "execution_count": null,
      "outputs": []
    },
    {
      "cell_type": "code",
      "source": [
        "total = 0\n",
        "x, y = start_point\n",
        "for y in range(1, len(map) - 1):\n",
        "    for x in range(1, len(map[0]) - 1):\n",
        "        if map[y][x] != '#':\n",
        "            for x1 in range(x - 20, x + 21):\n",
        "                for y1 in range(y - 20 + abs(x - x1), y + 21 - abs(x - x1)):\n",
        "                    if 0 < y1 < len(map) - 1 \\\n",
        "                    and 0 < x1 < len(map[0]) - 1 \\\n",
        "                    and map[y1][x1] != '#' \\\n",
        "                    and map[y1][x1] - map[y][x] - abs(x1 - x) - abs(y1 - y) >= 100: total += 1\n",
        "print(total)"
      ],
      "metadata": {
        "id": "exzsPdPv2eSN"
      },
      "execution_count": null,
      "outputs": []
    },
    {
      "cell_type": "markdown",
      "source": [
        "# Day 21\n",
        "## Part 1"
      ],
      "metadata": {
        "id": "ApFk1xrD-kh3"
      }
    },
    {
      "cell_type": "code",
      "source": [
        "numpad = {\n",
        "    '7': (0, 0), '8': (1, 0), '9': (2, 0),\n",
        "    '4': (0, 1), '5': (1, 1), '6': (2, 1),\n",
        "    '1': (0, 2), '2': (1, 2), '3': (2, 2),\n",
        "    '0': (1, 3), 'A': (2, 3)\n",
        "}\n",
        "\n",
        "dirpad = {'^': (1, 0), 'A': (2, 0), '<': (0, 1), 'v': (1, 1), '>': (2, 1)}\n",
        "\n",
        "keypad_dirs = {}\n",
        "\n",
        "for num1, (x1, y1) in numpad.items():\n",
        "    for num2, (x2, y2) in numpad.items():\n",
        "        num_pair = (num1, num2)\n",
        "        vertical_move = ('v' if y1 < y2 else '^') * abs(y2 - y1)\n",
        "        horizontal_move = ('>' if x1 < x2 else '<') * abs(x2 - x1)\n",
        "        if x1 == x2 or y1 == y2:\n",
        "            keypad_dirs[num_pair] = vertical_move + horizontal_move\n",
        "        else:\n",
        "          if x1 == 0 and y2 == 3:\n",
        "              keypad_dirs[num_pair] = '>' * (x2 - x1) + 'v' * (y2 - y1)\n",
        "          elif y1 == 3 and x2 == 0:\n",
        "              keypad_dirs[num_pair] = '^' * (y1 - y2) + '<' * (x1 - x2)\n",
        "          else:\n",
        "              keypad_dirs[num_pair] = [('v' if y1 < y2 else '^') * abs(y1 - y2), ('>' if x1 < x2 else '<') * abs(x1 - x2)]\n",
        "\n",
        "#keypad_dirs = {}\n",
        "for dir1, (x1, y1) in dirpad.items():\n",
        "    for dir2, (x2, y2) in dirpad.items():\n",
        "        dir_pair = (dir1, dir2)\n",
        "\n",
        "        if x1 == x2:\n",
        "            keypad_dirs[dir_pair] = ('v' if y1 < y2 else '^') * abs(y2 - y1)\n",
        "\n",
        "        elif y1 == y2:\n",
        "            keypad_dirs[dir_pair] = ('>' if x1 < x2 else '<') * abs(x2 - x1)\n",
        "\n",
        "        else:\n",
        "            if x1 == 0 and y2 == 0:\n",
        "                keypad_dirs[dir_pair] = '>' * (x2 - x1) + '^'\n",
        "            elif y1 == 0 and x2 == 0:\n",
        "                keypad_dirs[dir_pair] = 'v' + (x1 - x2) * '<'\n",
        "            else:\n",
        "                #print(dir_pair, y1, y2, abs(y1 - y2))\n",
        "                keypad_dirs[dir_pair] = [('v' if y1 < y2 else '^') * abs(y1 - y2), ('>' if x1 < x2 else '<') * abs(x1 - x2)]"
      ],
      "metadata": {
        "id": "XrFtYtdexDio"
      },
      "execution_count": null,
      "outputs": []
    },
    {
      "cell_type": "code",
      "source": [
        "# recursion\n",
        "def keypress(i, new_seq, seq, seq_list):\n",
        "    if i == len(seq):\n",
        "        seq_list.append(new_seq)\n",
        "    else:\n",
        "        press = keypad_dirs[('A' if i == 0 else seq[i - 1], seq[i])]\n",
        "        if isinstance(press, list):\n",
        "            keypress(i + 1, new_seq + press[0] + press[1] + 'A', seq, seq_list)\n",
        "            keypress(i + 1, new_seq + press[1] + press[0] + 'A', seq, seq_list)\n",
        "        else:\n",
        "            keypress(i + 1, new_seq + press + 'A', seq, seq_list)\n",
        "\n",
        "def calc_complexity(seq, d, robots_count):\n",
        "    seq_list = []\n",
        "    keypress(0, '', seq, seq_list)\n",
        "    for _ in range(robots_count - 1):\n",
        "        old_seq_list, seq_list = seq_list, []\n",
        "        for robot in old_seq_list:\n",
        "            keypress(0, '', robot, seq_list)\n",
        "\n",
        "    return min([len(s) for s in seq_list]) if seq_list else 0"
      ],
      "metadata": {
        "id": "sbfT83nM-YIz"
      },
      "execution_count": null,
      "outputs": []
    },
    {
      "cell_type": "code",
      "source": [
        "total = 0\n",
        "memo = {}\n",
        "with open('input.txt') as file:\n",
        "    for line in file:\n",
        "        line = line.strip()\n",
        "        min_l = calc_complexity(line, keypad_dirs, 3)\n",
        "        total += min_l * int(line[:-1])\n",
        "print(total)"
      ],
      "metadata": {
        "id": "qlVz1S9i-k3C"
      },
      "execution_count": null,
      "outputs": []
    },
    {
      "cell_type": "markdown",
      "source": [
        "## Part 2"
      ],
      "metadata": {
        "id": "yuq-xdQ9MD5d"
      }
    },
    {
      "cell_type": "code",
      "source": [
        "# recursion\n",
        "def next_robot(new_seq, level):\n",
        "    if (new_seq, level) in known_sequences:\n",
        "        return known_sequences[(new_seq, level)]\n",
        "    if level == 26:\n",
        "        n = len(new_seq)\n",
        "    else:\n",
        "        n = 0\n",
        "        for i, c in enumerate(new_seq):\n",
        "            presses = keypad_dirs[('A' if i == 0 else new_seq[i - 1], c)]\n",
        "            if isinstance(presses, list):\n",
        "                n += min(\n",
        "                    next_robot(presses[0] + presses[1] + 'A', level + 1),\n",
        "                    next_robot(presses[1] + presses[0] + 'A', level + 1)\n",
        "                )\n",
        "            else:\n",
        "                n += next_robot(presses + 'A', level + 1)\n",
        "    known_sequences[(new_seq, level)] = n\n",
        "    return n"
      ],
      "metadata": {
        "id": "KqHRCyFW8gxm"
      },
      "execution_count": null,
      "outputs": []
    },
    {
      "cell_type": "code",
      "source": [
        "total = 0\n",
        "known_sequences = {}\n",
        "with open('input.txt') as file:\n",
        "    for line in file:\n",
        "        line = line.strip()\n",
        "        print(line)\n",
        "        min_l = next_robot(line, 0)\n",
        "        total += min_l * int(line[:-1])\n",
        "print(total)"
      ],
      "metadata": {
        "id": "ypv0haLDDAu6"
      },
      "execution_count": null,
      "outputs": []
    },
    {
      "cell_type": "markdown",
      "source": [
        "# Day 22\n",
        "## Part 1"
      ],
      "metadata": {
        "id": "c0XcMOR2xXdi"
      }
    },
    {
      "cell_type": "code",
      "source": [
        "def calc_secret_num(num, iter):\n",
        "    for _ in range(iter):\n",
        "        num = ((num * 64) ^ num) % 16777216\n",
        "        num = ((num // 32) ^ num) % 16777216\n",
        "        num = ((num * 2048) ^ num) % 16777216\n",
        "    return num"
      ],
      "metadata": {
        "id": "sOkWABeONH8p"
      },
      "execution_count": null,
      "outputs": []
    },
    {
      "cell_type": "code",
      "source": [
        "total = 0\n",
        "with open('input.txt') as file:\n",
        "    for line in file:\n",
        "        line = line.strip()\n",
        "        curr = calc_secret_num(int(line), 2000)\n",
        "        total += curr\n",
        "print(total)"
      ],
      "metadata": {
        "id": "GQ0OFQZXyGI_"
      },
      "execution_count": null,
      "outputs": []
    },
    {
      "cell_type": "markdown",
      "source": [
        "## Part 2"
      ],
      "metadata": {
        "id": "2MRxNIM042dp"
      }
    },
    {
      "cell_type": "code",
      "source": [
        "from collections import deque"
      ],
      "metadata": {
        "id": "egM_TEWX5E4o"
      },
      "execution_count": null,
      "outputs": []
    },
    {
      "cell_type": "code",
      "source": [
        "dict_seq = {}\n",
        "with open('input.txt') as file:\n",
        "    for line in file:\n",
        "        num = int(line.strip())\n",
        "        monkey_instruction = [(num % 10, None)]\n",
        "        diff_sequences = set()\n",
        "\n",
        "        for i in range(2000):\n",
        "            num = ((num * 64) ^ num) % 16777216\n",
        "            num = ((num // 32) ^ num) % 16777216\n",
        "            num = ((num * 2048) ^ num) % 16777216\n",
        "            price = num % 10\n",
        "\n",
        "            prev_price = monkey_instruction[i][0]\n",
        "            monkey_instruction.append((price, price - prev_price))\n",
        "\n",
        "            if i >= 3:\n",
        "                sequence = tuple([monkey_instruction[j][1] for j in range(i - 2, i + 2)])\n",
        "                if sequence not in diff_sequences:\n",
        "                    diff_sequences.add(sequence)\n",
        "                    dict_seq[sequence] = dict_seq[sequence] + [price] if sequence in dict_seq else [price]\n",
        "print(max(map(sum, dict_seq.values())))"
      ],
      "metadata": {
        "id": "9zI1rG9246Lz"
      },
      "execution_count": null,
      "outputs": []
    },
    {
      "cell_type": "markdown",
      "source": [
        "# Day 23\n",
        "## Part 1"
      ],
      "metadata": {
        "id": "N657XKR_fjyX"
      }
    },
    {
      "cell_type": "code",
      "source": [
        "from collections import defaultdict"
      ],
      "metadata": {
        "id": "B1ldN4BRgHoh"
      },
      "execution_count": null,
      "outputs": []
    },
    {
      "cell_type": "code",
      "source": [
        "dict_connections = defaultdict(list)\n",
        "with open('input.txt') as file:\n",
        "    for line in file:\n",
        "      a, b = line.strip().split('-')\n",
        "      dict_connections[a].append(b)\n",
        "      dict_connections[b].append(a)"
      ],
      "metadata": {
        "id": "TuaPKdFABaQz"
      },
      "execution_count": null,
      "outputs": []
    },
    {
      "cell_type": "code",
      "source": [
        "def lan(dict_connections, current_subset, used_set):\n",
        "    #print(used_set)\n",
        "    #print(current_subset)\n",
        "    if len(current_subset) == 3:\n",
        "        if (current_subset[0] in dict_connections[current_subset[-1]]) and set(current_subset) not in used_set:\n",
        "            list_lan.append(current_subset)\n",
        "            used_set.append(set(current_subset))\n",
        "        return\n",
        "\n",
        "    for val in dict_connections[current_subset[-1]]:\n",
        "        if val not in current_subset:\n",
        "            lan(dict_connections, current_subset + [val], used_set)\n"
      ],
      "metadata": {
        "id": "PURtiUWkgZR1"
      },
      "execution_count": null,
      "outputs": []
    },
    {
      "cell_type": "code",
      "source": [
        "list_lan = []\n",
        "used_set = []\n",
        "for i,v in dict_connections.items():\n",
        "    lan(dict_connections, [i], used_set)\n",
        "\n",
        "print(sum(any(word.startswith('t') for word in words) for words in list_lan))"
      ],
      "metadata": {
        "id": "ssED9M0alk-m"
      },
      "execution_count": null,
      "outputs": []
    },
    {
      "cell_type": "markdown",
      "source": [
        "## Part 2"
      ],
      "metadata": {
        "id": "5G5gGmOHp6NY"
      }
    },
    {
      "cell_type": "code",
      "source": [
        "from collections import defaultdict\n",
        "from itertools import combinations\n",
        "\n",
        "dict_connections = defaultdict(list)\n",
        "with open('input.txt') as file:\n",
        "    for line in file:\n",
        "      a, b = line.strip().split('-')\n",
        "      dict_connections[a].append(b)\n",
        "      dict_connections[b].append(a)"
      ],
      "metadata": {
        "id": "dsEBOk2Fo5tF"
      },
      "execution_count": null,
      "outputs": []
    },
    {
      "cell_type": "code",
      "source": [
        "def is_clique(nodes):\n",
        "    return all(n2 in dict_connections[n1] for n1, n2 in combinations(nodes, 2))\n",
        "\n",
        "# Bron-Kerbosch Algorithm for finding the largest clique\n",
        "def bron_kerbosch(R, P, X, max_clique):\n",
        "    if not P and not X:\n",
        "        if len(R) > len(max_clique[0]):\n",
        "            max_clique[0] = list(R)\n",
        "        return\n",
        "\n",
        "    for v in list(P):\n",
        "        bron_kerbosch(R | {v}, P & set(dict_connections[v]), X & set(dict_connections[v]), max_clique)\n",
        "        P.remove(v)\n",
        "        X.add(v)\n",
        "\n",
        "def find_largest_clique():\n",
        "    max_clique = [[]]\n",
        "    bron_kerbosch(set(), set(dict_connections.keys()), set(), max_clique)\n",
        "    return max_clique[0]\n",
        "\n",
        "largest_clique = find_largest_clique()\n",
        "print(','.join(sorted(largest_clique)))"
      ],
      "metadata": {
        "id": "HXsHBk_xqUUD"
      },
      "execution_count": null,
      "outputs": []
    },
    {
      "cell_type": "markdown",
      "source": [
        "# Day 24\n",
        "## Part 1"
      ],
      "metadata": {
        "id": "u9maUpVA6soK"
      }
    },
    {
      "cell_type": "code",
      "source": [
        "from collections import deque"
      ],
      "metadata": {
        "id": "Xfo8aBlSdK4A"
      },
      "execution_count": null,
      "outputs": []
    },
    {
      "cell_type": "code",
      "source": [
        "dict_wires = {}\n",
        "operations = {}\n",
        "dependencies = {}\n",
        "\n",
        "with open('input.txt') as file:\n",
        "    for line in file:\n",
        "        line = line.strip()\n",
        "        if line and \":\" not in line:\n",
        "            eq, out = line.split('->')\n",
        "            out = out.strip()\n",
        "            x1, operation, x2 = eq.strip().split(' ')\n",
        "            operations[out] = (operation, x1, x2)\n",
        "            dependencies.setdefault(x1, []).append(out)\n",
        "            dependencies.setdefault(x2, []).append(out)\n",
        "        elif line:\n",
        "            wire, value = line.split(\": \")\n",
        "            dict_wires[wire] = int(value)"
      ],
      "metadata": {
        "id": "cr9VBMHI1fGM"
      },
      "execution_count": null,
      "outputs": []
    },
    {
      "cell_type": "code",
      "source": [
        "def eval_gates(dict_wires, operations, dependencies):\n",
        "    q = deque(dict_wires.keys())\n",
        "    while q:\n",
        "        wire = q.popleft()\n",
        "        if wire in dependencies:\n",
        "            for dependent in dependencies[wire]:\n",
        "                if dependent in operations:\n",
        "                    op, in1, in2 = operations[dependent]\n",
        "                    if in1 in dict_wires and in2 in dict_wires:\n",
        "                        if op == \"AND\":\n",
        "                            dict_wires[dependent] = dict_wires[in1] & dict_wires[in2]\n",
        "                        elif op == \"OR\":\n",
        "                            dict_wires[dependent] = dict_wires[in1] | dict_wires[in2]\n",
        "                        elif op == \"XOR\":\n",
        "                            dict_wires[dependent] = dict_wires[in1] ^ dict_wires[in2]\n",
        "                        q.append(dependent)\n",
        "    return dict_wires\n"
      ],
      "metadata": {
        "id": "E-8h8DaSU1vR"
      },
      "execution_count": null,
      "outputs": []
    },
    {
      "cell_type": "code",
      "source": [
        "final_wires = eval_gates(dict_wires, operations, dependencies)"
      ],
      "metadata": {
        "id": "Ok9F6HqvgY0q"
      },
      "execution_count": null,
      "outputs": []
    },
    {
      "cell_type": "code",
      "source": [
        "sort_z = sorted(z for z in final_wires if z.startswith('z'))\n",
        "res_str = ''\n",
        "for key in sort_z[::-1]:\n",
        "    res_str += str(final_wires[key])\n",
        "print(res_str)\n",
        "print(int(res_str, 2))"
      ],
      "metadata": {
        "id": "6gjgwDK2gt7c"
      },
      "execution_count": null,
      "outputs": []
    },
    {
      "cell_type": "markdown",
      "source": [
        "## Part 2"
      ],
      "metadata": {
        "id": "TKdLkiCvnJrO"
      }
    },
    {
      "cell_type": "code",
      "source": [
        "dict_wires = {}\n",
        "gates = []\n",
        "\n",
        "with open('input.txt') as file:\n",
        "    for line in file:\n",
        "        line = line.strip()\n",
        "        if line and \":\" not in line:\n",
        "            gates.append(line.strip().split())\n",
        "        elif line:\n",
        "            wire, value = line.split(\": \")\n",
        "            dict_wires[wire] = int(value)"
      ],
      "metadata": {
        "id": "EoEeXxBakm2I"
      },
      "execution_count": null,
      "outputs": []
    },
    {
      "cell_type": "code",
      "source": [
        "def categorize_gates(gates):\n",
        "    \"\"\" Categorize gates into different levels and types \"\"\"\n",
        "    for gate in gates:\n",
        "        # Ensure consistent ordering for XOR gate operands\n",
        "        if gate[0][0] > gate[2][0]:\n",
        "            gate[0], gate[2] = gate[2], gate[0]\n",
        "\n",
        "    level1_gates = sorted([gate for gate in gates if gate[0][0] == 'x'])\n",
        "    level2_xor_gates = [gate for gate in gates if gate[1] == 'XOR' and gate not in level1_gates]\n",
        "    and_gates = [gate for gate in gates if gate[1] == 'AND']\n",
        "    or_gates = [gate for gate in gates if gate[1] == 'OR']\n",
        "    final_gates = sorted([gate for gate in gates if gate[4][0] == 'z'], key=lambda x: x[4])\n",
        "\n",
        "    return level1_gates, level2_xor_gates, and_gates, or_gates, final_gates"
      ],
      "metadata": {
        "id": "arVhkMqI0qpr"
      },
      "execution_count": null,
      "outputs": []
    },
    {
      "cell_type": "code",
      "source": [
        "def detect_errors(level1_gates, level2_xor_gates, and_gates, or_gates, final_gates):\n",
        "    wrong = set()\n",
        "    carry_in = None\n",
        "\n",
        "    for i in range(45):\n",
        "        xor_gate, and_gate = level1_gates[i * 2 + 1], level1_gates[i * 2]\n",
        "        final_gate, final_wires = final_gates[i], {final_gates[i][0], final_gates[i][2]}\n",
        "\n",
        "        if i == 0:\n",
        "            if xor_gate[4] != final_gate[4]:\n",
        "                wrong |= {xor_gate[4], final_gate[4]}\n",
        "            carry_in = and_gate[4]\n",
        "        else:\n",
        "            xor_ab = xor_gate[4]\n",
        "            xor2_operands = (xor_gate[4], carry_in) if xor_gate[4] < carry_in else (carry_in, xor_gate[4])\n",
        "\n",
        "            # Match the correct XOR gate from level 2 gates\n",
        "            if final_gate not in level2_xor_gates:\n",
        "                for gate in level2_xor_gates:\n",
        "                    if (gate[0], gate[2]) == xor2_operands:\n",
        "                        wrong |= {final_gate[4], gate[4]}\n",
        "                        final_gate = gate\n",
        "                        break\n",
        "\n",
        "            # Find the AND gate that computes carry-out\n",
        "            and_operands = tuple(sorted((final_gate[0], final_gate[2])))\n",
        "            for gate in and_gates:\n",
        "                if (gate[0], gate[2]) == and_operands:\n",
        "                    or_operand = gate[4]\n",
        "                    break\n",
        "            or_operands = tuple(sorted((and_gate[4], or_operand)))\n",
        "\n",
        "            for gate in or_gates:\n",
        "                if (gate[0], gate[2]) == or_operands:\n",
        "                    carry_in = gate[4]\n",
        "                    break\n",
        "                if or_operand in gate:\n",
        "                    if and_gate[4] == gate[2]:\n",
        "                        break\n",
        "                    wrong |= {and_gate[4]}\n",
        "                    if gate[0] != or_operand:\n",
        "                        wrong.add(gate[0])\n",
        "                    else:\n",
        "                        wrong.add(gate[2])\n",
        "                    break\n",
        "                if and_gate[4] in gate:\n",
        "                    wrong |= {or_operand}\n",
        "                    if gate[0] != and_gate[4]:\n",
        "                        wrong.add(gate[0])\n",
        "                    else:\n",
        "                        wrong.add(gate[2])\n",
        "                    break\n",
        "            carry_in = gate[4]\n",
        "\n",
        "    return wrong\n"
      ],
      "metadata": {
        "id": "Z7Sla-5Z3oMD"
      },
      "execution_count": null,
      "outputs": []
    },
    {
      "cell_type": "code",
      "source": [
        "level1_gates, level2_xor_gates, and_gates, or_gates, final_gates = categorize_gates(gates)\n",
        "wrong_wires = detect_errors(level1_gates, level2_xor_gates, and_gates, or_gates, final_gates)\n",
        "print(','.join(sorted(list(wrong_wires))))\n",
        "# I foun that btn, prv shold be removed"
      ],
      "metadata": {
        "id": "jC7s_YJL03KB"
      },
      "execution_count": null,
      "outputs": []
    },
    {
      "cell_type": "markdown",
      "source": [
        "# Day 25\n",
        "## Part 1"
      ],
      "metadata": {
        "id": "cwwU9Wo5J5iS"
      }
    },
    {
      "cell_type": "code",
      "source": [
        "curr_map = []\n",
        "locks_list = []\n",
        "with open(\"input.txt\", \"r\") as file:\n",
        "    for line in file:\n",
        "        line = line.strip()\n",
        "        if line != \"\":\n",
        "            curr_map.append(line)\n",
        "        else:\n",
        "            locks_list.append(curr_map)\n",
        "            curr_map = []\n",
        "    locks_list.append(curr_map)"
      ],
      "metadata": {
        "id": "miJisxEuQ4GJ"
      },
      "execution_count": null,
      "outputs": []
    },
    {
      "cell_type": "code",
      "source": [
        "def map_to_heights(map):\n",
        "    n = len(map[0])\n",
        "    if set(map[0]) == {'.'}:\n",
        "        type_of_map = True\n",
        "    else:\n",
        "        type_of_map = False\n",
        "    rot_map = [list(r) for r in zip(*map)]\n",
        "    heights = []\n",
        "    for r in rot_map:\n",
        "        if not type_of_map:\n",
        "            heights.append(r.index('.') - 1)\n",
        "        else:\n",
        "            heights.append(n - r.index('#') + 1)\n",
        "    return type_of_map, heights"
      ],
      "metadata": {
        "id": "WFeNYI52XXHA"
      },
      "execution_count": null,
      "outputs": []
    },
    {
      "cell_type": "code",
      "source": [
        "heights_keys = []\n",
        "heights_locks = []\n",
        "for m in locks_list:\n",
        "    k, h = map_to_heights(m)\n",
        "    if k:\n",
        "        heights_keys.append(h)\n",
        "    else:\n",
        "        heights_locks.append(h)"
      ],
      "metadata": {
        "id": "YeZ80NnZRMC8"
      },
      "execution_count": null,
      "outputs": []
    },
    {
      "cell_type": "code",
      "source": [
        "total = 0\n",
        "heights_keys.sort()\n",
        "heights_locks.sort()\n",
        "n = len(locks_list[0])\n",
        "m = len(locks_list[0][0])\n",
        "for k in heights_keys:\n",
        "    for l in heights_locks:\n",
        "        f = 1\n",
        "        for i in range(m):\n",
        "            if k[i] + l[i] >= (n - 1):\n",
        "                f = 0\n",
        "                break\n",
        "        total += f"
      ],
      "metadata": {
        "id": "aT4iGdO8fIpC"
      },
      "execution_count": null,
      "outputs": []
    },
    {
      "cell_type": "code",
      "source": [
        "total"
      ],
      "metadata": {
        "id": "E06BeQD5ahKH"
      },
      "execution_count": null,
      "outputs": []
    },
    {
      "cell_type": "code",
      "source": [],
      "metadata": {
        "id": "DOFLtnM0gf8X"
      },
      "execution_count": null,
      "outputs": []
    }
  ]
}